{
 "cells": [
  {
   "cell_type": "markdown",
   "metadata": {},
   "source": [
    "___\n",
    "\n",
    "<a href='https://www.udemy.com/user/joseportilla/'><img src='../Pierian_Data_Logo.png'/></a>\n",
    "___\n",
    "<center><em>Content Copyright by Pierian Data</em></center>"
   ]
  },
  {
   "cell_type": "markdown",
   "metadata": {},
   "source": [
    "# Guide to Web Scraping\n",
    "\n",
    "Let's get you started with web scraping and Python. Before we begin, here are some important rules to follow and understand:\n",
    "\n",
    "1. Always be respectful and try to get premission to scrape, do not bombard a website with scraping requests, otherwise your IP address may be blocked!\n",
    "2. Be aware that websites change often, meaning your code could go from working to totally broken from one day to the next.\n",
    "3. Pretty much every web scraping project of interest is a unique and custom job, so try your best to generalize the skills learned here.\n",
    "\n",
    "OK, let's get started with the basics!\n",
    "\n",
    "## Basic components of a WebSite\n",
    "\n",
    "### HTML\n",
    "HTML stands for  Hypertext Markup Language and every website on the internet uses it to display information. Even the jupyter notebook system uses it to display this information in your browser. If you right click on a website and select \"View Page Source\" you can see the raw HTML of a web page. This is the information that Python will be looking at to grab information from. Let's take a look at a simple webpage's HTML:\n",
    "\n",
    "    <!DOCTYPE html>  \n",
    "    <html>  \n",
    "        <head>\n",
    "            <title>Title on Browser Tab</title>\n",
    "        </head>\n",
    "        <body>\n",
    "            <h1> Website Header </h1>\n",
    "            <p> Some Paragraph </p>\n",
    "        <body>\n",
    "    </html>"
   ]
  },
  {
   "cell_type": "markdown",
   "metadata": {},
   "source": [
    "Let's breakdown these components.\n",
    "\n",
    "Every <tag> indicates a specific block type on the webpage:\n",
    "\n",
    "    1.<DOCTYPE html> HTML documents will always start with this type declaration, letting the browser know its an HTML file.\n",
    "    2. The component blocks of the HTML document are placed between <html> and </html>.\n",
    "    3. Meta data and script connections (like a link to a CSS file or a JS file) are often placed in the <head> block.\n",
    "    4. The <title> tag block defines the title of the webpage (its what shows up in the tab of a website you're visiting).\n",
    "    5. Is between <body> and </body> tags are the blocks that will be visible to the site visitor.\n",
    "    6. Headings are defined by the <h1> through <h6> tags, where the number represents the size of the heading.\n",
    "    7. Paragraphs are defined by the <p> tag, this is essentially just normal text on the website.\n",
    "\n",
    "    There are many more tags than just these, such as <a> for hyperlinks, <table> for tables, <tr> for table rows, and <td> for table columns, and more!"
   ]
  },
  {
   "cell_type": "markdown",
   "metadata": {},
   "source": [
    "### CSS\n",
    "\n",
    "CSS stands for Cascading Style Sheets, this is what gives \"style\" to a website, including colors and fonts, and even some animations! CSS uses tags such as **id** or **class** to connect an HTML element to a CSS feature, such as a particular color. **id** is a unique id for an HTML tag and must be unique within the HTML document, basically a single use connection. **class** defines a general style that can then be linked to multiple HTML tags. Basically if you only want a single html tag to be red, you would use an id tag, if you wanted several HTML tags/blocks to be red, you would create a class in your CSS doc and then link it to the rest of these blocks."
   ]
  },
  {
   "cell_type": "markdown",
   "metadata": {},
   "source": [
    "### Scraping Guidelines\n",
    "\n",
    "Keep in mind you should always have permission for the website you are scraping! Check a websites terms and conditions for more info. Also keep in mind that a computer can send requests to a website very fast, so a website may block your computer's ip address if you send too many requests too quickly. Lastly, websites change all the time! You will most likely need to update your code often for long term web-scraping jobs."
   ]
  },
  {
   "cell_type": "markdown",
   "metadata": {},
   "source": [
    "## Web Scraping with Python\n",
    "\n",
    "There are a few libraries you will need, you can go to your command line and install them with conda install (if you are using anaconda distribution), or pip install for other python distributions.\n",
    "\n",
    "    conda install requests\n",
    "    conda install lxml\n",
    "    conda install bs4\n",
    "    \n",
    "if you are not using the Anaconda Installation, you can use **pip install** instead of **conda install**, for example:\n",
    "\n",
    "    pip install requests\n",
    "    pip install lxml\n",
    "    pip install bs4\n",
    "    \n",
    "Now let's see what we can do with these libraries.\n",
    "\n",
    "----"
   ]
  },
  {
   "cell_type": "markdown",
   "metadata": {},
   "source": [
    "### Example Task 0 - Grabbing the title of a page\n",
    "\n",
    "Let's start very simple, we will grab the title of a page. Remember that this is the HTML block with the **title** tag. For this task we will use **www.example.com** which is a website specifically made to serve as an example domain. Let's go through the main steps:"
   ]
  },
  {
   "cell_type": "code",
   "execution_count": 2,
   "metadata": {
    "collapsed": true
   },
   "outputs": [],
   "source": [
    "import requests"
   ]
  },
  {
   "cell_type": "code",
   "execution_count": 3,
   "metadata": {
    "collapsed": true
   },
   "outputs": [],
   "source": [
    "# Step 1: Use the requests library to grab the page\n",
    "# Note, this may fail if you have a firewall blocking Python/Jupyter \n",
    "# Note sometimes you need to run this twice if it fails the first time\n",
    "res = requests.get(\"http://www.example.com\")"
   ]
  },
  {
   "cell_type": "markdown",
   "metadata": {},
   "source": [
    "This object is a requests.models.Response object and it actually contains the information from the website, for example:"
   ]
  },
  {
   "cell_type": "code",
   "execution_count": 4,
   "metadata": {},
   "outputs": [
    {
     "data": {
      "text/plain": [
       "requests.models.Response"
      ]
     },
     "execution_count": 4,
     "metadata": {},
     "output_type": "execute_result"
    }
   ],
   "source": [
    "type(res)"
   ]
  },
  {
   "cell_type": "code",
   "execution_count": 5,
   "metadata": {},
   "outputs": [
    {
     "data": {
      "text/plain": [
       "'<!doctype html>\\n<html>\\n<head>\\n    <title>Example Domain</title>\\n\\n    <meta charset=\"utf-8\" />\\n    <meta http-equiv=\"Content-type\" content=\"text/html; charset=utf-8\" />\\n    <meta name=\"viewport\" content=\"width=device-width, initial-scale=1\" />\\n    <style type=\"text/css\">\\n    body {\\n        background-color: #f0f0f2;\\n        margin: 0;\\n        padding: 0;\\n        font-family: -apple-system, system-ui, BlinkMacSystemFont, \"Segoe UI\", \"Open Sans\", \"Helvetica Neue\", Helvetica, Arial, sans-serif;\\n        \\n    }\\n    div {\\n        width: 600px;\\n        margin: 5em auto;\\n        padding: 2em;\\n        background-color: #fdfdff;\\n        border-radius: 0.5em;\\n        box-shadow: 2px 3px 7px 2px rgba(0,0,0,0.02);\\n    }\\n    a:link, a:visited {\\n        color: #38488f;\\n        text-decoration: none;\\n    }\\n    @media (max-width: 700px) {\\n        div {\\n            margin: 0 auto;\\n            width: auto;\\n        }\\n    }\\n    </style>    \\n</head>\\n\\n<body>\\n<div>\\n    <h1>Example Domain</h1>\\n    <p>This domain is for use in illustrative examples in documents. You may use this\\n    domain in literature without prior coordination or asking for permission.</p>\\n    <p><a href=\"https://www.iana.org/domains/example\">More information...</a></p>\\n</div>\\n</body>\\n</html>\\n'"
      ]
     },
     "execution_count": 5,
     "metadata": {},
     "output_type": "execute_result"
    }
   ],
   "source": [
    "res.text"
   ]
  },
  {
   "cell_type": "markdown",
   "metadata": {},
   "source": [
    "____\n",
    "Now we use BeautifulSoup to analyze the extracted page. Technically we could use our own custom script to loook for items in the string of **res.text** but the BeautifulSoup library already has lots of built-in tools and methods to grab information from a string of this nature (basically an HTML file). Using BeautifulSoup we can create a \"soup\" object that contains all the \"ingredients\" of the webpage. Don't ask me about the weird library names, I didn't choose them! :)"
   ]
  },
  {
   "cell_type": "code",
   "execution_count": 6,
   "metadata": {
    "collapsed": true
   },
   "outputs": [],
   "source": [
    "import bs4"
   ]
  },
  {
   "cell_type": "code",
   "execution_count": 7,
   "metadata": {
    "collapsed": true
   },
   "outputs": [],
   "source": [
    "soup = bs4.BeautifulSoup(res.text,\"lxml\")"
   ]
  },
  {
   "cell_type": "code",
   "execution_count": 8,
   "metadata": {},
   "outputs": [
    {
     "data": {
      "text/plain": [
       "<!DOCTYPE html>\n",
       "<html>\n",
       "<head>\n",
       "<title>Example Domain</title>\n",
       "<meta charset=\"utf-8\"/>\n",
       "<meta content=\"text/html; charset=utf-8\" http-equiv=\"Content-type\"/>\n",
       "<meta content=\"width=device-width, initial-scale=1\" name=\"viewport\"/>\n",
       "<style type=\"text/css\">\n",
       "    body {\n",
       "        background-color: #f0f0f2;\n",
       "        margin: 0;\n",
       "        padding: 0;\n",
       "        font-family: -apple-system, system-ui, BlinkMacSystemFont, \"Segoe UI\", \"Open Sans\", \"Helvetica Neue\", Helvetica, Arial, sans-serif;\n",
       "        \n",
       "    }\n",
       "    div {\n",
       "        width: 600px;\n",
       "        margin: 5em auto;\n",
       "        padding: 2em;\n",
       "        background-color: #fdfdff;\n",
       "        border-radius: 0.5em;\n",
       "        box-shadow: 2px 3px 7px 2px rgba(0,0,0,0.02);\n",
       "    }\n",
       "    a:link, a:visited {\n",
       "        color: #38488f;\n",
       "        text-decoration: none;\n",
       "    }\n",
       "    @media (max-width: 700px) {\n",
       "        div {\n",
       "            margin: 0 auto;\n",
       "            width: auto;\n",
       "        }\n",
       "    }\n",
       "    </style>\n",
       "</head>\n",
       "<body>\n",
       "<div>\n",
       "<h1>Example Domain</h1>\n",
       "<p>This domain is for use in illustrative examples in documents. You may use this\n",
       "    domain in literature without prior coordination or asking for permission.</p>\n",
       "<p><a href=\"https://www.iana.org/domains/example\">More information...</a></p>\n",
       "</div>\n",
       "</body>\n",
       "</html>"
      ]
     },
     "execution_count": 8,
     "metadata": {},
     "output_type": "execute_result"
    }
   ],
   "source": [
    "soup"
   ]
  },
  {
   "cell_type": "markdown",
   "metadata": {},
   "source": [
    "Now let's use the **.select()** method to grab elements. We are looking for the 'title' tag, so we will pass in 'title'\n"
   ]
  },
  {
   "cell_type": "code",
   "execution_count": 14,
   "metadata": {},
   "outputs": [
    {
     "data": {
      "text/plain": [
       "[<h1>Example Domain</h1>]"
      ]
     },
     "execution_count": 14,
     "metadata": {},
     "output_type": "execute_result"
    }
   ],
   "source": [
    "soup.select('title')\n",
    "soup.select('h1')"
   ]
  },
  {
   "cell_type": "markdown",
   "metadata": {},
   "source": [
    "Notice what is returned here, its actually a list containing all the title elements (along with their tags). You can use indexing or even looping to grab the elements from the list. Since this object it still a specialized tag, we cna use method calls to grab just the text."
   ]
  },
  {
   "cell_type": "code",
   "execution_count": 10,
   "metadata": {
    "collapsed": true
   },
   "outputs": [],
   "source": [
    "title_tag = soup.select('title')"
   ]
  },
  {
   "cell_type": "code",
   "execution_count": 11,
   "metadata": {},
   "outputs": [
    {
     "data": {
      "text/plain": [
       "<title>Example Domain</title>"
      ]
     },
     "execution_count": 11,
     "metadata": {},
     "output_type": "execute_result"
    }
   ],
   "source": [
    "title_tag[0]"
   ]
  },
  {
   "cell_type": "code",
   "execution_count": 12,
   "metadata": {},
   "outputs": [
    {
     "data": {
      "text/plain": [
       "bs4.element.Tag"
      ]
     },
     "execution_count": 12,
     "metadata": {},
     "output_type": "execute_result"
    }
   ],
   "source": [
    "type(title_tag[0])"
   ]
  },
  {
   "cell_type": "code",
   "execution_count": 13,
   "metadata": {},
   "outputs": [
    {
     "data": {
      "text/plain": [
       "'Example Domain'"
      ]
     },
     "execution_count": 13,
     "metadata": {},
     "output_type": "execute_result"
    }
   ],
   "source": [
    "title_tag[0].getText()"
   ]
  },
  {
   "cell_type": "markdown",
   "metadata": {},
   "source": [
    "### Example Task 1 - Grabbing all elements of a class\n",
    "\n",
    "Let's try to grab all the section headings of the Wikipedia Article on Grace Hopper from this URL: https://en.wikipedia.org/wiki/Grace_Hopper"
   ]
  },
  {
   "cell_type": "code",
   "execution_count": 21,
   "metadata": {
    "collapsed": true
   },
   "outputs": [],
   "source": [
    "# First get the request\n",
    "res = requests.get('https://www.macobserver.com/tips/quick-tip/ios-pages-table-contents/')"
   ]
  },
  {
   "cell_type": "code",
   "execution_count": 22,
   "metadata": {
    "collapsed": true
   },
   "outputs": [],
   "source": [
    "# Create a soup from request\n",
    "soup = bs4.BeautifulSoup(res.text,\"lxml\")"
   ]
  },
  {
   "cell_type": "markdown",
   "metadata": {},
   "source": [
    "Now its time to figure out what we are actually looking for. Inspect the element on the page to see that the section headers have the class \"mw-headline\". Because this is a class and not a straight tag, we need to adhere to some syntax for CSS. In this case"
   ]
  },
  {
   "cell_type": "markdown",
   "metadata": {},
   "source": [
    "<table>\n",
    "\n",
    "<thead >\n",
    "<tr>\n",
    "<th>\n",
    "<p>Syntax to pass to the .select() method</p>\n",
    "</th>\n",
    "<th>\n",
    "<p>Match Results</p>\n",
    "</th>\n",
    "</tr>\n",
    "</thead>\n",
    "<tbody>\n",
    "<tr>\n",
    "<td>\n",
    "<p><code>soup.select('div')</code></p>\n",
    "</td>\n",
    "<td>\n",
    "<p>All elements with the <code>&lt;div&gt;</code> tag</p>\n",
    "</td>\n",
    "</tr>\n",
    "<tr>\n",
    "<td>\n",
    "<p><code>soup.select('#some_id')</code></p>\n",
    "</td>\n",
    "<td>\n",
    "<p>The HTML element containing the <code>id</code> attribute of <code>some_id</code></p>\n",
    "</td>\n",
    "</tr>\n",
    "<tr>\n",
    "<td>\n",
    "<p><code>soup.select('.notice')</code></p>\n",
    "</td>\n",
    "<td>\n",
    "<p>All the HTML elements with the CSS <code>class</code> named <code>notice</code></p>\n",
    "</td>\n",
    "</tr>\n",
    "<tr>\n",
    "<td>\n",
    "<p><code>soup.select('div span')</code></p>\n",
    "</td>\n",
    "<td>\n",
    "<p>Any elements named <code>&lt;span&gt;</code> that are within an element named <code>&lt;div&gt;</code></p>\n",
    "</td>\n",
    "</tr>\n",
    "<tr>\n",
    "<td>\n",
    "<p><code>soup.select('div &gt; span')</code></p>\n",
    "</td>\n",
    "<td>\n",
    "<p>Any elements named <code class=\"literal2\">&lt;span&gt;</code> that are <span><em >directly</em></span> within an element named <code class=\"literal2\">&lt;div&gt;</code>, with no other element in between</p>\n",
    "</td>\n",
    "</tr>\n",
    "<tr>\n",
    "\n",
    "</tr>\n",
    "</tbody>\n",
    "</table>"
   ]
  },
  {
   "cell_type": "code",
   "execution_count": 23,
   "metadata": {},
   "outputs": [
    {
     "data": {
      "text/plain": [
       "[<h2 class=\"wp-block-heading\" id=\"h-what-is-a-table-of-contents-in-pages\">What is a Table of Contents in Pages? </h2>,\n",
       " <h2 class=\"wp-block-heading\" id=\"h-what-is-pages-on-iphone\">What is Pages On iPhone? </h2>,\n",
       " <h2 class=\"wp-block-heading\" id=\"h-does-pages-have-a-table-of-contents\">Does Pages Have a Table of Contents? </h2>,\n",
       " <h2 class=\"wp-block-heading\" id=\"h-before-you-begin\">Before You Begin</h2>,\n",
       " <h2 class=\"wp-block-heading\" id=\"h-how-to-create-a-table-of-contents\">How to Create a Table of Contents</h2>,\n",
       " <h3 class=\"wp-block-heading\" id=\"h-make-a-table-of-contents-in-pages-on-mac\">Make a Table of Contents in Pages On Mac</h3>,\n",
       " <h3 class=\"wp-block-heading\" id=\"h-make-a-table-of-contents-in-pages-on-iphone\">Make a Table of Contents in Pages On iPhone</h3>,\n",
       " <h3 class=\"wp-block-heading\" id=\"h-how-to-make-a-table-of-contents-in-pages-on-ipad\">How to Make a Table of Contents in Pages On iPad</h3>,\n",
       " <h2 class=\"wp-block-heading\" id=\"h-how-to-customize-a-table-in-pages\">How to Customize a Table in Pages</h2>,\n",
       " <h3 class=\"wp-block-heading\" id=\"h-how-to-format-a-table-of-contents\">How to Format a Table of Contents</h3>,\n",
       " <h3 class=\"wp-block-heading\" id=\"h-how-to-update-your-table-of-contents-in-pages\">How to Update Your Table of Contents in Pages</h3>,\n",
       " <h3 class=\"wp-block-heading\" id=\"h-navigating-your-table-of-contents\">Navigating Your Table of Contents</h3>,\n",
       " <h3 class=\"wp-block-heading\" id=\"h-exporting-pages-documents-with-a-toc\">Exporting Pages Documents With a TOC</h3>,\n",
       " <h3 class=\"wp-block-heading\" id=\"h-how-to-delete-a-toc\">How to Delete a TOC</h3>,\n",
       " <h2 class=\"wp-block-heading\" id=\"h-frequently-asked-questions\">Frequently Asked Questions</h2>,\n",
       " <h2 class=\"wp-block-heading\" id=\"h-conclusion\">Conclusion </h2>]"
      ]
     },
     "execution_count": 23,
     "metadata": {},
     "output_type": "execute_result"
    }
   ],
   "source": [
    "# note depending on your IP Address, \n",
    "# this class may be called something different\n",
    "soup.select(\".wp-block-heading\")"
   ]
  },
  {
   "cell_type": "code",
   "execution_count": 24,
   "metadata": {},
   "outputs": [
    {
     "name": "stdout",
     "output_type": "stream",
     "text": [
      "What is a Table of Contents in Pages? \n",
      "What is Pages On iPhone? \n",
      "Does Pages Have a Table of Contents? \n",
      "Before You Begin\n",
      "How to Create a Table of Contents\n",
      "Make a Table of Contents in Pages On Mac\n",
      "Make a Table of Contents in Pages On iPhone\n",
      "How to Make a Table of Contents in Pages On iPad\n",
      "How to Customize a Table in Pages\n",
      "How to Format a Table of Contents\n",
      "How to Update Your Table of Contents in Pages\n",
      "Navigating Your Table of Contents\n",
      "Exporting Pages Documents With a TOC\n",
      "How to Delete a TOC\n",
      "Frequently Asked Questions\n",
      "Conclusion \n"
     ]
    }
   ],
   "source": [
    "for item in soup.select(\".wp-block-heading\"):\n",
    "    print(item.text)"
   ]
  },
  {
   "cell_type": "markdown",
   "metadata": {},
   "source": [
    "### Example Task 3 - Getting an Image from a Website\n",
    "\n",
    "Let's attempt to grab the image of the Deep Blue Computer from this wikipedia article: https://en.wikipedia.org/wiki/Deep_Blue_(chess_computer)"
   ]
  },
  {
   "cell_type": "code",
   "execution_count": 25,
   "metadata": {
    "collapsed": true
   },
   "outputs": [],
   "source": [
    "res = requests.get(\"https://en.wikipedia.org/wiki/Deep_Blue_(chess_computer)\")"
   ]
  },
  {
   "cell_type": "code",
   "execution_count": 26,
   "metadata": {
    "collapsed": true
   },
   "outputs": [],
   "source": [
    "soup = bs4.BeautifulSoup(res.text,'lxml')"
   ]
  },
  {
   "cell_type": "code",
   "execution_count": 39,
   "metadata": {
    "collapsed": true
   },
   "outputs": [],
   "source": [
    "image_info = soup.select('.mw-file-element')"
   ]
  },
  {
   "cell_type": "code",
   "execution_count": 40,
   "metadata": {},
   "outputs": [
    {
     "data": {
      "text/plain": [
       "[<img alt=\"This is a good article. Click here for more information.\" class=\"mw-file-element\" data-file-height=\"185\" data-file-width=\"180\" decoding=\"async\" height=\"20\" src=\"//upload.wikimedia.org/wikipedia/en/thumb/9/94/Symbol_support_vote.svg/19px-Symbol_support_vote.svg.png\" srcset=\"//upload.wikimedia.org/wikipedia/en/thumb/9/94/Symbol_support_vote.svg/29px-Symbol_support_vote.svg.png 1.5x, //upload.wikimedia.org/wikipedia/en/thumb/9/94/Symbol_support_vote.svg/39px-Symbol_support_vote.svg.png 2x\" width=\"19\"/>,\n",
       " <img class=\"mw-file-element\" data-file-height=\"601\" data-file-width=\"400\" decoding=\"async\" height=\"331\" src=\"//upload.wikimedia.org/wikipedia/commons/thumb/b/be/Deep_Blue.jpg/220px-Deep_Blue.jpg\" srcset=\"//upload.wikimedia.org/wikipedia/commons/thumb/b/be/Deep_Blue.jpg/330px-Deep_Blue.jpg 1.5x, //upload.wikimedia.org/wikipedia/commons/b/be/Deep_Blue.jpg 2x\" width=\"220\"/>,\n",
       " <img class=\"mw-file-element\" data-file-height=\"64\" data-file-width=\"64\" decoding=\"async\" height=\"150\" src=\"//upload.wikimedia.org/wikipedia/commons/thumb/5/52/Chess_Programming.svg/150px-Chess_Programming.svg.png\" srcset=\"//upload.wikimedia.org/wikipedia/commons/thumb/5/52/Chess_Programming.svg/225px-Chess_Programming.svg.png 1.5x, //upload.wikimedia.org/wikipedia/commons/thumb/5/52/Chess_Programming.svg/300px-Chess_Programming.svg.png 2x\" width=\"150\"/>,\n",
       " <img class=\"mw-file-element\" data-file-height=\"600\" data-file-width=\"800\" decoding=\"async\" height=\"165\" src=\"//upload.wikimedia.org/wikipedia/commons/thumb/6/6f/Kasparov_Magath_1985_Hamburg-2.png/220px-Kasparov_Magath_1985_Hamburg-2.png\" srcset=\"//upload.wikimedia.org/wikipedia/commons/thumb/6/6f/Kasparov_Magath_1985_Hamburg-2.png/330px-Kasparov_Magath_1985_Hamburg-2.png 1.5x, //upload.wikimedia.org/wikipedia/commons/thumb/6/6f/Kasparov_Magath_1985_Hamburg-2.png/440px-Kasparov_Magath_1985_Hamburg-2.png 2x\" width=\"220\"/>,\n",
       " <img class=\"mw-file-element\" data-file-height=\"2756\" data-file-width=\"2067\" decoding=\"async\" height=\"293\" src=\"//upload.wikimedia.org/wikipedia/commons/thumb/8/83/One_of_Deep_Blue%27s_processors_%282586060990%29.jpg/220px-One_of_Deep_Blue%27s_processors_%282586060990%29.jpg\" srcset=\"//upload.wikimedia.org/wikipedia/commons/thumb/8/83/One_of_Deep_Blue%27s_processors_%282586060990%29.jpg/330px-One_of_Deep_Blue%27s_processors_%282586060990%29.jpg 1.5x, //upload.wikimedia.org/wikipedia/commons/thumb/8/83/One_of_Deep_Blue%27s_processors_%282586060990%29.jpg/440px-One_of_Deep_Blue%27s_processors_%282586060990%29.jpg 2x\" width=\"220\"/>,\n",
       " <img alt=\"icon\" class=\"mw-file-element\" data-file-height=\"512\" data-file-width=\"512\" decoding=\"async\" height=\"28\" src=\"//upload.wikimedia.org/wikipedia/commons/thumb/0/05/Chess.svg/28px-Chess.svg.png\" srcset=\"//upload.wikimedia.org/wikipedia/commons/thumb/0/05/Chess.svg/42px-Chess.svg.png 1.5x, //upload.wikimedia.org/wikipedia/commons/thumb/0/05/Chess.svg/56px-Chess.svg.png 2x\" width=\"28\"/>,\n",
       " <img alt=\"icon\" class=\"mw-file-element\" data-file-height=\"512\" data-file-width=\"512\" decoding=\"async\" height=\"28\" src=\"//upload.wikimedia.org/wikipedia/commons/thumb/0/05/Chess.svg/28px-Chess.svg.png\" srcset=\"//upload.wikimedia.org/wikipedia/commons/thumb/0/05/Chess.svg/42px-Chess.svg.png 1.5x, //upload.wikimedia.org/wikipedia/commons/thumb/0/05/Chess.svg/56px-Chess.svg.png 2x\" width=\"28\"/>,\n",
       " <img alt=\"\" class=\"mw-file-element\" data-file-height=\"185\" data-file-width=\"180\" decoding=\"async\" height=\"16\" src=\"//upload.wikimedia.org/wikipedia/en/thumb/9/96/Symbol_category_class.svg/16px-Symbol_category_class.svg.png\" srcset=\"//upload.wikimedia.org/wikipedia/en/thumb/9/96/Symbol_category_class.svg/23px-Symbol_category_class.svg.png 1.5x, //upload.wikimedia.org/wikipedia/en/thumb/9/96/Symbol_category_class.svg/31px-Symbol_category_class.svg.png 2x\" width=\"16\"/>,\n",
       " <img alt=\"\" class=\"mw-file-element\" data-file-height=\"1376\" data-file-width=\"1024\" decoding=\"async\" height=\"16\" src=\"//upload.wikimedia.org/wikipedia/en/thumb/4/4a/Commons-logo.svg/12px-Commons-logo.svg.png\" srcset=\"//upload.wikimedia.org/wikipedia/en/thumb/4/4a/Commons-logo.svg/18px-Commons-logo.svg.png 1.5x, //upload.wikimedia.org/wikipedia/en/thumb/4/4a/Commons-logo.svg/24px-Commons-logo.svg.png 2x\" width=\"12\"/>,\n",
       " <img alt=\"\" class=\"mw-file-element\" data-file-height=\"185\" data-file-width=\"180\" decoding=\"async\" height=\"16\" src=\"//upload.wikimedia.org/wikipedia/commons/thumb/8/83/Symbol_template_class_pink.svg/16px-Symbol_template_class_pink.svg.png\" srcset=\"//upload.wikimedia.org/wikipedia/commons/thumb/8/83/Symbol_template_class_pink.svg/23px-Symbol_template_class_pink.svg.png 1.5x, //upload.wikimedia.org/wikipedia/commons/thumb/8/83/Symbol_template_class_pink.svg/31px-Symbol_template_class_pink.svg.png 2x\" width=\"16\"/>,\n",
       " <img alt=\"Edit this at Wikidata\" class=\"mw-file-element\" data-file-height=\"20\" data-file-width=\"20\" decoding=\"async\" height=\"10\" src=\"//upload.wikimedia.org/wikipedia/en/thumb/8/8a/OOjs_UI_icon_edit-ltr-progressive.svg/10px-OOjs_UI_icon_edit-ltr-progressive.svg.png\" srcset=\"//upload.wikimedia.org/wikipedia/en/thumb/8/8a/OOjs_UI_icon_edit-ltr-progressive.svg/15px-OOjs_UI_icon_edit-ltr-progressive.svg.png 1.5x, //upload.wikimedia.org/wikipedia/en/thumb/8/8a/OOjs_UI_icon_edit-ltr-progressive.svg/20px-OOjs_UI_icon_edit-ltr-progressive.svg.png 2x\" width=\"10\"/>]"
      ]
     },
     "execution_count": 40,
     "metadata": {},
     "output_type": "execute_result"
    }
   ],
   "source": [
    "image_info"
   ]
  },
  {
   "cell_type": "code",
   "execution_count": 41,
   "metadata": {},
   "outputs": [
    {
     "data": {
      "text/plain": [
       "11"
      ]
     },
     "execution_count": 41,
     "metadata": {},
     "output_type": "execute_result"
    }
   ],
   "source": [
    "len(image_info)"
   ]
  },
  {
   "cell_type": "code",
   "execution_count": 42,
   "metadata": {
    "collapsed": true
   },
   "outputs": [],
   "source": [
    "computer = image_info[1]"
   ]
  },
  {
   "cell_type": "code",
   "execution_count": 43,
   "metadata": {},
   "outputs": [
    {
     "data": {
      "text/plain": [
       "bs4.element.Tag"
      ]
     },
     "execution_count": 43,
     "metadata": {},
     "output_type": "execute_result"
    }
   ],
   "source": [
    "type(computer)"
   ]
  },
  {
   "cell_type": "markdown",
   "metadata": {},
   "source": [
    "You can make dictionary like calls for parts of the Tag, in this case, we are interested in the **src** , or \"source\" of the image, which should be its own .jpg or .png link:"
   ]
  },
  {
   "cell_type": "code",
   "execution_count": 44,
   "metadata": {},
   "outputs": [
    {
     "data": {
      "text/plain": [
       "'//upload.wikimedia.org/wikipedia/commons/thumb/b/be/Deep_Blue.jpg/220px-Deep_Blue.jpg'"
      ]
     },
     "execution_count": 44,
     "metadata": {},
     "output_type": "execute_result"
    }
   ],
   "source": [
    "computer['src']"
   ]
  },
  {
   "cell_type": "markdown",
   "metadata": {},
   "source": [
    "We can actually display it with a markdown cell with the following:\n",
    "\n",
    "    <img src='https://upload.wikimedia.org/wikipedia/commons/thumb/b/be/Deep_Blue.jpg/220px-Deep_Blue.jpg'>"
   ]
  },
  {
   "cell_type": "markdown",
   "metadata": {},
   "source": [
    "<img src='https://upload.wikimedia.org/wikipedia/commons/thumb/b/be/Deep_Blue.jpg/220px-Deep_Blue.jpg'>"
   ]
  },
  {
   "cell_type": "markdown",
   "metadata": {},
   "source": [
    "Now that you have the actual src link, you can grab the image with requests and get along with the .content attribute. Note how we had to add https:// before the link, if you don't do this, requests will complain (but it gives you a pretty descriptive error code)."
   ]
  },
  {
   "cell_type": "code",
   "execution_count": 45,
   "metadata": {
    "collapsed": true
   },
   "outputs": [],
   "source": [
    "image_link = requests.get('https://upload.wikimedia.org/wikipedia/commons/thumb/b/be/Deep_Blue.jpg/220px-Deep_Blue.jpg')"
   ]
  },
  {
   "cell_type": "code",
   "execution_count": 46,
   "metadata": {},
   "outputs": [
    {
     "data": {
      "text/plain": [
       "b'\\xff\\xd8\\xff\\xe1\\x00\\x80Exif\\x00\\x00MM\\x00*\\x00\\x00\\x00\\x08\\x00\\x05\\x01\\x1a\\x00\\x05\\x00\\x00\\x00\\x01\\x00\\x00\\x00J\\x01\\x1b\\x00\\x05\\x00\\x00\\x00\\x01\\x00\\x00\\x00R\\x01(\\x00\\x03\\x00\\x00\\x00\\x01\\x00\\x02\\x00\\x00\\x01;\\x00\\x02\\x00\\x00\\x00\\x1e\\x00\\x00\\x00Z\\x02\\x13\\x00\\x03\\x00\\x00\\x00\\x01\\x00\\x01\\x00\\x00\\x00\\x00\\x00\\x00\\x00\\x00\\x00H\\x00\\x00\\x00\\x01\\x00\\x00\\x00H\\x00\\x00\\x00\\x01Jim Gardner - thejimmyjob.com\\x00\\xff\\xe2\\x02@ICC_PROFILE\\x00\\x01\\x01\\x00\\x00\\x020ADBE\\x02\\x10\\x00\\x00mntrRGB XYZ \\x07\\xcf\\x00\\x06\\x00\\x03\\x00\\x00\\x00\\x00\\x00\\x00acspAPPL\\x00\\x00\\x00\\x00none\\x00\\x00\\x00\\x00\\x00\\x00\\x00\\x00\\x00\\x00\\x00\\x00\\x00\\x00\\x00\\x00\\x00\\x00\\xf6\\xd6\\x00\\x01\\x00\\x00\\x00\\x00\\xd3-ADBE\\x00\\x00\\x00\\x00\\x00\\x00\\x00\\x00\\x00\\x00\\x00\\x00\\x00\\x00\\x00\\x00\\x00\\x00\\x00\\x00\\x00\\x00\\x00\\x00\\x00\\x00\\x00\\x00\\x00\\x00\\x00\\x00\\x00\\x00\\x00\\x00\\x00\\x00\\x00\\x00\\x00\\x00\\x00\\x00\\x00\\x00\\x00\\ncprt\\x00\\x00\\x00\\xfc\\x00\\x00\\x002desc\\x00\\x00\\x010\\x00\\x00\\x00kwtpt\\x00\\x00\\x01\\x9c\\x00\\x00\\x00\\x14bkpt\\x00\\x00\\x01\\xb0\\x00\\x00\\x00\\x14rTRC\\x00\\x00\\x01\\xc4\\x00\\x00\\x00\\x0egTRC\\x00\\x00\\x01\\xd4\\x00\\x00\\x00\\x0ebTRC\\x00\\x00\\x01\\xe4\\x00\\x00\\x00\\x0erXYZ\\x00\\x00\\x01\\xf4\\x00\\x00\\x00\\x14gXYZ\\x00\\x00\\x02\\x08\\x00\\x00\\x00\\x14bXYZ\\x00\\x00\\x02\\x1c\\x00\\x00\\x00\\x14text\\x00\\x00\\x00\\x00Copyright 1999 Adobe Systems Incorporated\\x00\\x00\\x00desc\\x00\\x00\\x00\\x00\\x00\\x00\\x00\\x11Adobe RGB (1998)\\x00\\x00\\x00\\x00\\x00\\x00\\x00\\x00\\x00\\x00\\x00\\x00\\x00\\x00\\x00\\x00\\x00\\x00\\x00\\x00\\x00\\x00\\x00\\x00\\x00\\x00\\x00\\x00\\x00\\x00\\x00\\x00\\x00\\x00\\x00\\x00\\x00\\x00\\x00\\x00\\x00\\x00\\x00\\x00\\x00\\x00\\x00\\x00\\x00\\x00\\x00\\x00\\x00\\x00\\x00\\x00\\x00\\x00\\x00\\x00\\x00\\x00\\x00\\x00\\x00\\x00\\x00\\x00\\x00\\x00\\x00\\x00\\x00\\x00\\x00\\x00\\x00\\x00\\x00\\x00XYZ \\x00\\x00\\x00\\x00\\x00\\x00\\xf3Q\\x00\\x01\\x00\\x00\\x00\\x01\\x16\\xccXYZ \\x00\\x00\\x00\\x00\\x00\\x00\\x00\\x00\\x00\\x00\\x00\\x00\\x00\\x00\\x00\\x00curv\\x00\\x00\\x00\\x00\\x00\\x00\\x00\\x01\\x023\\x00\\x00curv\\x00\\x00\\x00\\x00\\x00\\x00\\x00\\x01\\x023\\x00\\x00curv\\x00\\x00\\x00\\x00\\x00\\x00\\x00\\x01\\x023\\x00\\x00XYZ \\x00\\x00\\x00\\x00\\x00\\x00\\x9c\\x18\\x00\\x00O\\xa5\\x00\\x00\\x04\\xfcXYZ \\x00\\x00\\x00\\x00\\x00\\x004\\x8d\\x00\\x00\\xa0,\\x00\\x00\\x0f\\x95XYZ \\x00\\x00\\x00\\x00\\x00\\x00&1\\x00\\x00\\x10/\\x00\\x00\\xbe\\x9c\\xff\\xdb\\x00C\\x00\\x04\\x03\\x03\\x04\\x03\\x03\\x04\\x04\\x03\\x04\\x05\\x04\\x04\\x05\\x06\\n\\x07\\x06\\x06\\x06\\x06\\r\\t\\n\\x08\\n\\x0f\\r\\x10\\x10\\x0f\\r\\x0f\\x0e\\x11\\x13\\x18\\x14\\x11\\x12\\x17\\x12\\x0e\\x0f\\x15\\x1c\\x15\\x17\\x19\\x19\\x1b\\x1b\\x1b\\x10\\x14\\x1d\\x1f\\x1d\\x1a\\x1f\\x18\\x1a\\x1b\\x1a\\xff\\xdb\\x00C\\x01\\x04\\x05\\x05\\x06\\x05\\x06\\x0c\\x07\\x07\\x0c\\x1a\\x11\\x0f\\x11\\x1a\\x1a\\x1a\\x1a\\x1a\\x1a\\x1a\\x1a\\x1a\\x1a\\x1a\\x1a\\x1a\\x1a\\x1a\\x1a\\x1a\\x1a\\x1a\\x1a\\x1a\\x1a\\x1a\\x1a\\x1a\\x1a\\x1a\\x1a\\x1a\\x1a\\x1a\\x1a\\x1a\\x1a\\x1a\\x1a\\x1a\\x1a\\x1a\\x1a\\x1a\\x1a\\x1a\\x1a\\x1a\\x1a\\x1a\\x1a\\x1a\\x1a\\xff\\xc0\\x00\\x11\\x08\\x01K\\x00\\xdc\\x03\\x01\"\\x00\\x02\\x11\\x01\\x03\\x11\\x01\\xff\\xc4\\x00\\x1d\\x00\\x00\\x00\\x06\\x03\\x01\\x00\\x00\\x00\\x00\\x00\\x00\\x00\\x00\\x00\\x00\\x00\\x02\\x03\\x04\\x05\\x07\\x08\\x00\\x01\\x06\\t\\xff\\xc4\\x00U\\x10\\x00\\x01\\x03\\x02\\x04\\x03\\x04\\x06\\x05\\x08\\x04\\t\\x0b\\x05\\x01\\x00\\x01\\x02\\x03\\x11\\x00\\x04\\x05\\x12!1\\x06\\x07A\\x13\"Qa\\x08\\x142q\\x81\\x91\\x15#\\xa1\\xb1\\xc1$3BRbr\\xd1\\xf0\\x164\\x82\\x92%&Ss\\xa2\\xb4\\xc2\\xe1\\xf1\\x1756CDcft\\xa3\\xb2\\xd2\\x18\\x83\\x84\\x94\\xb38\\xff\\xc4\\x00\\x1b\\x01\\x00\\x02\\x03\\x01\\x01\\x01\\x00\\x00\\x00\\x00\\x00\\x00\\x00\\x00\\x00\\x00\\x01\\x02\\x00\\x03\\x04\\x06\\x05\\x07\\xff\\xc4\\x004\\x11\\x00\\x02\\x02\\x01\\x02\\x04\\x03\\x06\\x04\\x06\\x03\\x00\\x00\\x00\\x00\\x00\\x00\\x01\\x02\\x11\\x03!1\\x04\\x12AQ\\x05\\x14q\\x13\"2a\\xa1\\xb1R\\x81\\xd1\\xf0\\x15#$b\\xc1\\xe13r\\x91\\xff\\xda\\x00\\x0c\\x03\\x01\\x00\\x02\\x11\\x03\\x11\\x00?\\x00\\x90Y\\xe7\\x86\\x1fe\\xc6|/\\x88\\xe3\\xf8k\\xb6\\xec[\\xbe\\xebn;j\\xbe\\xd4\\';E3\\x94\\xc1\\x89\"w\\xd2\\xac\\xbf\\x0f\\xe3\\xf8w\\x13\\xe0\\xd6\\x98\\xbe\\x07q\\xebX}\\xd2Ie\\xcc\\x85\\x13\\x04\\x83\\xa1\\xd4A\\x06\\xbc\\xd8\\xbf\\xc5\\xd7\\x7f\\x8a\\xd9\\x0b\\x90\\x95\\xa5\\x0e\\xa99=\\x90J\\x84\\x05ht)$\\x11\\xee\\xab\\xd1\\xe8\\xee\\xe6~Q`\\x00\\x19\\x08]\\xca~O*\\xbd\\xaf\\x13\\xf0\\xdc\\x1c/\\r\\xedq\\xaa|\\xd5\\xbe\\x94\\xd5\\xfa\\xf4<\\xdf\\x0f\\xe3\\xf3q9\\xbd\\x9c\\xdd\\xae[\\xdb]\\xeb\\xd3\\xa9)\\x8d\\xe8T\\x10hU\\xcc\\x9e\\xf0*\\xc2\\x02\\x81J\\x80RH\\x82\\x08\\x90EhV\\xe8\\x8arj\\xe1\\xdcC\\x86\\x9cU\\xc7\\x05\\xba\\x95\\xd8\\x04+6\\x01p\\xb0\\x9by\\xdc\\x1bw \\x96\\x0f\\xecw\\x9a;\\x04\\xa0\\x92\\xaax\\xc2x\\x96\\xc7\\x15\\xb8U\\x90\\xedl\\xb1F\\xd1\\x9d\\xdc>\\xed!\\xbb\\x84\\'@U\\x96HZd\\xc6t\\x15 \\x9d\\x94i\\xda\\x90b\\xb8&\\x1f\\x8d\\xb4\\xd3x\\xa5\\xaa_,/\\xb4a\\xc0J\\x1ca\\x7f\\xae\\xdb\\x89\\x85!^i \\xd3\\x11\\xbb\\xdcq\\x1a\\xd6\\x8e\\xc7\\xdd\\\\\\xb9^=\\xc3V\\xe9\\xed;n+\\xb2l\\xf7\\x96\\x94\\xa1\\xbb\\xe4#]JFV\\xdf\\x8f \\x85@\\xd0-Z\\x17\\xac+\\x19\\xb0\\xc7-\\x15u\\x84]7t\\xcaV[YL\\x856\\xb1\\xba\\x16\\x93\\xdeB\\xc4\\x89J\\x80#\\xa8\\xa2+Tp?G5\\x8eq^!l\\xf2\\xee\\xec\\xca./\\x1cb\\xe6\\xd1\\xf2\\xd3\\xcd8\\x15f\\x9c\\xc9P\\xf8\\xcaH)P0\\xa0F\\x95\\xd1\\x8e\\x13\\xbe\\xbc\\xc4\\xf0\\xab\\xcc\\x7f\\x1c]\\xfa0\\xa5)L6\\xcd\\xa2m\\xfbe\\x1c\\xb0\\xb7\\x88\\'1\\x05 \\x8c\\x99\\x133 \\xe8\\x03N\\x10?\\xc7\\xcb\\xd4\\xa6t7\\xa4\\xf8j\\xed\\xa7\\xdb\\xa5H\\x06\\xa0\\xd2uCCh\\x1e\\xbf\\x88\\xce\\xc6\\xe0k\\xff\\x00\\xdan\\x968!\\x87=\\xdf\\x8d\\'n}{\\x10\\x03\\xfc\\xbaO\\xfe\\x9a)K\\xff\\x00\\xd5\\xdd\\xfd\\xdf\\xc4S\\xde\\x85Kr\\x9f\\xfa_\\x88\\xe3n\\x11\\xf1\\xfa\\x16\\xe7\\xff\\x00\\xee\\xddr>\\x8e\\x0c\\xad\\xeet\\xf0\\xd7d5m\\xbb\\xc5\\x15\\x05e\\xca=]B|\\xf5P\\xd3\\xcezW_\\xe9\\x82?\\xc7n\\x0f=>\\x87\\xba\\xff\\x00\\xfb\\xb7\\\\\\xc7\\xa3Qps\\x9b\\x87\\xfb\\x14\\xa0\\xcd\\xb5\\xe8T\\xaa\\x02S\\xd8\\xef\\xef\\x9c\\xbay\\x9f\\n8\\xb7^\\x9f\\xe0\\x996/Hq\\xd6K\\xa1\\xeb\\xbe\\xeby{\\xca@\\xd4\\x91\\xe0>\\xea0\\\\\\xbe\\x96{WP\\x94\\xa70JA\\x10H$\\x00H\\x9d7\\xdb\\xfe\\x14\\xd5\\x88\\xe28o\\x0c\\x0cK\\x1c\\xe2lQ\\x16\\x96M!\\xb0\\xa7n\\x9e\\x08e\\x98\\x07D\\x03\\xb2\\x94N\\xc2T\\xae\\xe8\\xd7A\\\\\\xb5\\xb7\\x12\\xe3\\x9c\\xc1n\\xf5\\x18-\\x95\\xff\\x00\\x0c\\xf0\\xdb\\xac\\xf6v\\xd8\\xcb\\xc8J/_t\\xb8\\x80\\x95\\xb2\\xc3\\x89PB2\\xe79\\x9c\\x19\\x89\"\\x12\\x98\\x9a\\xd4\\xa1~\\x86G4\\xb4\\xeat\\xf8\\xc7\\x1d\\xe0\\x1c?\\x8bYa\\x18\\xc6\\'n\\xc6)z%\\x8bD\\x15:\\xf2\\x93\\xb6b\\x84\\x82BgL\\xc6\\x04\\xe94\\xfe\\x97\\xd2\\xa4\\x85\\x00\\xa8\"F\\x95\\xccp\\xaf\\ta\\x1c3m\\xeb\\x96\\xadv\\x98\\x8d\\xc5\\xbb)\\xbd\\xc4\\xee\\x97\\xda\\\\\\xdc\\x96\\xdbJ\\x02\\x9duZ\\xa8\\xc2F\\xa4\\xd3\\xa2\\xb15\\xdc+\\xb3\\xc3[.\\x1e\\xae(h=\\xc3\\xaf\\xc6\\x05+\\x8a\\xe8\\x15)u\\x1dC\\x89;\\x1d|\\xc4P\\xe9\\x9d\\xbb$\\x97\\x02\\xee\\xdcU\\xcb\\xfe\\xfd\\xbf\\x87\\xc2\\x9c[iP$\\xe4H\\x1a%4\\x94:l>\\xb2\\xb0\\x08\\x15\\x94\\x062\\xb2\\xb2\\xb2\\xa1\\x0c\\xac\\xa0\\xa9iN\\xe7_\\x0e\\xb4\\x1c\\xeb;#O5E\\x0bD<\\x97\\xb9w&\\'o\\x1b\\x8b\\x91\\xd7a\\x9bz\\xbe\\xfe\\x8c\\xcf\\x17yK\\x87\\x83\\xff\\x00W}v\\x9f\\xfdI\\xfck\\xce\\xccF\\xf8\\x9cI\\x913\\xf9H\\xf7\\x01\\x98U\\xdf\\xf4k\\xe6\\x1e\\x07\\x83r\\xca\\xe1\\x8ci\\xdb\\xeb\\x14\\xdab\\xb7!O\\xbb\\x86\\\\\\x16 \\xe52\\x1dJ\\n7\\xdfP~b{O\\x1b_\\xd0M\\x7fz\\xfb4s\\x1e\\ro\\x8b\\x8f\\xfd\\x1f\\xdd\\x16XP\\x85r\\x83\\x99|\\x1a\\x10\\x95\\xb9\\xc58CAH\\x0b\\x01\\xdb\\xa0\\xd9\\x88\\x99\\x85A\\x14\\xe1k\\xc6<7|\\xa0\\x9b\\x1e\"\\xc1\\xee\\x96A9Z\\xc4\\x1aQ\\xd3}3W\\xcf\\xed\\x1d\\xabO\\xb0\\xf9B\\xa4i\\xc4\\xecU\\xec\\xdfZ\\x13\\x13\\xa5\\xc26\\xf1\\xde\\x8cM\\xfd\\xaa\\x94R\\x9b\\xabr\\xa12\\x03\\xe9\\xe9\\xbfZd#\\x198\\xcb\\x98\\\\+\\xcb\\xdb6n\\xf8\\xdb\\x1f\\xb1\\xc1\\x19|\\xa83\\xeb.\\xc2\\xde\\xca%Y\\x10%K\\x89\\x13\\x00\\xee<j%\\xbb\\xf4\\xc9\\xe5}\\xb2\\xd4\\x96\\x9d\\xc7\\xae\\xc0\\x98SX;\\x80\\x1fvx\\xa8\\xa7\\xd3\\x97\\x10\\xb4\\xb9\\xc4\\xb9t\\xab\\x1b\\xab{\\x95%\\x9cQ+,\\xba\\x95\\x94\\xca\\xadw\\x83\\xa6\\xc7\\xe4|*\\xae\\xa1\\x87/\\x1ee\\x86R\\x14\\xf3\\xee!\\xa6\\xc2\\x94\\x12\\n\\x94BR\\t$\\x01$\\x8dI\\x00yS%b2\\xf49\\xe9\\xb5\\xcb\\x94\\x92\\x1b\\xc2\\xf8\\xad\\xe3\\xfb8sI\\x9f\\xef:+\\x95\\xc7=/\\xb9y}|\\xd6)\\x86\\xe0\\x1ck\\x87\\xe2\\xed\\x80\\x9f^\\xb4b\\xcd\\xb5\\xba\\x8f\\xf2n\\xa5O\\x14\\xba\\x8dt\\x0b\\x04\\xa6III\\xd6\\xab\\xc7\\xfc\\x88\\xf3\\x07\\xd6Z\\xb7W\\x0c\\x94>\\xf5\\xd2\\xad\\x10\\x93\\x88\\xda\\x88xOqP\\xe1\\xcad@\\'B\\xa2\\x94\\xcc\\x91<\\x9e7\\xc3x\\xaf\\r\\x8c1x\\xe5\\x98\\xb2V)f/m\\x10]J\\x96Z\\',\\xa9\\x00\\xe6A\\x9e\\x8a\\x00\\xd5\\x9c\\x8c\\x17E\\x9co\\xd3+\\x87\\xed8\\x92\\xe3\\x15\\xb6\\xe0\\xfcm\\xe6\\x9d/\\x94\\xa1w\\x16\\xe8\\\\8-\\x88\\x9e\\xf1\\x1a-\\x85\\xf5\\x88P2L\\x80\\xe4\\xe7\\xa7\\xa5\\x88\\xfc\\xcf/15\\x7f\\x9c\\xc5YO\\xdc\\rS\\x95\\x88#N\\xbb\\xc7\\x95\\x16\\x0eS\\xa9\\xd7\\xa1\\xf8Q\\xe5\\x15\\xca\\xcbj\\xf7\\xa7\\x82m}r\\xe8r\\xdd\\xc7B\\xd6\\x97 \\xe3\\xe9I\\x00%)\\xff\\x00$gj:\\xfb\\xd3\\xc5\\xab\\x9c=\\xb7p\\x0e_\\xbc\\xe9X\\x87=\\x7f\\x18KYN\\xba\\'\\xb3B\\xb3\\r70|\\xaa\\x9c\\xe2?\\xd4n4 \\x94\\x83\\xe1\\xb1\\x15\\xac\\x18\\xce\\x14%^\\xff\\x00>\\xf2\\xb4\\xa9@&>js\\xfa\\xe3\\x9a\\xb8\\xbe\\x17\\x88b<.\\xce\\x16\\xe6\\x1bj\\xed\\xb2\\x10\\xc6(\\xb7R\\xe0[\\x89T\\x92[LFP:\\xcc\\x9ah\\xe0^p_\\xf0\\x17\\x14\\xd9\\xf1\\x1e\\r\\x83\\xda9yj\\x97R\\x96\\xeen\\x16P\\xb4\\xb8\\x9c\\xaa\\x06\\x00#\\xa1\\x07\\xcb\\xadGk\\x10H\\x9e\\xbd<f\\xb4\\x95\\x14\\x93\\xde\\x827\\xefu\\xa7\\x8cTv\\x16M\\xbd\\x195\\xaf\\xd2s\\x8b.\\xf8\\x8d8\\xf67\\x82\\xe0\\\\C\\x88\\xb4\\xa2\\xab1\\x89\\x07\\x96\\xc5\\x8c\\xe8{\\x06R\\xb0\\x94\\x98\\xd31\\x95\\x9e\\xaa5\\xd3;\\xe9\\xbb\\xcc\\x87\\x91\\x95X?\\x07\\xa1 \\x83\\xfdN\\xe5[\\x19\\xea\\xf5Axw\\x07c\\xd8\\xc6\\x161L+\\r]\\xed\\x89q\\xc6\\xf3\\xb6\\xeaJ\\xb3\"3\\xf7\\'6\\x92$\\xc1\\x00\\x10L\\rix\\xe5\\xa7\\x17\\xe6y\\x1f@\\xdc\\x8e\\xc5KK\\x92\\xa4\\x80\\x92\\x90s\\x1d\\xf6\\x80L\\xec@$lb\\xdbl\\xa5A-\\x89Y\\xefL^f\\xdceJ\\xad\\xf8U\\t\\x10\\x10\\x81\\x858\\xa0\\x8fvg\\xa9\\xd3\\t\\xf4\\xc9\\xe6C.\\xba.\\xb0\\xfe\\x15\\xbaeh9ZM\\x8b\\xcc\\xe5T\\x182\\x1e$\\x8f#\\xf3\\x15\\x04\\xdf\\xf0\\x8e3\\x84`\\xecb\\xd8\\x8d\\xbbV\\xf6w*\\x01\\xac\\xd7\\t\\xce\\xe6\\xa9\\x1d\\xd4\\xfe\\x90\\x05@\\x1c\\xa4\\xe52\\x0ce0\\x82\\xd4\\xc3\\x83q \\xce\\x9d \\xd4dQG\\xa9\\x9c\\x9b\\xe3\\xb7y\\x99\\xcb\\x9c\\x1f\\x8a.p\\xd6\\xf0\\x97\\xef\\xbbd\\xb9l\\xd3\\xe5\\xe4\\xa5M<\\xb6\\x89\\x0b)I \\xe4\\x98#I\\x8dbk\\xbc\\xa8g\\xd1DG!8L\\xf8\\xaa\\xf4\\xfc\\xef\\x1f\\xa9\\x9ai%I\\x8d\\x1d\\x8c\\xac\\xadMn\\x96\\xc64U\\xbf\\x95k\\xda\\x12\\x0e\\x87\\xc2\\x85Z)\\nII\\x00\\x82 \\x8a\\x14\\xc8`HN\\xc2\\xb3J\\n\\x92\\x80\\xd1J\\xbb\\xa8\\x88\\xd0\\xe5\\x81\\xef\\xe9D\\x8b\\xa6b\\x10V\\xe0\\x1aJP\\xa5\\x8f\\x98\\x1a\\xd1\\xd8\\x87\\x93\\x9c\\xd3\\xba\\xc3]\\xe2@\\xd6\\x11\\xc3\\xb8F\\x05sb\\xea\\x93x\\xe6\\t\\x88\\xbbwg|\\xbc\\xe9Z^g6\\x88FS\\xa0\\x065\\xe9\\x11S\\xf7 \\xf9\\x82\\xbc#\\x05\\xbd\\xc3\\xec9\\x8f\\xc1\\xd8\\x03\\xd7\\x18\\x83\\x8f\\xb7\\x87\\xf1\\x1d\\x93\\x8c\\xb8s%\\x00)\\x0e\\xa5\\xe6\\xc2\\xd2D\\x825 \\xa7\\xce\\xa1\\xfee`\\xb8c|N\\xe5\\xe6\\r\\xc4\\xf8&:\\x8b\\xe7\\xd4_N\\x07jm\\xd9\\xb6u\\x19\\x01\\x1d\\x92\\xa4\\x00\\xb2s\\x0c\\xa7)9\\xb6\\xda\\x9e\\xf8g\\x81\\xdc\\xc7\\xac\\xaeKna\\xebJ\\x1d\\x08-^Z)AR\\x99\\xdd\\n\\xd3\\xe2\\rv\\x1cl\\x1c\\xf8\\n\\xd6\\x9d=ou\\xebO\\xaf_\\xb1\\xcf\\xf0\\xb3\\xe5\\xe3\\xdb\\xd2\\xd5\\xf6\\xd9\\xfah]K\\x0bNf_Z\\x1b\\x8b.%\\xe0lm\\x95\\xc9i\\xf60\\xeb\\x94\\xa7]\\xa7#\\xeb\\n\\x8f\\x84\\xf9P/xw\\x98+BW|\\xf7\\x02b\\x8a\\x83\\x9d\\xab\\x8c\\x16\\xe9\\xa0\\xad#\\xdb\\xed\\x16G\\xc5&\\xaa\\x0b\\\\\\xa2\\xb8\\xc3\\xddM\\xc6\\x17\\x83\\xda[>\\x93=\\xbe\\x11\\x8a\\xae\\xd1\\xcf\\x84\\x84\\x1f\\xf4\\xab\\xa6\\xb0\\xc5y\\x99\\xc3e+\\xc3x\\xa3\\x8e\\xed\\x026\\x17*N*\\xd0\\xfe\\xff\\x00k\\xa5q\\xcf\\x03[3\\xa7\\\\C\\xea\\x8b\\x16\\xc7\\x08qJs\\xa7\\xfa\\x05\\xcbV\\x90\\xa3))\\xbbp\\x8e\\xa7T\\xfa\\xa7\\xf34\\xb0p\\x86>P\\x12\\xe7\\x02\\xf2\\xf0\\xac!A+n\\xe5a)V\\xb1)6\\x92Rt\\x983\\xef\\xa8/\\x0e\\xf4\\x81\\xe6N\\x15(\\xbc\\xc6x_\\x17W\\xea\\xe2\\xf8c\\x96\\x0e\\x9f\\xed%H\\x1f\\xe8\\xd7o\\x86zLq\\x1aP\\x8f\\xa69t/\\x91\\xfaO\\xe0X\\xdbw\\x13\\xeeC\\x89O\\xfe\\xea\\xad\\xe1\\x92\\xe87\\x98O\\xf6\\xc8o\\xd2\\xfb\\x04\\xc5\\xb0g9z1\\xab\\x0e\\x1b\\xb1\\xed\\x13\\x88\\xa5\\x96\\xf0+e\\xb4\\x91\\x05\\x82R\\xb2\\xa03\\r\\x8805*\\xd3\\xadW\\xb5%\\x0bD:\\xc0\\xb9d\\x14\\x17\\x1a*R\\x03\\xa9\\x05$\\xa4\\x91\\xa8\\x91\"F\\xdb\\xd4\\xe9\\xe9_\\xcd\\\\\\x1f\\x99\\xe9\\xe0\\xbf\\xa20\\xec_\\x0c\\xb9\\xc2\\x1d\\xbe\\x17,b\\x96\\x89i@8\\x19\\x82\\x95%JJ\\xb5A\\x982*\\x0feP\\xb5\\xea\\x02\\xb2\\xa7\\xa8\\x1f\\xa3F\\xa8^k\\xd4\\x95\\xae\\xb9\\xf0\\xc2\\\\yv<\\x03cj\\xcd\\xcf\\x119\\xc4\\x0e\\xa1\\xdcv\\xe1d\\\\\\xa9AY\\x92Ci\\x85\\x056\\x85\\x03\\xec\\xc4\\x82\\x93:G\\x1ci\\xc6\\xd8\\x87\\x1f\\xdf\\xe1x\\x87\\x10\\xdb[\\xa3\\x17\\xb5\\xb26w\\x17\\x8c-sv\\x90\\xe2\\x96\\x85)\\x07D\\x14gR{\\xbb\\xcc\\x98\\x80)\\xae\\xf5@\\xb6\\x80\\x08\\x8c\\xd2u\\xdbM\\xe9\\nd\\x9f\\x0f\\x86\\xa6\\x9e\\xc44\\x13)R\\xb2\\xa8\\xe5\\xd5D\\x9f\\xe7\\xadaBs\\x98\\x04\\xce\\x9b\\xf9P\\xc0\\x86\\xde\\xca\\x91\\x01\\x12u\\xdbQ\\xadm+RV\\x95\\x02B\\x81\\x04\\x11\\xe3S`1\\xbf\\x12JS`\\xf8\\x10\\x00F\\xe7\\xc3J\\x06\\x0e\\x07\\xd1`\\xe5\\x11\\x9aH?\\xbc\\xaa;\\x12$\\xd9\\xdc\\x93\\xfa\\xb2u\\x92v\\xa20s\\x18RH\\x90g\\xc6\\x7fH\\xd1D\\xb1yJH\\xf6S24\\xfcb\\xb1\\rv\\x8e\\x04$%$\\x83\\x01[i\\xadm;j|$R\\x8b$v\\x97\\x8c\\xa3DNmfvJ\\x8dD\\x06n\\xdf\\x1e\\xc6,\\xac\\x91k\\x87b\\xb7vv\\x89t\\xbe\\x86\\x99s\"P\\xe9\\xd7\\xb4N\\x92\\x95~\\xd0 \\xeaF\\xc4\\x8a\\xd3\\x98\\xee<VR\\xfe7\\x8bJ\\x12\\x12\\x12\\xbb\\xd5\\xe8\\x98\\xf0\\xf7(\\x88\\xf0\\'\\xc4\\xca4\\xca\\x9bN\\x9f\\xa2<\\xe8\\x012u\\xeb\\xa1\\xd6M:n\\x84qB\\x93qup\\x96\\x9b\\xb9\\xbb~\\xe5\\xa6T\\xa7\\x19C\\xce\\x95\\x04\\xadA!J\\x13\\xfaJ\\tH*\\xdc\\xc0\\x9d\\xa9v\\x1e\\xa1\\xeb-Hh\\x88T\\xf6\\x89\\x94\\xfb*\\xfe}\\xf1H\\x10\\x99\\'y\"`\\x1d\\xb5\\xa5\\x96\\xca\\xfa\\xe6\\xfb\\x81c*\\xbb\\xa4\\x9dD\\x1a\\x8d\\xe8J=\\x1d\\xf4J\\x9f\\xf9\\x00\\xe1B\\xac\\xca\\xcc\\xe5\\xf9\\xd4\\xed\\xf9k\\xf56H\\x07\\xadB\\xfe\\x89i\\x8fG\\xee\\x0f\\xf0\\xfc\\xb7\\xfdq\\xfa\\x98\\xd7t\\xd2TR\\x0fh\\xb1\\xbaP3\\x11\\xef\\x8d\\xbe5\\x9e\\x9e\\xe1[\\x07H\\'z\\xdd\\'\\n}\\xc2!\\te?\\xb4s\\x18\\xf7\\r>\\xdaQVD\\x80\\x0b\\x80+(\\x05G\\xc0\\n\\x07\\xd6\\xaf\\xaaZ\\x1f\\xde?\\xc3\\xef\\xa3\\xab(\\xea@\\x81j\\x82Av]=\\n\\xcc\\xfd\\x9b\\n>\\xb2\\xb2\\xa2TC\\xc9|k\\x89\\xb1.#\\xe2g\\xb1^#\\xb8U\\xf6 \\xeb\\x8d\\x87_[HB\\x96\\x10\\x00\\x19\\xb2\\x80\\t\\xca\\x00\\x98\\x93\\x02\\xac\\x9f#M\\xa6+\\x85c*\\x0c\\xa1A7l\\xe8\\xa4\\xccJ\\x0f\\xf0\\xa8\\x03\\x98\\xca\\xc2X\\xe2+kL\\x17\\x04\\xc0\\xb0\\xb7\\xd8Hq\\xfb\\xac\\x03\\x17v\\xfa\\xce\\xf1.\\x04\\xa9\\x19{A(R!I#\\xac\\xed\\xa5M\\xde\\x8en\\xff\\x00\\x83q\\xf4\\xe9\\xf9\\xfbb`\\xef\\xdcUw>+(\\xcb\\xc3\\x9b\\x84yV\\x94\\xb4\\xd1Z\\xed\\xa1\\xc9\\xf8le\\x8f\\xc4\\xb9e.gN\\xdf\\xce\\xbed\\xe4\\x8e\\x1f\\xc3\\x9dI\\x9bd\\x02z\\xa4\\x91Z<#b\\xad[S\\xcd\\x91\\xe0\\xa9\\xa5\\xf6\\xeb\\xee\\x8di{j\\x06\\xbe{\\xcf%\\xd4\\xeey\"\\xfa\\x0c\\x07\\x84\\xc9\\x05\"\\xec\\xb8\\x88\\xf6]FaM\\x17\\x9c\\xb1\\xc2n\\x95\\x9e\\xe3\\x07\\xc2_Y\\xfd4\\xb0\\x1a_\\xcd \\x1f\\xb6\\xbb\\xbc\\xc3\\xa6\\xd5\\x92\\r\\x15\\x96H\\x0f\\x1cJo\\xe9G\\xc2\\xccp\\xcd\\x9f\\x07z\\xa5\\xb2\\xad\\xd0\\xfd\\xcd\\xf2Ng\\x94\\xe8:0t*$\\xfc\\'\\xc7\\xc4\\xd4\\x1eR\\x14\\xc6\\xa0{\\x03_\\x80\\xebVS\\xd3?\\xbd\\x83\\xf0A\\x1ae\\xc4o\\x87\\xcd\\x96O\\xe1U\\xb0+\\xea\\'\\xfe\\xe8\\x1d6\\xdb\\x7f\\xb6\\xad\\x8b\\xe6\\x8d\\x954\\xa2\\xe8\\n\\xd3,\\xb4b (O\\xf6\\xb6\\xa4\\xd94QN\\xc3\\xf9\\x9aZ\\xa0{6\\xa6\\x0fuC\\xc7I\\xa23$\\xf7\\xa6h\\xa1BT\\xa2\\x84\\xb8\\x12\\x8c\\xc1i\\xcb\\xb6\\xa4H3\\xef\\xd2\\x824\\xd3\\xc2\\x8dqI\\x89\\x9d\\x8e\\xfb\\xd0\\n\\xc4\\xe9\\xde\\x93\\x00\\xc6\\xf4\\xe2j\"\\xc4G\\xe47_\\xe6\\xf5\\x11\\xafJ+\\x07\\xd7\\x0c\\x1a\\x89\\xda`\\xeb\\xde4\\xa7\\x12P6Wi\\x8d\\x0b~\\x11\\xe1I\\xf03\\xfe\\x0bL\\x98\\x93\\xbci\\xed\\x9a\\x84\\x1c\\x02FU\\x99\\xd4\\x18H\\xfchV\\xb7OY]\\xa2\\xe2\\xd5Y\\x1do0J\\x94\\x80\\xa1\\xdeII\\x90w\\x90Mh\\xa9${i\\x03M\\x08 M\\x02RI \\x81\\x03_/\\xf7Q\\x00\\x06\\xdb\\xc8\\x12\\x94\\x8d\\x93\\xa4\\xeb\\xd2\\x82\\x11\\xd4\\xa6\\x13;Q\\xa1@\\x13\\xde\\x00\\x9dz\\x8a\\xd2c1\\x05C\\xc2`\\xf8\\xfb\\xaa\\x101\\xb6\\xc9J\\xd4\\x01 \\x01\\xde\\xe8(\\xc6\\xcc<\\xd9\\'\\\\\\xa7\\xf1\\xa2\\xc6\\x89QP\\x80F\\xa2=\\xc6\\x95\\xddY\\xbdgqj\\xab\\x86\\xcaC\\xc8R\\x90dj$\\xf4\\xe9\\xb5\\tl\\n\\xd4\\xf4o\\xd1E\\x84\\xb9\\xe8\\xfd\\xc1\\xbd\\xa9Z\\x86[\\xc2\\x12U\\xa4\\x1b\\xb7\\xb4\\x81\\xb8\\xf0\\x9a\\x9a\\xd2\\x94\\xa1!(HH\\xe8\\x00\\x81P\\xcf\\xa2p\\x8fG\\xbe\\t\\xf3b\\xe0\\xfc\\xee]\\xa9\\x9e\\xa9m\\xd1\\x0c\\x1b\\xe9B\\xa0\\x8d\\xe8T\\xf0\\xd8,\\xca\\xca\\xca\\xc9\\xa7\\x01\\x95\\x94\\xd1\\x8e\\xf1N\\x07\\xc3\\x0c\\x87\\xb8\\x8f\\x18\\xb0\\xc2[ \\x94\\x9b\\xbb\\x945\\x9a<3\\x11?\\n\\x8d1\\x0fI\\xce]\\xd8\\xdc\\xa9\\x96\\xaf\\xf1\\x1b\\xe0\\x9d\\xdd\\xb5\\xc2\\xdfZ\\'\\xc0(\\xa4O\\xbciH\\xe7\\x18\\xee\\xc2\\x93{\\x1eu\\xf16\\x1b\\x87\\xe0\\xf8\\xd2\\x91\\x82cv\\x9cAh\\xb6\\xd0\\xf2.\\xad\\xed\\xdc`I\\x90P\\xb48\\x02\\x92\\xa1\\x97Q\\xa8\\x82 \\xebS\\xc7\\xa3\\xc6&\\x94[c\\xc9T\\x996\\xca\\xd0\\xfe\\xf8\\xaa\\xdbv\\xb2^s^\\x83\\xcat\\xa9\\xc3\\xd1\\xf2\\xe3\\xb9\\x8f\\r=\\x8bb>k\\xaf\\xa0x\\xe2p\\xe0\\xe6\\xae\\xf6\\xfb\\xae\\xd4\\x8e?\\xc1\\xea\\\\ld\\x95o\\xa7\\xe4Z{lQ\\x9c\\xa2s\\x0fx\\xa7&\\xb1\\x16\\x08\\x1f[\\x1e\\xf0k\\x89\\xb7w\\xbbK\\xdbwOu|\\xc1\\xc9\\x9fB\\xe5G\\\\\\x9b\\xd6U\\xb3\\xc8\\xf9\\xd1\\xa9y*\\xf6T\\x0f\\xb8\\xcdq\\xa5\\xf8\\x1d\\xe3D\\xaa\\xf0\\xabDh<|h]\\x92\\x92!\\xafL\\xa5\\x8f\\xa0\\xf8B\\x0c\\x94b\\x97\\x7f#n\\x8f\\xe1U\\xb9\\x1f\\xd5\\x81\\xccD\\xb2\\x93\\xe5\\xb1\\xab\\x17\\xe9d3\\xf2\\xfb\\x82\\x96\\x00*N7v\\x99W\\xfeZ\\x7f\\n\\xaei\\x9fTN\\x91\\xf5\\x02\\x04\\xfb\\xebv?\\x81\\x18\\xf2?x1\\xf9Sm\\x83\\xd1+\\xd8D\\xf7\\xa9.\\xda\\xea)K\\x93\\xd8\\xa1Z\\x10\\xa4\\xabO\\x8e\\xa2\\x92\\xa50\\xa5\\x19A\\x81\\xe3\\x1f*a\\x03Y\\x1fSzH\\x1a\\xda,i\\xa7T\\xd2Pech\\x90u\\xda4\\xa3\\xd2\\xe0B^\\x05!A\\xc6T\\x81\\xafS\\x1a\\x8f\\x95\\x10\\x9dW\\x1e:\\xefN+\\x12\\xe2D\\x1bK\\xb5$\\x04\\x82\\x85\\x14\\xa5 \\xf7GA\\xae\\xb4N\\t\\'\\n\\x07\\xc7\\xaf\\xb9f\\x8d\\xbf\\'\\xd4\\xee\\x8fB\\xd1:{\\xa8\\xbc\\x16N\\x17$j\\x01\\xd6\\x7fl\\xd4\\x06\\x82\\xf3\\x03b\\x7f\\x80\\xa5\\x16\\t*\\xb9XJd\\xa6\\xd9\\xf3\\x1a\\xec\\x1aQ?\\n$5)Z\\x89\\x10\\x0c\\x11=h\\xfc2\\xf56\\x17W\\x0e\\xba\\xd9x9ium\\x01Yr\\xa9\\xc6V\\xd8W\\xc0\\xa8\\x18\\xebP\\x82\\x10\\xac\\xc9\\x92Lyt\\xad\\xaa]yD% (\\xceT\\x89H\\xd7a5\\x88\\x10`\\x011\\x03\\xa5I<\\xb7\\xe5\\xdd\\xb68\\xc3X\\xee8\\xe3wxsn\\x05\\x0b\\x06TIt%\\xc0\\x95\\x07V\\x01\\t \\x94\\x82\\xcc\\x8728\\x95\\x82\\x04K\\xc5^\\xc2\\xb6Gq\\x9f0V\\xb2\\x98\\x04\\xff\\x00;R\\xfcG\\x11]\\xf5\\xcd\\x9aW\\x19\\x19`%\\x04\\')\\xeb$\\xeaf\\x9e8\\xc3\\x86\\xec\\xf8iV\\xa2\\xd6\\xe1\\xe2\\xed\\xcb\\xae(\\xda\\xdc\\x16\\xca\\xd9gB\\x89(\\xdc\\x83\\x99%CC\\x00\\xc5r\\xca\\xfe\\xb4\\xcf\\x81L\\x18\\x1b\\xef\\xfc\\xfcig\\xa0V\\xa7\\xa6>\\x8a_\\xff\\x00\\x9e\\xf8\\x18\\x9d\\xcd\\xab\\xa7\\xe6\\xfb\\x951\\x93\\xb5C\\xde\\x8a\\xa3/\\xa3\\xdf\\x01\\xcf[\\x15\\x9f\\xfde\\xd4\\xbc\\xb5mY$\\xc6A\\x83\\xa5\\n\\x89J\\xa4\\x8f}\\x1dV\\xe3v\\x80\\xc8\\xbb\\x8bx\\xdb\\x8f\\x91\\xc4\\x17\\xf8/\\x02pR/\\x13k\\xd9\\xe5\\xc5/\\xdf(\\xb7w2\\x12\\xa3\\x95=\\xd9\\x8c\\xd9L/pt\\xae}\\xce_s_\\x8b?\\xe9W\\x1e\\xb3\\x80\\xda\\xabSm\\x83\\xb2\\xa0\\xa1\\xfb9\\xd2P\\xa1\\xfd\\xe5T\\xd8\\xa5w\\x8e\\xb5\\xac\\xdeuT\\x9aoQ\\x91\\x13`\\xbe\\x8d\\xbc\\x0f\\x86\\xbb\\xeb\\x18\\x9d\\xbd\\xd6;x\\xadV\\xf5\\xeb\\xfa\\xa9]I\\xc9\\x94\\x9f\\xed\\x13R-\\x8f\\x08\\xf0\\xf6\\x19n\\x9b|?\\x03\\xc3m\\x98N\\xc8n\\xd1\\t\\x1e\\xfd\\xb7\\xf3\\xa7Y>4\\x19\\xa8\\xa5\\x15\\xb2\\x0e\\xaf\\xa9\\xe4w\\x18p\\xe28m\\xdbE3\\xc4\\x18\\x16>\\x9b\\xc48B\\xf0{\\xb5>\\x1a\\xcb\\x94B\\xf3%%%A@\\x81\\x1d\\x0f\\x85I\\x1e\\x8f\\xd7\\x03\\xb4\\xc6\\xd2\\x15?So\\xd7n\\xfa\\xaa\\x1b\\xc4\\xde\\x0f\\xdf?p\\xa6\\x99iO\\x12\\xb5%\\x96\\xc3hI$\\x93\\x95#D\\x89&\\x00\\xd0t\\xa9W\\x90n\\x06\\xee1\\xd8\\xd0\\x16X\\x9dv\\xef\\xaa\\xbe\\x8b\\xe3Q\\x92\\xe0\\xe4\\xa4\\xed\\xff\\x00\\xb4r>\\x17(>6.\\n\\x96\\xbffYKg{\\x89\\xa5\\xaa\\xb9\\r\\xa6I\\xf7\\n\\xe7\\x9a\\xbe\\xee\\x80\\xd9\\x9f8\\xa5\\x81\\xe5,\\x0c\\xd3_3\\xa3\\xbc\\xb1j\\x9f.\\x99\\'O\\n\\x12\\x15=w\\xa4i_\\xba\\x8dC\\x91\\x15(\\x16E\\x9e\\x95\\x1d\\xfeZp\\xa2\\x87\\xe8\\xf1\\x03\\xfd|m\\x17\\xfc*\\xb92\\x7f\"F\\xa0}H\\xe9\\xe6j\\xc6zP\\xaayY\\xc3\\xc7|\\xbcJ\\xa0u\\xf1\\xb4w\\xf8Us\\xb63d\\xc1\\x13\\xa3_=U[q\\xfc\\x08\\xc9\\x93\\xe2\\rp\\x854\\xd1\\x10\\x13\\xdf\\x1axH\\xa2\\x04t)\\xf0\\xf1\\x8a\\x12\\xa3\\xd4\\xdb3 \\x17:y\\x8aO\\x00\\x10L\\x13\\x1ayS\\xad\\n\\xec0\\x81\\xa0\\xee\\xc0;V\\x88\\xdeJN\\xb3\\xa5\\x1dam\\xeb\\n\\xbaN@\\xbe\\xce\\xc2\\xe5\\xe8\\xf0\\xc8\\xd9T\\xfc7\\xa4\\xa0\\xe6X\\x06cA\\x13\\xee\\xa6\\xd8Q6!\\xfdF\\xe8\\x13\\xa9h\\xc4+\\xca\\x93`d}\\x1a\\x80\\xaf\\xd6;\\xeb\\x1d\\xe2iV*Rm\\xefKH9\\n\\x14\\xa4\\x85\\x1c\\xdax\\x13\\xd7JG\\x80\\x7f\\xcd\\x86w2N\\x9b\\xf7\\xe8\"\\x0e\\xcaR\\x7fX\\x18\\x8e\\xb4YP\\xdc\\xa8\\x02\\x06\\xfd&\\xb6\\xaf\\x13\\xa1\\xf3\\xf9Q\\xb6\\x88.\\\\\\x84 )D\\xb6\\xe1\\x88\\xdc\\x04(\\x9f\\xb2\\x98\\x81\\x07\\xc2G\\xfb\\xa8\\xeb{\\xfb\\xbbN\\xed\\x8d\\xf5\\xdd\\xa0\\xed\\x0b\\x99Y}m\\x82\\xb8\\xcb\\x9a\\x01\\x02r\\xe9>\\x1aRa\\xdem*\"\\x01\\x13:\\xf9P\\xd6\\xa4\\xad\\xd5\\xa9((I2\\x12\\x95f\\x8d\\xba\\x91D\\x06%0\\x0cI07W\\x9f\\x8f\\xc7j\\n\\xd5\\x17\\x8d\\x00H\\x84\\xfb\\xfa\\x9a8w\\x92\\xb2F\\xa1#H\\x89\\xd4Rw\\'\\xd6\\x9a\\xdb*F\\xfe\\x1b\\xd2KfC\\xd3\\xafE\\xc4\\xc7\\xa3\\xef\\x00y\\xe1\\x81_5\\xa8\\xfe5,\\xba`\\xa6\\xa2\\xafF\\x00Q\\xe8\\xfd\\xcb\\xc0\\xa3$\\xe0\\xed\\x19\\xf7\\x92jWp\\x05Edj\\xc7@\\x10{\\xc9\\xf7\\xd2\\x9a!(\\x85\\'\\xdfG\\xd5\\xd8\\xd5 12\\xd5\\xdfW\\xbe\\xb5\\x9a\\xb8\\xccs\\x8f^\\xc2n1\\x04\\x8e\\x15\\xc7.Z\\xb5R\\xa1\\xf4;d\\xdbo\\x84\\xa6T[\\xed\\x1fJ\\x95\\x10F\\xc0\\xcfJ\\xe6.\\xf9\\xca\\xe2r\\xaf\\r\\xc1\\xac.\\xd8P\\x19^s\\x8al\\x19L\\xc4\\x94\\x90VT\\x14\\x9e\\xa24\\xf3\\xa7\\x8f\\x0b\\x9b#\\xb8\\xaf\\xaa*\\x97\\x11\\x8e\\x1f\\x13\\xfa2Z\\xcdY\\x9a\\xab\\xe69\\xe9#\\x7f\\x82\\xde\\x8b4\\xf0}\\x9e$\\xe9d:\\x1c\\xb0\\xe2\\x11t\\xd8\\x04\\xa99J\\x9bd\\x80\\xa0RAO\\xbb\\xa1\\x14\\xcc\\xafI^,p\\xe6\\xb7\\xe0\\x04\\xf6gi~\\xe9_h`U\\xeb\\xc38\\xb6\\xaf\\x97\\xeb\\x1f\\xd4\\xaf\\xcf`\\xba\\xbf\\xa3\\xfd\\n\\x1dv\\xebg\\xeb2\\xaa\\x00\\x02#Z\\x919$\\xf9\\x17\\x98\\xc0L\\x89i\\x9e\\x91\\xfaGz|W(\\xf0\\xc5\\x98M\\xde\"\\x93?\\xac\\x83\\x1f\\xe8\\xd3\\xaf\\x01pe\\xb7\\x0e?v\\xe5\\xad\\xcd\\xc3\\xcax\\x06\\xd4\\x1d\\t\\xee\\xe5Q\\x88\\x81\\xf7\\xd7Y\\xe2\\x9cf<\\xd8$\\x93\\xdf\\xf5</\\r\\xe1rb\\xcf\\x195\\xa2\\xbf\\xb1(\\xd9/\\xb8\\x9avI#mi\\xae\\xd9\\x19R\\x981K\\xd2k\\x83h\\xec\\xecR\\x17\\xae\\xfe\\xea5+\\x98\\xa4a[y\\xf8Q\\xa8V\\xdd\"\\x92\\x89ds\\xe91\\xdf\\xe5.\\x12u\\x01<J\\x8d\\xba\\xcd\\xab\\xd5\\\\-\\x14\\x05\\x8b:\\xc7\\xd5\\x18>Y\\x8dY\\x0fH\\xc0W\\xca+B\\t\\x94q-\\xb1\\x11\\xe7n\\xf8\\xaa\\xd9g\\xad\\x93\\x13\\'\\xea\\x88\\x03\\xe2k^?\\x82\\x8c\\xd97\\rQ>\\xa8\\xdc\\x1d\\xcb\\x91\\xaf\\xee\\xd19IQ\\x824\\x12gX\\xa3\\xc4*\\xd5\\x88NXR\\xc2\\x88:\\xa8wz\\x1a-\\t\\xd7A\\xb7A\\xbdX\\x8a\\xc3\\xf0\\xeb\\xd6\\xec\\x9d\\xbcS\\x88QM\\xc6\\x1dul2\\x89\\x85\\xba\\xc9JO\\xbabi\\x12\\x04\\xa8\\x03$\\xcfQ\\xee\\xa3\\x8a\\x06\\x99`\\x91\\xb4kAKi\\x98\\x00@\\xf2\\xf2\\xa3\\xd2\\x80\"\\xbf\\x1f\\x92]\\x01\\xfeIZRl\\x0cN\\x1d \\x9e\\xba\\xc7\\xed\\xd2\\xfb\\xd4\\xa4X\\xdd\\x14\\xc0\\xfa\\x95\\x11\\x03\\xca\\x91p\\xf8\\xff\\x00\\x07\\t \\x9c\\xc7R\\x7fj\\x94#\\x99iJ\\x0e\\x1d\\x00DH\\x9d\\xe7j\\x13\\x0bM\\xb5\\xe6u\\x822\\x85\\xa4\\x84\\xf4%*H\\xfbMmi\\xd0\\xc8\\xdbX\\xf1\\xa0)#1\\xd0O\\xdbL\\x80\\x12\\xd0 \\x01\\xb1\\x08\\x81\\xae\\xa7O\\n\\xc4\\x9d\\x04\\xfd\\xf4nQ\\x9fL\\xbe\\xf9\\x15\\xa0\\'T\\x8e\\xa4\\xf4\\xa8Cil\\x86\\xddR\\x8at\\xd3)=\\xe9\\xd3X\\xf0\\xf3\\xa4\\xce\\xff\\x00\\\\k6\\xf9\\x06\\xfa\\xd2\\xc4\\xea\\xcb\\xba\\t\\xee\\x99\\x8e\\xf0\\xd6\"|\\r\"|\\x8f[D\\xc6\\x88\\x9f\\x1aW\\xaa\"=G\\xf4jo\\xb3\\xe4\\x17.\\x81\\xd2p+e|\\xd3?\\x8dI\\xee\\x03\"\\xa3\\xafGtd\\xe4O.\\x04\\x14\\xff\\x00\\x8b\\x96\\'\\xe6\\xcaMw\\xf8\\xa5\\xca\\xacp\\xfb\\xab\\xa4 :\\xa6\\x19S\\x81\\x05P\\x14@\\x98\\x9e\\x95D\\xa2\\x14\\xc1\\xa5G:=\\xfa\\xd2\\x93M\\r\\xaf\\x16M\\xdb!\\xeb{\\x0e\\xc0\\xae\\x16\\xa4\\\\8V\\x04\\x1d@\\xc9\\x07\\xa6\\xe6\\x9d\\xe9\\xe0\\xa9\\x11\\x94W\\x98\\xfcA\\x8a\\x0ea\\xf1c6\\xaaw\\xb2k\\x18x6\\x11\\x87\\xa1YH\\x08\\x12\\x0ffL\\xc8\\xded\\xc7\\x95s\\xed\\xe2|Qte\\xa3\\x8e(\\xff\\x00\\xdc\\xd9\\xb8\\x93\\xfe\\x8a\\x05\\\\N \\xbb\\xc6\\xec\\xf1W\\x9b\\xc2\\xf0Kk\\xe6\\x1cR\\x97\\xdbvO\\x82\\x0eh\\x83\\x94\\x10O^\\x94\\xe0\\xd5\\xe5\\xd3\\x96\\x16\\x8b\\x18k\\xe9\\xbepC\\xcc\\x87\\x16\\x02\\x08\\xd0\\x9dF\\x80\\x99\\x89;Ez\\x8b\\xc6q\\xc2),\\x11\\xd3\\xd3\\xf4<\\xf7\\xe1\\xb3\\x9c\\x9b\\xf6\\xb2\\xd7\\xf7\\xdc\\xab\\xfc,\\x9cj\\xd6\\xda\\xe6\\xe3\\x880\\x8ck\\x1fM\\xebYm\\xad\\\\N&\\x95Z\\xad\\xb7=\\xb5\\x16Rc8\\xd3,\\x82R\\x07BA\\xe9n\\x1a\\xb2\\xf5\\x97}G\\x96X\\x9b\\x96\\xb2\\x03&\\xee\\xdb\\x13[\\xd9B@\\xef\\xa8\\xabS \\xff\\x00\\xc6j|\\xfaUR\\x96[l\\xbfq\\xaer\\xd5\\xd2\\xb2\\xa7\\xcb4Dy\\xfc\\xa6\\x96\\xa5\\xc7\\x14\\'\\xb2s\\xe2\\xfa\\xbf\\x85a\\x97\\x8a\\xb9I\\xca\\xaa\\xfa-\\x17\\xfeWCd|9(\\xa8\\xef\\xeb\\xa9U\\x91\\x81\\xdc\\xad@\\xe5i\\x03\\xf6\\x9eH\\x8f\\xb6\\x92\\xd8\\xf0\\xc6#l\\xb5\\xe6\\xb7\\xcc\\x92\\xb2RS\\xde\\xd2gM)\\xdeG\\xe3]\\x85\\x92\\xa6\\xca\\xdc\\xeb\\xabI\\xa3<\\xf3\\xc8\\xa9\\x97\\xc7\\x0c`\\xed\\x1c\\x93Xe\\xe2R\\x01\\xb7x\\xf9\\xe4\\xa3\\xc5\\x85\\xde\\x9f\\x92\\xbd\\x1f\\xbb]t\\xfb\\xfe\\x15\\x9f:\\xcc\\xe2]g&,.\\xfa\\xda\\xbc\\x7f\\xb3F\"\\xc2\\xf0\\x7f\\xd9^\\xf7e\\xae\\xa2G_\\xbe\\x84\\x92\\x98\\xd7\\xed\\xa5\\xe5%\\x90\\xa7\\xa4+Ko\\x94\\xbd\\x9b\\xe9-\\xba8\\x82\\xcda\\x0b\\x1a\\x91\\xd9\\xbc\\x92@\\xf8\\xd5f\\xc3\\xcc\\xd9[\\xeb\\xaff\\xa1\\xbfL\\xd5h\\xbd&\\xc6~\\\\\\xa2\\x07\\xb3\\x8aZ+\\x7f\\xdaX\\xfcj\\xada\\xc2l\\x98\\xdeBT5\\xd3\\xad]\\r\\x15\\x14OV\\x1c\\xd9\\x1e\\xa6\\x0e\\x9a)@\\x1f\\r\\x05\\'\\xd6F\\x9a\\x83J\\x1b\\x91f\\x99\\xddKQ\\xf7\\x9c\\xa2\\x8a\\r\\xe6\\x93\\xbc&O\\x98\\xa7\\xd0P\\xfb\\x06\\x91p\\xf3\\xad\\xb8\\x90R-\\xae\\x16\\x9d\\xf4RZZ\\x81\\xd0\\xee\\nG\\xf3\\xa5%I\\x07)\\x89\\xd0\\x0f\\x8d-\\xb0|[]\\xb8\\xb5\\x9e\\xe1\\xb5\\xb8jg\\xaa\\xd9ZG\\xdaE lHN\\xfd:\\xefP\\x81x\\x80\\x1d\\x8d\\xd8D\\xa9\\xbc\\x8b\\x82\\xa0\\x04\\x88\\xeb\\xf2\\xa4\\x98\\t\\x9c1Z\\x10\\x0eb\\x04\\xec3R\\xab\\xcf\\xea\\xd71\\xaf\\xd5\\xaa5\\xf24\\x97\\x02\\x9f\\xa2\\xc8 \\x8dU\\xd3_n\\x81\\x07\\x1d&\\x08\\x891;\\xc9\\xa7\\x0c\\x17\\x0fg\\x11\\xbc\\xb8f\\xe0\\xe4B0\\xdb\\xfb\\x90@\\xfd&m\\x9cu#\\x7f\\x14R$\\xb4\\xa8\\xcd\\x02\\x04\\x03\\x9b\\xf9\\xd6\\x97`W\\x8ca\\xf8\\x8b\\xcf^!\\xce\\xc9x}\\xfd\\xbar\\rC\\x8e\\xdb:\\xdbg\\xdd\\x9dI\\x9f)\\xa3\\x1a\\xbd@\\xeck\\x04/!\\x00\\xccjI\\xa1-)\\xed\\xbb\\x93\\xd9\\xe6\\xd34\\x02\\x07\\x9c~\\x14\\x14{9H\\xe8>\\xef\\n\\xc4\\x9e\\xf1\\x83\\xa8\\xa8\\xb6\\xb4@\\xe6\\xf5m\\xff\\x00$\\xa7\\xe23\\nCp\\xaf\\xca\\x87\\x8eM\\x08:\\x9d\\xe9r\\x12\\xa1mp\\xac\\xbd\\xce\\xe2g\\xcf4\\x91M\\xb7\\x8a!\\xf2I:7\\xa6]\\xb64\\x18\\x0fW\\xb9\\x02\\x9c\\x9c\\x8d\\xe5\\xb0\\xff\\x00\\xc3\\x18w\\xfa\\xba+\\xb2\\xc7\\xd6\\x94\\xe1o\\xa1`\\xe5tvd\\x8e\\x99\\xb4\\x9a\\xe4\\xf9\\x16\\x9c\\x9c\\x93\\xe5\\xbav\\xff\\x00\\x15\\xb0\\xcf\\xf5V\\xeb\\xa3\\xe2\\xc5e\\xc2\\x0e\\xff\\x00\\x9dF\\xde\\xfaZ\\xb5\\xa8\\xddDoc\\xec\\xdf\\xdd\\xb3l\\xd3\\xbe\\xae\\xfb.\\xa5\\xe5!+\\xd5iN\\xe9\\xe9\\xa6\\xbet\\xee\\x9cU\\n\\x1f\\x9b#\\xfbB\\xaa\\xfe;\\xcfl\\x17\\x838\\xfb\\x1c\\xc1/\\xf0>*\\xc4_\\xb2|6\\xe2\\xb0\\xf6Yu\\x92\\xb2\\x84\\xac\\xe5\\xcc\\xeaH\\xd1c\\xa6\\xf3N,zJ\\xe0O\\'3<\\x0f\\xcc\\x17F\\x9a\\xa3\\x0c\\xb7W\\xddqZ\\x16\\x195\\xa2\\x11\\xc9\\'D\\xaa\\xff\\x00\\x01\\xdb\\xbb\\x88\\xa2\\xedX\\xf66\\x96\\xd5|\\xf5\\xeb\\x8c\"\\xf5\\xc4%Ek\\n\\x08\\xee\\xacBRD\\x01\\x10D\\x82)\\xf1xOoj\\xc3W\\x98\\x95\\xcb\\xeam0\\xb5\\x11\\xa3\\x86I\\x923|:\\xedP\\xcf\\xff\\x00P\\xf8z@\\xcd\\xcb\\xeee\\'R?\\xe6&\\xce\\xb3\\x11\\xf9\\xef\\x1a\\x19\\xf4\\x89\\xc2\\xd0\\x85\\x97x\\x17\\x98\\xed\\xa5\\x11\\x98\\xab\\x00L\\'\\xdf\\x0e\\xd1\\xc9\\x82y\\xdd\\xe4\\xb7\\xf9\\xbf\\xa2\\xbaC\\xc6O\\x12\\xf7U~_\\xe8\\x9a\\xad\\xed\\xac\\xb0\\xf6\\xc9q\\xc3\\xd9\\xa4L\\x92\\x1b\\x03\\xcc\\xd2\\x96\\x9eb\\xf5\\xa4?aq\\xda0\\xb1)Sj\\nI\\xf7\\x18\\xaa\\xf9{\\xe9\\x19\\xc3W6\\x8f%\\xfe\\x15\\xe3\\xf6\\xd9\\x00\\x17\\\\8(@lN\\xe5A\\xce\\xef\\xbfj\\xb0\\x16\\x16\\x8da\\xb6\\x8d[Z\\xa5Hi\"@R\\xa4\\xeb\\xae\\xa7\\xe3UK\\x86\\x8e$\\xae42\\xca\\xe6\\xf7*\\xc2I:Mu\\x98j\\xa6\\xc2\\xd8\\xc9\\xfc\\xd8\\xaeE>\"\\xba\\xcc\\'\\\\>\\xdb\\xc9\\x1f\\x89\\xa4H\\xb5\\xb1h\\'N\\xb5\\xb9\\xd6k\\x00\\xd0mB\\x8f\\x8dJ\\x16\\xcd\\r\\xba\\xc7\\xbe\\x84\\x0f\\x95d{\\xab \\xc5\\x0ePY\\x11zH\\x0c\\xfc\\xb7x\\xc4\\xe5\\xbe\\xb3\\xdf\\xfc\\xf4~5V0\\xb0=Q\\'013\\x1a\\x13\\xa8\\xab[\\xe9\\x0c\\xd1s\\x96\\x98\\x84jE\\xc5\\xa2\\x87\\xff\\x00\\xb2\\x8f\\xe3U;\\x0c1n\\x90O\\xb2\\xa5\\r\\xbd\\xd4R\\xa6#\\xd4R\\xc9\\x02\\xd1 Oy\\xc5L\\x9d\\x0ftt\\xe9A\\x07( \\x12dA\\xf7\\x7f=+L\\xa8z\\xb7\\x88\\xed\\x95\\xe2#\\xbbI\\xc2\\xb4\\x81\\xd7H\\x88\\xa6\\xe8\\x01B\\x92:nv\\xd6\\xb2\\x12u\\xca~\\x1b\\x7f;\\xd0\\xacZM\\xdb\\xee\\xa1n\\x96\\x82m\\xdft\\x11\\xafy\\xb6\\x94\\xb0\\x9f\\x89LO\\x9d\\'B\\xc9\\x83\\x11\\xa0\\xe9\\xb1\\xa9\\xf3!\\x97I\\x9bg\\xf7\\xfc\\xda\\x8e\\x84\\xf8R\\x0c\\x03\\xbd\\x87A\\x06e_,\\xd4\\xb2\\xf2;;\\x84\\xa1Em\\xa5\\n\\t9H\\xcc#C\\x1et\\x87\\x03\\x8f\\xa3\\x94\\x00\\x8dU\\xd6z\\x8a\\x04\\x1e\\x00\\xca\\x95\\x089U\\xef\\xd6\\x83\\x00\\x12`\\x83\\xd6\\t\\xa2\\x8fR\\']\\xcd.\\xc2lQ\\x88\\xdd\\xbe\\xd3\\xae)\\xb4\\xa3\\x0f\\xbd\\xba\\x04\\x03\\xaa\\x99an\\x80u\\xeaQ\\x1f\\x85E\\xae\\xc4z\\t\\xa0f& \\xc4\\x1a\\x00\\x83\\xaag\\xca$E\\x00+6Y\\x98\\xd3\\xca\\xb6\\xb8\\xed\\xd6\\x10IHY\\x82DH\\xe9\"\\xa0\\x18`#\\xb1|\\x14\\x84\\xac\\xe5\\x85\\xe6\\xe9;D|g\\xce\\x9b/NW\\x1c\\x90\\x7f4`O\\x91\\xa7\\r;\\'\\x87IN\\xe3\\xce\\x9aq\\x15w\\x9f\\xd4\\x8f\\xa9;~\\xedG\\xb14=p\\xe4\\x90\\x8eL\\xf2\\xe8\\x7f\\xe1\\x8c3\\xfdU\\xba{\\xe3\\x15e\\xc2S\\xe6\\xfa\\x07\\xdfL\\xfc\\x97\\x19y=\\xcb\\xd1\\xe1\\xc3Xo\\xfa\\xb3t\\xeb\\xc6\\x860\\xb6<\\xeeQ\\xf7\\x1a\\x08=J\\x19\\xcc\\xb6\\xd1w\\xcf<q\\x97P\\x87[{\\x8b\\xad-\\xd6\\xda\\x92\\x14\\x14\\x92\\xcb@\\xc8\\xf0\"jr\\x1c\\xb3\\xe1{kW]\\xb6\\xc1\\xac\\x9b\\xbbeIq\\xb7\\x03>\\xca\\x92\\xa1\\xacT#\\xc5\\x0f\\xba\\xe7\\xa4\\x16\"\\x19*\\x07\\xfaz\\xca\\t@3\\tm\\xbd\\xc8\\xe9\\xa0\\x9a\\xb4\\n\\xf5\\xb7\\xed\\x1em\\x95\\xa9\\xa5\\xaa\\x08*\\n)\\x10\\xa0L\\xf9\\x10\\x08\\xf8\\xd7\\xa1\\x93$\\xa1\\x0ci2\\xee\\x19/\\xe6:\\xea3pg\\x0b\\xe1x\\xb6\\x04\\x9cQX{\\n\\xba\\xbb~\\xe8\\xa9\\xce\\xcc\\x1c\\xc0\\\\9\\x13\\xe3\\xb5.\\xc3\\xf8f\\xcf\\xb0\\xc3\\\\\\xb2\\xc3\\xf0\\xc6\\xd4[}r\\xf7\\x0f/\\x13\\xca\\x0b\\x84BR\\x88)\\xf8\\xe8F\\x80iM|+z\\x7f\\xa3\\xd6\\x96\\x87\\x12}w\\x18\\x8b\\xb7\\xf7\\x16\\x85iJV\\xda\\x0b\\xceBQ\\x94\\x01\\x08\\x1e\\xcei>3GaV6\\x8a\\xc1p+\\\\u\\xe7q\\x14X\\xda\\xad\\x97\\xaf\\x9f\\xb3[\\xef\\x92\\x14%d!\\x95\\xa71\\x80H%3\\xd2z,\\xa7\\'\\x96K\\xe6\\xff\\x00\\xc9d[\\x945\\xec3\\xf3g\\x04U\\xbf\\x0c8\\xb5\\xb7l\\x8e\\xd6\\xd1\\xdbu\\xae\\xcf\\x87\\xdc\\xc3R\\xa2\\xa5\\xb6BT\\x95\\xcc\\xc8\\x9d\\x8e\\x91\\xe7V%\\xd8\\x0e\\x11;@\\xfb*\\xb5q\\xcd\\xd5\\x93,b\\xd8~\\x16\\x19\\xf54\\xaa\\xd7\\xb1R\\xac\\xcd\\xbb\\x8b\\xce\\xe3`\\x82!=f$t\\xf8\\xd5\\x96z;g\\x7f|\\xd3\\xf1\\x16\\xa1\\x04\\xfef\\x18\\xa4\\xa5&\\x8a\\x98\\x93=k\\xac\\xc1\\xa3\\xe8\\xd6=\\xc7\\xef5\\xc9#\\xc0WY\\x82\\xeb\\x86\\xb3\\xefW\\xdek\\x1d\\x17\\xb69\\x03\\xb6\\xe6\\xb6$\\xc6X\\xac\\x02\\x84\\x00\\xf1\\xd2\\x8d\\x08\\xd8Z\\xd2\\xe2\\xb2\\x96\\xdc\\r\\xc1\\xd7\\xbb!C\\xf0\\xa3\\x0e\\x83Z\\x17w\\xc6\\xb4\\xa2\\x99\\x88\\x9a*\"\\xb6F<\\xf8@_.1\\\\\\xca\\x00\\x0fV:\\xed\\xa5\\xd3UP\\xb0\\xf8\\x0c\\x9c\\xdb\\xa5\\xc5\\x8a\\xb8<\\xfa\\xefr\\xc3\\x88\\xa0j\\x9bD/\\xe5p\\xd1\\xaa}dd,\\xc1\\x92\\xea\\x8f\\x8c\\x9f\\x1a\\xaeJ\\xa4\\x15\\xaa\\rk[ux\\xf6\\xdfnSE!\\nR\\x86\\\\\\xa0FmI\\xda\\x8ci\\xcf\\xa8X\\x00\\xc8~\\x0e\\xb32\\x0e\\x94\\x00JNd\\xcfX\\xd6\\x96\\xb5\\x0e\\xc1\\xf67\\x1e\\xafp\\xe2\\xc9#5\\xb3\\xedL\\xce\\xabiI\\xeb\\xef\\xa4\\xadh\\x94\\x02A\\xd4\\x01\\xe0}\\xd4d\\x00\\x00\\x8d\\x0e\\xddt\\xac\\t\\x04\\x89\\x990\"h\\x83A3\\xda2\\xe8\\x1b\\xe41:\\x8ff\\x91\\xe0G.\\x1e\\xa3:J\\xb4\\x99\\xfd!\\xb8\\xa5\\xef\\xa0v\\x0e\\xc8\\xefvj\\x07\\xcfCH\\xb02\\x15d\\xa19\\x81$o\\xe6(\\x10tKD\\x1c\\xdf\\xa2\\x14\\x01\\xd4\\xc9\\xf7|\\xe9V\\x1bt\\xab\\x1b\\xd7\\xd6\\x85\\x96sZ]\\xdb\\xf7U\\xb8q\\x95\\xa0\\xa7\\xe2\\x15\\x1f\\x1aNd!c`}\\xaf\\xbe\\x8b\\x03^\\xbe;\\xeej-5\\x0e\\xfa\\x05\\xa2\\x06\\x9a{=|b\\xb1\\x1e\\xd0\\x83\\xa4\\xcf\\xba\\x85\\xa0:f\\xd7\\xc6\\xb5\\xa7I\\xd0\\xd4\\xa6@a\\'\\xb0w\\xbb\\x08%\\x10`\\xc7Zf\\xc5\\x15\\x02\\xe6b{\\x05o?\\xaai\\xe0\\x90m\\xdd\\x84\\x9c\\xfd\\xa2d\\xf4\\xeb\\x1at:\\x1ab\\xc5B\\x96n\\x90\\xd0\\x01K`\\x84\\xcf\\x89N\\x957\\x03={\\xe4\\xfa\\xc29I\\xc0##\\x9f\\xf4o\\x0e\\xdd\\x1a\\x8f\\xc9\\x91\\xbf\\x9d9q\\x83\\xa1X}\\xb2r\\xa9\\'\\xd6S\\xed&\\'\\xba\\xaa\\x82\\xb9}\\xe9g\\xc9\\xce\\x1f\\xe5\\xff\\x00\\taX\\xa7\\x19\\xb6\\xc6!e\\x82\\xd9\\xdb\\xdc00\\xdb\\xb7\\x14\\xdb\\x88e)RNV\\x88\\x90A\\x15\\xda\\xe1\\\\\\xee\\xe0Nn%\\xdb>_\\xe3\\x8a\\xc5\\xaep\\xd5\\xb7qt\\x85X\\\\\\xdb\\x146\\xac\\xc9J\\xbe\\xb5\\xb4\\xc8*\\xd3I\\xa4N\\xddX\\xd5EB\\xe2\\x9b\\xc6,\\xf9\\xef\\x8cb\\x17\\x0f\\x06\\xd8\\xb5\\xe3\\xc5=pA2\\x96\\xd2\\x94\\x82O\\x96\\x9b\\xd5\\x8e\\xc3\\xb9\\x8b\\xc2%\\xd6B\\xb8\\x8b\\x0fp\\xb8\\xb4\\xa5-\\xfa\\xce\\xab*;\\x00z\\x99\\x8fy\\xaa\\xd5w\\x8b\\xb3o\\xce.?]\\xe23\\xb0q\\xfc@F\\xe1P\\xe2G\\x81\\xd4G\\xddJ\\xb1\\xbb|?\\x1ar\\xcd\\xdb7\\x14\\x8c5v\\x89v\\xf5\\xb0\\xda\\n\\x9bR\\x1fKC$\\x90s\\x12\\xa0H#H\\xea\\rz\\xaf\\x12\\xc9\\x08\\xdfC_\\x0f\\x17\\xca\\xda{\\xb2G\\xe1\\xfema\\xb8^\\x11g\\x80\\xdc\\xdd\\x9f\\xa6\\xbdy\\xdc=\\x97>\\x8aq-%\\xf7\\\\Ye\\nNi0\\x14\\n\\xb5HT\\x18 \\xd4\\x8d\\xc3\\xb8\\xa3\\x8d1f\\xd6#jq\\x0b\\xe6\\x12\\xbbw\\x8d\\xad\\xc2lP\\xb7\\x90\\xb3\\x98!N\\\\ \\xa4\\x12\\tHPQ\\x81\\xed\\x02\\x08Uj\\xc3\\xb0\\xae\\x12\\xc4qf\\x95w\\xc7\\x8f\\xe1\\x18\\xd2\\xefe\\x18G\\xa9\\xa4\\xbc2\\xbaKc\\xb5\\x03(\\x90\\x90\\xa1\\xbcy\\xd4\\xa0..1\\xc3\\x88?\\x80\\xb7\\x85\\xdd]\\xdd])\\xb7\\x12\\xf2l\\x92T\\xd6EJ\\xff\\x00(!*$\\xe59\\x84(L\\x8d$S\\xe5\\x8cT\\xadud\\xc7\\x1b\\x83W\\xb0\\xff\\x00\\xc7\\xb7\\xc9\\xba\\xe2GR\\xe5\\xab\\xb6\\xcaz\\xeb\\x07k\\xb0~\\xe97\\nI7-\\xeb\\xda%K\\x06z\\x19\\xf2\\xd3j\\xb3\\xcf\\x13\\xdb;\\xfb\\xe7\\xef\\xaah\\xf6\\x19w\\x86c\\\\/m\\x89\\xda\\xa6\\xcdW\\xb8\\xee\\x0e\\x86\\x90\\x17n\\xb4\\xad\"\\xecI\\naJGI\\xe8z\\xd5\\xc8u_Z\\xe7\\x9a\\xcf\\xdfK\\xc5\\xd7,+\\xb1\\xe7F\\xd4\\xa4\\x9fr\\xa6\\xa5c\\xf4\\x94\\x04WU\\x82<\\x8f\\xa3\\x91\\n\\x90\\x16\\xa8?\\x1ajB\\xad\\x91\\x1d\\x9b\\r$\\r\\x07pQ\\xa2\\xf4\\xa7D\\x00\\x07\\x82F\\x95\\x87\\x99\\x1a\\x1cY\\xd0\\xfa\\xc2\\x07]+=m#\\xc3\\xe7\\\\\\xd9\\xbd^\\x90`\\xd0M\\xd3\\x8a\\xd8\\xfd\\xb3I\\xed\\x109\\x0e\\x8dW\\xa0\\x05h\\x07\\xe3D\\xab\\x10L\\xfbI\\x15\\xcf8\\xfa\\xc0\\x82c\\xdfE%\\xe9>\\xd8\\xf9\\xd4\\xf6\\x8c\\x0e\\x03o8\\xb2_\\xf2\\xb3\\x8c\\x15\\xda\\x90Z\\xc2V\\xa0\\x00\\x99\\x87\\x10\\x7f\\n\\xa7VgEm9\\x8e\\x9d6\\xdf\\xc2\\xad\\xf70\\x9aS\\xfc\\xb4\\xe3D\\x84\\xac\\x83\\x82\\xdc\\x1f`\\xf4\\x00\\xfe\\x15P-\\x89!q\\xe2L\\xefI\\xcd\\xcc\\xc3\\xcbH=\\xb5}S\\xd1$\\x87\\x93\\xf7\\x1aO\\xa10<|\\xe8\\xd4\\x0f\\xab~\\x07\\xfdru\\xe9\\xb1\\x8a)\\t\\xcc\\xa4\\x81\\x1a\\xccN\\xdamQ\\n,\\xc2m>\\x90\\xbeE\\xb9x3\\x99\\xa7\\x97\\xda\\x11>\\xc3Kp\\x0f\\x89DO\\x9d$eem6\\xaf\\x14\\xa5Q\\x11\\xac\\r\\r\\x1bh\\xe6K\\xa6{\\xe9l\\x84\\xaeVN\\x80\\x94\\x11\\x1f\\x1aJ\\xca\\xa1(H\\xd3A\\xb0\\xdfA&\\x9b\\xa0:\\x87]\\x84\\xa7\\xb7J\\x17\\xda7\\x95A+\\x823\\x08\\xdc\\x03\\xb5 \\xc1L\\xd8.$j\\xaf\\xbcR\\xa7L\\xb6\\xb05\\x94*5\\x9e\\x86\\x91`j\\x1fG(\\r%J;\\xfb\\xb4\\xa1D\\xea9\\xe6\\xe9\\xa8\\x07\\xa1\\xdb\\xddJl\\xad\\xbdm\\x18\\x82\\x8b\\xa1\\xb3i`\\xed\\xd8\\xcc?8P\\xa4\\x0c\\x83\\xce\\x16O\\xc0\\xd2l\\xbfV\\xa5\\xc89z\\n\\x1b\\x1a\\x1b\\xb4\\x95%\\xb3\\xea\\xce\\x00\\x0fS\\xa6\\x83\\xcc\\xeb\\xf2\\xa2\\x90X^`\\x1cH$\\xa4\\x18\\x92\\x06\\xde&\\x80NWHI\\xce\\x80\\xb2\\x02\\xb6\\x90\\x0e\\x9e\\xee\\x95\\xa9\\xd4\\xcf\\x86\\xf3\\xd6\\x80\\x92s\\xcc\\rhh\\x01Q#\\xd5\\x1f\\x00\\x7f\\xd66%^\\x1d\\xfa`\\xc5T@\\xbc\"s\\x06Ly\\xf7i\\xec(\\x8b\\'\\'\\xfc\\xabpOX\\n\\xa6\\x1c\\\\\\x9e\\xca\\xfc\\xc8\\xd2\\xdd[~\\xe9\\xa2\\x95\\x11\\x9e\\xa3\\xf2\\xe9\\xb4X\\xf2\\xff\\x00\\x83{;f\\x90G\\x0f\\xe1\\xe5J\\x08H%F\\xd9\\x06f7\\xf3\\xae\\x96\\xee\\xf0\\xdc\\x96\\xb3$\\xca\\x15\\xba\\x86\\xe3\\xc2h\\xee\\r\\xc0Rx\\x1b\\x85S\\x94\\x12\\x8c\\x12\\xc9\\x1bx0\\x81\\xf8P\\xb1{\\x0fQ,\\x990\\xe1V\\x87\\xc8\\n\\xc7\\x0c\\x0e\\x19\\x13\\xa2\\xf7\\x97\\x9a\\x14U><\\xf4vz\\xc9\\x1cq\\xc7\\xae\\xf1\\xe5\\xc5\\xa5\\xb8\\xbb\\xb9\\xc5]\\xb5\\xb3\\xc1\\x02\\x9fJ\\\\p\\x1e\\xcd.\\x1b\\x84\\x82F`$\\xc01Q1\\xc3\\xac\\x0b\\x85\\xcf\\xe9^?\\xda\\xa8\\x95)g\\x87\\xads)F5Q\\xf5\\xbdu\\x83\\xf0\\x15p\\xf9\\xb4\\xac\\x9c\\x95\\xe3\\xc5H\\xd6\\xc4\\'\\xe6\\xebb\\xaa\\x96\\x1b\\x83\\xda\\xde\\xd9!\\xe7^\\xb8my\\xdd\\x0b\\xc8\\xa4\\x90\\x12\\x9d\\x8ce\\'\\xdf\\xaf]+\\xdb\\xc2\\xdb\\x8e\\xe6]\\x86T\\xe08i\\xb9\\x17\\x03\\x1e\\xc4\\x1c|\\x10B\\xdd\\xe1\\xe6&G\\xff\\x00\\x95JF\\x0bn\\x9f\\xcc\\xe3o\\x05\\x1d\\x89\\xe1\\xf6\\xc1\\x07\\xc4E\\xd6\\xff\\x00\\xc6\\xba4\\xf0\\xc5\\xac(&\\xe6\\xe90@\\x12P}\\xe3D\\xc9\\xf2#z\\x16\\'\\x82Z\\xe1\\x96\\xaa}\\x0f\\\\\\xba\\xbe\\xd0! \\xf6d\\x05D\\xf7\\xbb\\xa0\\xc1\\x00\\xc4k\\xef\\xad1\\x93\\x8f\\xc2\\xd8\\xb5j\\x99\\xdd\\xf2[\\x94\\xb8\\x97\\x11\\\\\\xe1<N\\xd7\\x15[7\\x86\\xe1\\xbcB\\xcb\\xef\\xd89\\x81\\xf6N>\\xbbb\\x95\\x88q/($w\\xa3c\\xad\\\\%\\xae\\x14I\\xeb\\xadB~\\x8d\\xc9\\xcb\\xcb\\xd0\\xa0#\\xb4\\xc6n\\xcf\\xcb \\xfc*f}\\xdc\\x8aO\\x98\\x9a\\xc3\\xc4d\\x9c\\xe5rv\\x1cP\\x8cU$W1\\x858\\xda\\x02\\xae\\x1f\\xb6c\\xc7;\\x84\\xc7\\xd9\\x14A^\\x18\\xd9)s\\x17aJ\\xea\\x1aH_\\xe2k\\xab\\xb6\\xe1\\xce\\x1e\\xb7\\xd5\\xac&\\xdd\\xc3&\\x0b\\xc0\\xb8g\\xfbD\\xd3\\xc3\\x06\\xd6\\xd8\\x04\\xda[0\\xc8\\xfd\\x86\\x92\\x9f\\xb8W\\x86\\xf3\\xb7\\xd7\\xf7\\xf5=\\x9fb\\xbb\\x1c#M\\xda:@\\xb6g\\x14\\xbdW@\\xcd\\xb9#\\xe6\\x00\\x1fm.k\\x06\\xbaw\\xf3x\\r\\xdc\\x1e\\xb7\\x0e\\xa5\\x1fz\\xbf\\n\\xedU|\\xe2\\xcc\\x1d\\xbc\\t\\xac\\x0f\\xab\\xf5\\xa3\\xcc\\x01H\\xf26Of\\x91\\xc9\\xa3\\x86\\xb1E\\x7f\\xd8p\\xbbA\\xe2\\xb7K\\x84\\x7fu?\\x8d-g\\x85\\xef?\\xed\\x18\\xa3\\x0c\\xf8\\xa6\\xde\\xcc\\x13\\xf3R\\x8f\\xddO*x\\xabu(\\xfb\\xe8iP\\xf8R9Y9R9N9\\xe1kur\\xeb\\x8d\\x03\\x98\\x8d\\xf3\\xcb\\xfe\\x8f\\xdf\\xa9#:R\\x92C\\n:\\x84\\xa4H\\xd3j\\xa0,\\x90\\x18h\\xc1\\x19\\xc6\\xa0\\x83^\\x8e\\xf1;~\\xb1\\xc1\\xdcP\\xd1\\xd7\\xb4\\xc0\\xaf\\xd3\\xbf\\x8d\\xb3\\x95\\xe6\\xd5\\x9b\\x85V6\\xa6{\\xd9\\x06\\xe2z\\n\\xd5\\xc3\\xbdL\\xb9\\x90\\xa5&P\\xf6\\x82s\\xa4\\x8f\\xb6\\x80\\x923w`\\x1d6:\\x8a\\xd2\\x15\\t\\xba\\xd0\\x9e\\xf2\\x0f\\xdbD\\x05w\\x84\\xeaOH\\xd3j\\xdbfQ^\\x9b\\xc6\\xbbk\\xa4V\\x92\\x13 \\xc4\\x19\\xee\\xf8P-\\x82\\\\\\xb9\\xb7md\\x84)@(\\xe91\\x14Sk%\\x00\\x94\\x99\\xdc\\xf9\\xd4 {\\xc1=\\x92\\xc7\\x8a\\x15\\xd7\\xc8\\xd3n\\x08A\\xb3PP\\x1d\\xe5+\\xe2e4\\xb1\\xfc\\xa3\\xb4\\r\\x92S\\x94\\xeb\\x10b5\\xd3\\xe7H0e\\x93b\\xb1\"\\n\\xd5\\xa7Y\\xee\\xff\\x00\\n \\x1eI\\x84\\x91\\xa0\\x07]L\\xd02\\xa76\\xda\\x1fy\\xa2\\x02\\x8eS\\x12g\\xec\\xa5\\x16\\xed6\\xe2n\\xcb\\xabSe\\xbbU\\xba\\xd6Q9\\x96\\x14\\x90\\x12|\\x01\\n:\\xf8\\xd4 \\x03\\x02\\x01I\\x07\\xc2h\\xb4\\x81?\\xab\\xe14$\\xf7\\x9d\\t&\\x13\\x98\\x02ca\\xe3\\x14JTd\\x99\\x04I\\x9dw\\xf7QD\\x15\\x15\\xa4\\xd9\\xac\\t\\x9e\\xd9:\\x93\\xe4~T\\xc7\\x8b\\xa8vW\\xd3\\xfeA\\xc8\\xfe\\xe9\\xa7\\x8d}]p\\x0e^\\xd4\\x03?\\xbai\\x97\\x14\\x91o\\x88u\\xfa\\x95\\t\\xfe\\xcdE\\xd4\\x16{G\\xc2\\xd6\\xe9g\\x860f\\xb2\\x88E\\x83\\t\\x8fsi\\x14\\xd5\\xc6\\x89\\xcb\\xf4x\\x1bK\\x9b{\\x85tXJ;<2\\xc9\\x03\\xf4Xl\\x7f\\xa2+\\x9d\\xe3ok\\x0f\\xf1\\x87\\x7f\\xd9\\xa2\\xfe&\\x08\\xec\\x88\\x7f\\x9b\\xae$\\xf2?\\x8d\\xd4\\x85\\xa5R\\xd3(9U0M\\xcbB*\\xb4`@\\xb9\\x84\\x86\\x81p\\x87;@\\xa0\\xde\\xa4\\x82\\xa24\\xea\\x15\\xbc\\x1f\\xe4\\xd8Nn\\xdb\\xdb\\xe1\\xdc\\x8a\\xe3\\'\\x9cp$\\xb8l\\xda*p\\x80\\x02E\\xdbP\\'\\xf15S\\x9a\\xe2$2\\xd8m\\x9cQ\\x846&\\x00q\\xb2\\x04\\xeaw\\xd7\\xce\\xb6\\xe1V\\x9f\\xa8\\x19%[)jSe)-\\x1dB@0F\\xdf\\x01\\x04I\\x107\\xd4x\\x93\\x8e^\\xdb\\xb5\\x87?l\\xa7\\x1bv\\xe5jJ{$\\xba\\x12\\xe2\\'\\xbc\\x14S\\xa9\\x89\\x03C\\xf3\\xae\\x19\\xbe\\'R\\x81O\\xd2\\xacB\\xb7\\x853\\xaf\\xc6)K\\xf8\\xf2q\\x15\\xa1W\\x98\\x95\\xbb\\xea@\\x84\\x92\\xb6\\xc4\\x0f\\x0e\\xecO\\xc6\\xb4\\xf2\\xb0&[_GTe\\xe5\\xa6\\x1e\\xa3\\t\\x0b\\xc4o\\x0e\\xa4\\r{H\\xfc*U\\xc4]Sn\\xa0$\\x0fc\\xaf\\xbc\\xd41\\xc9\\x9e\\x1f\\xb3\\xe2nT\\xf0\\xdb7O8\\xabAwx\\xf1KKIC\\xc3\\xb7V\\x8a\\x04\\x19\\x12\\x90A\\x10A\\x1b\\xd4\\xcf\\x7fm\\x8b<\\xe3j\\xc2\\xd9\\xb7u\\x90\\x88Qyd+4\\x9f?\\x08\\xaf7:\\xd5\\x8d\\x06D\\xcd\\xbaLu\\xd3\\xe7F\\xa1\\xc9\\xdc\\xc7\\x8d3\\xdb8\\x1d\\x00\\x05*<\\x01\\xa5\\xed\\xc0\\xd0\\x19\\x02\\x04\\x9d5\\xaem\\x1d\\x1c\\x90\\xbd.\\x08\\xdf\\xdf\\xa5\\x18\\\\\\x84\\x99\\xf9\\x1d\\xa9+z\\x8e\\xbe\\xea8\\x80\\x01\\x06\\'\\xacS\\xa4R\\xc1\\xf6\\x80\\x92\\x7f\\x1e\\xb4kj\\x1b\\t\\xde\\x8aLL\\xf8\\x9d(\\xe4\\x10\\x0e\\xd4\\xd4V\\xd8;\\xe6\\xcd\\xc6\\x11\\x8b5\\x13\\xdaa\\xd7h\\x8f\\x19ab\\xbc\\xc8\\xc3VU\\x87Y\\xea5i;\\x0f\\xd9\\xd7\\xf9\\xf2\\xafPXOl\\x1dh~\\x9b.\\xa0\\xfc[P\\xfck\\xcb\\x9c(\\x8f\\xa3-\\x02\\x8cCI\\x04\\x0f-+^\\r\\x19\\x930\\xb9\\x1a\\x97\\xfb\\xb2{\\xa7A\\xbe\\xa3\\xf8\\xd1H\\x01k\\x00\\xabC=(`\\xff\\x00X?\\xb2\\x0c\\xfcE\\x14L\\xee\\t1\\xf2>U\\xb4\\xc8)\\xb2t1\\x7fn\\xe2\\x95\\x91\\x08p\\x12H\\xd8m\\xf1\\xa4\\xec\\x80\\x94\\xa0A\\x11\\x1b\\xf9V\\x126#\\xa14 \\x12\\t\\xd2#\\x7f*\\x9d\\x00\\x05\\xd5}Z\\x87\\xb2\\n\\x0e\\xde\\xe3\\xfc)\\x0e\\x0e\\xa3\\xea\\x8b\\x00i\\'\\xcb])r\\xa3!\\x00\\x04\\x92\\x0c\\xfc\\x8d7`\\xb2m\\x0c\\xf5\\x98\\x1d\\x0e\\xd4z\\x10v\\t\\x10\\xa5\\xcc\\x8c\\xd1\\x10`\\xd1\\x96\\xcedn\\xf71\\x01NZ)\\x03M\\xced\\xe8<\\xe0Q\\x1a\\x01\\t\\xd4{\\xebD\\x00`\\r<\\xaa\"\\x1b$I\\x11>\\x12(\\tYQ\\xd2|\\xfe{\\n\\xd9(\\x92\\'}|()0\\xa5OEi\\xadB\\x07\\x95E\\xa2\\xa7\\xd9\\xedDH\\xfd\\x93\\xb53b\\x8a\\x8bl@\\x0f\\xd4\"#m#\\xe3N\\xa1\\x7f\\x92\\xe5\\x1e\\xd8zL{\\xb7\\xa6\\x8cJ;\\x0b\\xd0\\'Q\\x96>1O\\x1d\\xc5n\\x95\\x9e\\xde2\\x8e\\xcd\\xb4\\xa0l\\x90\\x07\\xd9\\\\\\xaf\\x1b\\x18r\\xc3oe\\xdf\\xf6+\\xad\\x1d}\\xf5\\xc6\\xf1\\xca\\xbe\\xbe\\xc4x6\\xe9\\xfbQJ\\xb5aZ#\\x99\\xc1\\xae\\x1b]\\xa2\\xdbq-\\xb8\\xda\\x94s!\\xc4\\x05\\xa4\\xc1\\xea\\x93 \\xd3\\xb2Y\\xb3V\\xf6V\\x04\\x7f\\xe4\\x9a\\xff\\x00\\xe3M\\xbc;d\\x15d\\x14\\xad\\xca\\x94i\\xf96b\\x05Y\\xa0\\x04\\xe9\\xb7\\xb1:z\\x85\\x87\\xff\\x00\\xa4\\xd7\\xff\\x00\\x1a\\x12\\xed,N\\xd6\\x18y?\\xf9&\\xbf\\xf8\\xd2\\xa1f(J\\xb5\\x00Q\\xb0P\\x97\\x0eKh\\xb9\\xec\\xd9i\\xb6P\\x80a\\r6\\x10\\x91>\\x00\\x00+\\xae\\xc3S\\xf94\\xf8\\xa8\\xd7-d\\xd8M\\xe2\\x87\\x95u\\x98p\\x8b6\\xfe?y\\xa5\\x9b\\n++\\x90\\xe3\\xe1\\xf6\\x13\\x91\\x8b\\xa4\\x87\\xd2\\x9f\\xd5\\'\\xdaO\\xc1AB\\x9cm\\xf6\\x8e\\xbaG\\x9d\\t\\xe5\\xb3\\x88\\xb6q\\x0b2\\x82\\xc5\\xca\\x13v\\xda\\x10\\xa0CEz:\\x88\\x1beX\\xf9\\x1a\\x13#/M:\\xd7=\\x87\\xdf\\x82gC\\x91\\xa4\\xf4\\xd8V\\x89\\xd3_\\x9e\\xf4<\\xb3\\x1dcj\\x02T\\x07Y\\xf3\\xa3d\\x085zFv\\xc1\\xa1#\\xbb\\xd4\\xeb\\xbd\\x1c\\x84\\xe9\\x11\\x03\\xf9\\xfbh\\t\\xd8\\t\\x89\\x1a\\xd0\\xc126\\x11DF9\\xe1c5\\xf5\\xbaI\\x12\\xa5\\x81\\x1e\\xfd+\\xcb\\x1c=\\nm\\x8e\\xc8\\x18\\r\\xadI\\x88\\xda\\x14G\\xe1^\\xa6aZb6~\\x1d\\xb2\\x07\\xfaB\\xbc\\xbfu\\x9e\\xc3\\x12\\xc4Y\";;\\xbb\\x94\\x10|\\x9fX\\x8f\\xb2\\xb4a\\xd1\\x99sl\\x05\\t\\x85\\xbf\\x1aKS\\xf6\\x8a&aF\\x0e\\x92f\\x0c\\xfc~\\xcaZ\\x96P3h\\xa1\\x9ce\\'1\\xd4\\x7f\"\\x92% \\xe4*2OI\\xd5;o[\\x0c\\xc0\\xed\\xdb\\x97\\x98J\\xcfuK\\x00\\xeb\\xe7\\xbf\\xca\\x83\\x94g I\\x01F#Y\\xd7\\xcfz\\x1b$\\x07\\x1bR\\xb6J\\xc6h=\\'\\xf8P\\x9b\\x92\\xf2\\x8asF\\xb0z\\x99\\xdb\\xef\\xa9\\xb9\\x04\\xeaH\\xca\\xbe\\xf2}\\x93\\xa4\\xef\\xa57`\\x00\\xfa\\x9a\\xa6c1\\'\\xec\\xa75\\xa4\\x80F\\xc7)\\x11\\xe5\\x14\\xd9\\x81\\xc9\\xb5s}\\x14b~\\x14z\\x13a\\xd5fF\\xc2w\\x06\"\\xb2\\xdd\\xb4\\xba\\xa7B\\x94\\xa8K.,@\\xea\\x04\\x8a\\xdc\\x95t$\\x11\\xf8V2BK\\x99\\x95\\x96XX\\x1ahI\\x1b|j-\\x10\\x02\\xa7\\xcc\\x806\\x8a,HQ\\x9d\\xf7>\\x11CT\\x9c\\xc4\\xc8\\xd6LxP$f\\x9f~\\xe7\\xf1\\xa8@c\\xd8#I\\n\\xf0\\xf0\\xff\\x00u5\\xdf\\x90\\x96\\xae\\x88\\x00\\x84\\xc1\\x83:\\x80\\xa1?\\xcf\\x9d>Y[\\x1b\\xab\\xabv\\t\\x82\\xf3\\xb93\\rH\\xd3x\\x1fu4cV\\xca\\xb7\\xbb\\xc4-\\xdc\\x08\\xee\\xb8\\x10\\xa2\\xdc\\x94\\xfbQ\"i\\x93\\xa7b\\xb5\\xa1\\xed\\xd2\\x16\\x16\\x02\\x90AJ\\x84\\x82:\\x88\\xae+\\x8eV=r\\xcd:~a\\xc3\\xf6\\xa6\\x9f\\xb8v\\xef\\xd6p[3\\xba\\x9bGd\\xbf\\xdeGw\\xf0\\x9a\\xe6\\xb8\\xe1AX\\x95\\xbc\\xc4\\x8bS?\\x15\\x7f\\xba\\x85S\\nv\\x13\\xc3\\xc0\\x0c=\\xb1\\x1dM=\\xa7\\xa53`\",\\x1a\\xf3\\x9ayM1\\x03S\\x15\\xa5\\xd6$V\\x9c:S\\x00Ii\\xfdm\\xc3\\xe5]M\\x86\\x96\\x8d{\\xa7\\xed\\xaeZ\\xcfW\\xdd5\\xd5\\xd9\\xe9j\\xcf\\xee\\x0f\\xba\\x96dE^\\xe1\\xae\\x10\\xe2^\\x0f\\xc2\\xc9\\xe2\\xde\\'s\\x89/q\\xdbt>\\xda\\x1b\\xb7E\\xbb6hoR\\x10\\x84\\xe8\\xac\\xe0\\x82U?\\xa3\\x11\\xd4\\xbc4g\\xbc\\x0f\\x81\\xaeC\\x03\\xe2\\x8e$\\xba\\xc7\\x19v\\xdb\\x96\\xb6\\x9c5\\x85\\xa9\\xcf\\xae\\xbb\\xc6\\xb1\\xd1qvZ2U\\xd9\\xdb5)B\\x893\\x04\\xc6\\xf5\\xd55)\\xdb\\xdd\\x03j\\xf2\\xdcyv=\\x84\\xf4\\x16$\\x89\\xd3j=$h7\\x03\\xad\\'JOS\\xa7Y\\xa5-\\xa6\\x80\\xad\\x87\\'Ph\\xd4\\x8d|\\xa8-\\x80\\x04t\\xa3\\x906\\xcb\\xa9;P\\x00\\xa7\\x0f1\\x7fj\\xae\\xbd\\xb2\\x0f\\xfaB\\xbc\\xcd\\xe2$z\\xaf\\x16\\xf1+AZ7\\x8b\\xdf\\r\\xb6\\x8b\\x85\\xff\\x00\\n\\xbfX\\xff\\x006\\xb8O\\x85\\x91\\x89)X\\xbd\\xa5\\xf61\\x85\\x95\\x0f\\xa2\\xd9R\\x8b\\xae>\\x0e\\x8d\\xed\\x03X\\x93:\\t\\xaf=\\xb1k\\xcb\\x9b\\xbe%\\xc6\\x9f\\xc4R\\x11wu{qp\\xfaP\\x02R\\x16\\xb7\\n\\xcc\\x0e\\x83\\xbd#\\xca\\xaf\\xc3M\\x94g\\x8c\\x92V\\x83R\\xe9\\x0e8\\x01\\xd9\\xb5\\x14\\xcfC\\x14P+\\x01+PPA$%]\\t\\x11\\xa5\\x01\\xb7\\x07l\\xb5lKj\\x04\\x7fd\\xcc\\xfd\\x94Wn\\xa2\\x023\\x12\\x90\\xa2@\\'m\\x04\\xc7\\xca\\xb5\\x99\\x03\\x83\\x80\\xab/xF\\xbbm\\xe7B\\x0b\\x12\\'@\\x0cx\\xd2\\\\\\xe0\\x88\\xd2F\\xb3\\x9a\\x87 \\xe9 \\x98\\xd2w\\xa2\\x00\\xd5\\xac\\x16\\xc8\\x981\\x1bS^\\x04\\xa1\\xean\\xe4)\\x80\\xb5~\\x8ct\\x14\\xbdR$\\x02\\x8f\\x9c\\xd3^\\x06S\\xea\\x8e%$\\x0f\\xacTA\\xf2\\x15:\\x04x\\xed\\x11\\x1a\\xc0&\\x0e\\xa0\\xc5gj\\x90bD\\xc6\\xbaE\\x15\\x99pr\\x10\\x93:\\x9c\\xda\\x9a\\xd1Q\\xd0\\x82\\x15\\x07\\xc6c\\xca\\x80\\x03\\n\\x93\\x98\\xea4=?\\x9d(\\xbc\\xc0\\x15\\x19\\x00\\xec`\\xd1\\x8f\\xdb\\xbbj\\xe9E\\xc2R\\xda\\xe1*\\xd1aZ\\x11#PH\\x9a (\\x8e\\xa0k\\xec\\x82\\x04\\xebR\\xe8;\\x87\\xb4\\xa7\\x048\\xdc\\x10\\x83\\xe4cO\\xe0i\\xb6\\xf1\\xe7.\\xef^q\\xe5\\x97\\x1dq\\xf6\\xf3(\\xeeN\\x7f\\x1aV\\x16\\xa4\\xa0J\\x94\\x84(\\xc1\\x13\\x1e\\x1d)\\xbd .\\xef(\\x9e\\xf5\\xe3\\x00k\\xe2\\xe0\\xa2\\x80\\xf6=}\\xe0\\xdcu\\xb6\\xd5\\x88Y\\xbc\\xe1AE\\xd6f\\xf4\\x91\\nN\\xbf\\tO\\xdbB\\xe2\\xc7\\xcb\\xd7\\xec\\xa9e%B\\xd0\\x05e\\xd8\\x9c\\xca\\x9a\\x8f\\xb0|EH\\xc6\\xaeZT\\xad.\\xa1\\xc4\\xe5\\x06\\t#P\\x06\\xa3]\\x0cS\\xf5\\xd5\\xca\\x95\\x19\\x9d\\x0fC`H\\x10\\x06\\xa7H\\xe9S\\x9b\\xde\\xa1b\\xbd\\xdb:\\xac\\x17K\\x16}\\xd4\\xea\\x15L\\x98;\\x91b\\xcf\\xee\\xd3\\xa2]\\xa7\\x0b\\x15\\x83\\xf0\\xa0:\\xa8\\x06\\x8bK\\x94[\\xcehh\\xa0\\x01\\xb1W}\\xe3]e\\xac\\x8bfd\\x9f`t\\xae6\\xc5z;\\xef\\xae\\xb5\\n\\tBB\\xdb\\n\\xee\\x88\\x84\\xf4\\x8e\\xb5$\\xac\\x88\\xad\\x8d\\xa3\\xd9\\xda\\x97\\xb7\\xa8\\x92i\\x0b:\\xa1$R\\xb6\\xd5\\xac\\x13\\xe4+\\xcdh\\xf5\\x85\\x88=>4\\xa5\\x06\\x0c\\xd3\\x7fl\\x94\\x8dT+k\\xc4\\x99hJ\\xd6\\x07\\x8c\\x9e\\xb4\\x8c\\x83\\xaa\\x15\\x1e\\xea\\xe69\\x95\\xc5\\x8f\\xf0W\\x03b\\xb8\\xd5\\x82s]\\xb7\\xd9\\xdb\\xb0\\xb8\\x9e\\xc9n\\xab p\\x8e\\xb9fc\\xc6(\\x8b\\xae5\\xb1e\\xee\\xc1\\x97\\r\\xc5\\xc10\\x96\\x98\\x05\\xc5\\x9f\\xec\\xa6MG\\xfc\\xf5\\xbd\\xc7\\xcf.O\\xae\\xe0\\xf7\\x18~\\x19\\x7f\\x89[\\xdb\\xa9\\xeb\\x9c\\xa9\\\\\\x8c\\xce\"\\x1b$\\x91%\\xb8\\x92*B<\\xf3Q]@\\xe4\\xb1\\xaeyl\\x88:\\xc7\\x16\\xc2\\x1a\\x17\\x83\\x17\\xb0w\\x18\\xed\\xed\\xd4\\x86{K\\x97m\\x94\\xc3\\xe4\\xc8~Q=\\xa1\\x9d\\xd2\\xa1\\x07\\xca\\xb9,K\\x02\\xb1\\xc4_[\\xee\\xa8v\\xa1*Q[em\\xac\\x80&$|w\\xf1\\xa5DLK\\xee\\x01\\x1d[O\\xf3\\xd6\\xb5\\x91DG\\xad(H \\xcb\\t3#\\xf7\\xabW\\x91\\x9a\\xd5/\\xa9g\\xf1>\\x1e[\\xf5\\xf9\\x10\\xf3\\x18\\xc5\\xd1[\\xeb7n\\xb6\\xd0\\n\\xc8\\x97\\x15\\x9f]`I\\xde4\\xde\\xbbvn\\xf0\\xcb\\x8bv\\x96\\x97l\\xd4\\xe9\\xc8V\\x0b\\xc11\"LkN6|\\'od\\xd8m\\x9b\\xc5\\x94\\x805[ \\xcf\\xbfZY\\xf4\\x1bJ9T\\xbbw4\\xfd;Y\\xad\\x8b\\x1c\\xd7C\\xc4\\x96HK\\xa9\\xcdc\\xee[[aj\\xb9\\xc3^l\\\\\\x07P\\x99\\xed\\x12\\xb1\\x94\\x92\\x0e\\x87\\xe1M\\xccbM\\xb8\\xda{E2VbtN\\xb5\\xd7\\xbb\\xc3\\x16\\xabQPj\\xc1+\\xfdoV\\x83\\xf3\\x8a\\x0f\\xf4sH\\x9b3\\xd3\\xd9P\\xfc>\\xfa>\\xce]\\x85S\\x8fs\\x98f\\xfe\\xcd\\xc2\\xa2\\xfb\\x8c\\xa1\\x19e*\\x04hdF\\xdd7\\xad4\\xbc6\\xcd\\nM\\xab\\x8d\\xe5R\\x89P.I\\x93\\xbe\\xb1]2\\xf8uJ\\xd4&\\xcc\\xf9\\xc9\\x1f\\xec\\xd1J\\xe1\\xd5\\xab7\\xd4\\xda*F\\xbd\\xef\\xf7TP\\x95lNu\\xdcf7V\\x02!\\xc1\\x9a=\\xa0\\xe0\\x1e=|*N\\xc1\\xf8;\\x95\\x98\\x9e\\x11\\x84\\\\\\xe2\\x1c\\xd8V\\x15\\x88]\\xda\\xb4\\xed\\xf5\\x93\\xd6\\x03\\xf2W\\x8e\\x8bnLNS:\\xce\\xa2\"\\xb8ep\\xd2\\x8c\\xfeIj\\xa91\\xa3\\xa2\\x86\\x8e\\x1cm)\\x85X\\xb2\\x08\\x9d\\x9d\\x1f\\xc7z<\\x8dt\\'2\\xee!\\xc6\\xedp\\x8c;\\x15\\xc4\\xedp\\xbcE\\x8cb\\xce\\xd6\\xf5\\xd6m\\xaf\\x1aAB.\\x9bJ\\xa1/\\x01&3\\rbi\\xa9\\xc7-B\\xdc\\xec\\x8a\\x94\\x81\\xd4\\x88&7\\xd3\\xf1\\xa7\\x97\\xb8rW\\xa5\\x8bgY\\xfc\\xe01\\xa7\\xbe\\x89W\\r) \\x81f\\x08\\xf2p\\x18\\x9f\\x8d/#\\xec3\\x92\\xee5\\xdc-6\\xd7*i\\xf6\\x0bN\\xa5\\xb4,$\\xabR\\x95\\t\\x07Bt\\x82\\x08\\xf7\\xd4\\xab\\xc8\\x0c\\x1b\\x04\\xc4\\xb8\\x8a\\xe1\\xdcS\\rg\\x11\\xb8meL\\x9b\\x94\\xe7KK\\t\\x04\\x10\\x83\\xa4\\xeb\\xb9\\x9a\\x8e\\x87\\r\\x84\\xb8\\xa2,\\x14\\t\\xeb\\x9aG\\xdfRG,\\xd3e\\x81bM\\x1b\\x97Z\\xc3\\x92T\\n\\xd6\\xe3\\xbd\\x9f\\xdb4\\x1cZDrOB\\xd7\\xb5\\x89\\x1b7\\xed\\xee\\t\\xef!\\xc4\\xa8\\x9d\\xce\\xfb\\xc7\\xc6\\xbbt\\xb8\\xb0\\xca\\xcb\\x84g\\xd7>\\xba\\xe6\\xeb=*\\x01\\xc4\\xb1\\xfc%\\xcb\\'\\xd1g\\xc4\\x96*s\\xb3=\\x99\\x18\\x9aOz4\\xd37\\x8dX\\xbb\\xeb\\xeb\\x1cS\\x0b\\xc3\\xb1\\x9b\\x042\\xc5\\xa6)\\x85\\xdb_\\xa04FO\\xadFbGH\\xf7Rr\\xea\\x98`\\xf4\\xa3\\xa4\\xc2\\x16E\\x8b\\x00\\x1f\\xd1\\x14\\xe6\\x97\\r2a\\xae\\xa4Y\\xb1\\x06e\\x02<\\xe9z^\\x02\\x98#\\x92\\x1c\\xd6\\x80\\xfa\\xc6S4\\x9d\\xb7\\x87\\x8d\\x16\\xf3\\xc3)\\x83L\\x88\\x1f`e\\x0ey\\x9a\\xe9\\xcb\\x8e\\xb9\\x06\\xd5\\xe5%\\x10\\x01\\x1d\\x900~U\\xcba\\x8a\\xfa\\xb2\\x7fj\\x9c\\xd9\\xbfs$\\x87S\\x07P\\xa2\\x02\\xb3y\\xc9?\\xccQ\\xea\\x02\\xbd=\\x8dZ\\xd9\\xb4\\xa2\\xf3\\xa9@H\\xddF\\x051\\xff\\x00N\\x06\"\\xf2\\x98\\xe1\\xeb;\\xcca\\xe0`\\xa6\\xcd\\x92\\xe0\\x99\\xea\\xa1\\xdd\\x1f\\x13O\\x96\\x9c\\x11\\x80\\xda).\\xbdfqG\\xc1\\xcd\\xda\\xdf\\xb8^\\xd7\\xf7}\\x9f\\xb2\\xbb\\x0bg\\xf30\\x1bh\\x06[N\\x9d\\x93`%#\\xdc\\x06\\x95\\xe4K\"\\xe8\\x8fmc}N&\\xcb\\x87\\xb8\\xcf\\x1b\\xd6\\xe5V<:\\xc9\\x8d\\x1es\\xd6\\x1e\\xfe\\xe2;\\xa0\\xfb\\xd5]\\x1e\\x1f\\xcb\\x1c%\\nK\\x98\\xe5\\xee#\\x8e\\xba7K\\xcfv,\\xcf\\xf9\\xb4D\\xfcI\\xa7\\xe6\\x94R\\xa1\\xd2\\x9c\\xdb^`\\x0c\\xd5.M\\x8c\\xa2\\x90v\\x19ae\\x843\\xd9`\\xf6V\\xd8s\\x7f\\xabl\\xd2[\\x9fy\\x1a\\x9f\\x89\\xa8\\x9b\\xd2\\x91\\x19\\xf9H\\x1d:\\xf68\\xed\\x8a\\xfe\\x07\\xb4L\\xff\\x00\\xa5R\\xf3J\\xa8\\xaf\\xd2`\\x05\\xf2_\\x18Q\\xdd\\x9cC\\x0fs\\xdd\\xf9@\\x1f\\x8d]\\xc3\\xe9\\x9a\\x1e\\xa8\\xa7\\x89W\\x86^\\x85.\\x9d\\xc6\\xc2:V\\xc2\\x86\\xc7.\\x9d<4\\xfbh\\x89\\xf1\\xd3\\xa6\\xfa\\x8a\\x1af6\\x80f?\\x9e\\xb5\\xd4\\x1c\\xb7\\xa0zI\\xde \\xf8\\x93\\xfc\\xc5\\x08\\x190O_\\x0f*,h:\\xfc\\xa8q\\x06:\\r\\xb5\\xa0=\\x06\\x15L\\xea<\\xb4\\xac3\\xb0\\xd7\\xadbA\\x99H#\\xc2+J\\xd2@\\x11:\\xd4\\x18\\xc5(\\x81&D\\x1f\\x1a\\n\\x89\\x03M\\xb4\\x03\\xca\\xb1Zh<\\x86\\x94R\\x95\\xbc\\x1d\\xc0\\xf3\\xa0\\x80\\xc33\\x10\\t\\x93\\xb1\\x92(\\xb2u\\x03s\\xe7ZR\\xf7\\xde\\x13\\xb1\\xa0v\\x99H1\\xd7O:!\\x04I\\xf7\\x9d\\xfd\\xd4T\\xce\\xa3M:\\xeb[*\\x81\\xa6\\xbe\\x14\\x12sm\\xa8\\x9d\\x0fJP\\x81Q\\x82`\\xc7@&\\x96\\xdb\\xe0\\x0f\\\\\\xe1ObO\\xdf\\xe1\\xd6m\\xb9\\x99\\xbb\\x06TK\\xae>\\xeaN\\xa1a>\\xc2tP\\'\\\\\\xa4k\\x1a\\x02\\x88\\x93\\xef\\xf0\\xf3\\xa4\\x8f\\xb6\\xdb\\x93\\x9d\\xb4*G\\xe9\\'_\\xe7O\\xb0RMJK\\xddt<\\\\c\\xf1+\\x08x%(x\\xe4mE)Q%\\x10\\xa1\\xa4\\xecz\\x8d7\\xaf@\\xa7\\xfa)\\xe8\\xfb\\xc2\\x9cU\\x89\\x86\\xce\\x11\\x83pv\\x12\\xeb\\xed\\xb7\\xdft\\x842\\x89\\xca\\x83\\t:\\xa8n\\xa1^}]\\xebl\\xf0\\x9c\\xb2\\xda\\xbc\\xe3B*\\xe5\\xf3{\\x98\\xf6\\xf6^\\x88\\n\\xc2\\xeel\\\\e\\xd7\\xb8s\\x0c\\xc3\\xdbZ]\\n\\x05jKZDO\\xb2\\x95\\x1f\\x85U\\x9d\\xd4Rca~\\xf6\\x85\\x83\\xc38s\\x15]\\x93\\x0e\\xb2m\\xbb\\x17\\x90\\x1dH/\\x90@_{PD\\x8d\\xf6\\xa5\\xe3\\x87qh\\xd5,\\x1f\\xfe\\xff\\x00\\xfb\\xa8\\x9e\\x16\\xe3\\xbblb\\xe3\\x0c\\xc3\\x9a\\xb1z\\xdf\\xb7\\xb1C\\x8d\\xba^B\\xd1!\\xb4\\xab.\\x9a\\x9d&\\x0f\\x97I\\xae\\xcc;Y/\\xb1\\xa6\\xdb\\xdc\\xe5\\x93\\xc3\\xd8\\xa0\\xd7#_\\x07\\x85%\\xbe\\xc21\\x1b+W\\xae\\xaeZ\\x1d\\x83\\x08.8R\\xb0\\xa2\\x12\\x04\\x93\\x03S\\x00t\\xd6\\xbbP\\xecj\\x02\\x89\\x00\\x90\\x06\\xe7\\xca\\xa2\\x9e7\\xe76\\x0bc\\xcb\\xde%\\xc4.l\\xf1\\x1bd5\\x85\\\\*\\\\Kz\\x12\\x82\\x94\\xec\\xbf\\x12?\\xe3G\\x99\\xa0\\xaac\\x07/\\xf8\\xbf\\n\\xc4E\\xf7\\x10\\xb3\\xc7\\'\\x19\\xc11T\\x1f\\xa3\\x1az\\xc5\\xcbF\\xdaJT\\xa8#:\\x12J\\xb4)\\xcc\\x06\\xa13\\xd2\\x8d\\xb2\\xe2\\'\\xdb`6\\x8c\\xefe\\xd0\\xa8\\xa8(\\xce\\xfe\\xd2\\x13\\x95[\\xee7\\xa4^\\x8d\\xdcO\\x82=\\xc9~Z\\xe0\\x18\\x8d\\x8b\\xae\\xad\\xdc9(J\\x9fa\\x0e2\\x1c\\xcc\\xb8323\\x19\\x03N\\xa0iR\\x9d\\xcf.\\xb0W\\xd6\\r\\xba\\xaf\\xac[H\\x80\\xd5\\xbd\\xc9J\\x07]\\x01\\x067\\xda\\xaa\\x9b\\x94\\xb6\\x1a-u)w(\\xfd \\x18\\xe2\\x07m\\xb8\\x7f\\x98O\\xb3c\\x8d*\\x1a\\xb4\\xc5\\x95\\r\\xdb\\xde\\xab`\\x87\\xba4\\xe9\\xe8\\xad\\x10\\xbe\\xb9N\\xf6\\x05)r\\xd5\\xd5%\\xf6\\xd4\\x85\\xa4\\xc2\\x92\\xa1\\xa8\\xf25\\xe6\\x15\\xce,\\xc2\\x90\\xb4\\xf7]A\\x06DhG\\xc6\\xa7\\xeeI\\xfaN\\xbb\\xc2\\xe8\\xb6\\xe1\\xeec\\xbc\\xfe!\\xc3\\xad\\xe5j\\xd7\\x13\\x82\\xed\\xce\\x1a\\x8d\\x82V7y\\x81\\xe1\\xaa\\xd0=\\x9c\\xc0\\x04\\xd59pu\\x89\\xb7\\x17\\x11zL\\xba( \\x80Rt:\\xf8\\xd2\\xbbwz\\x1e\\x94~\\x15\\x86\\xb1}amz\\xc5\\xf5\\xb5\\xf5\\x8d\\xd3a\\xebk\\x8b7\\x03\\xad\\xbc\\xd9\\xd9hph\\xa0|E91kmn~\\xa5\\xa1?\\xac\\xae\\xf1\\xac\\x1b\\x1bD\\xf6\\xed8\\xbdR\\x83\\x97\\xc4\\xe8*;\\xf4\\x88\\xb4R\\xb9%\\xc5\\xcbR\\xa5M&\\xd1\\xd0\\x12?V\\xe9\\xaf\\xe3R\\xa9\\\\\\x8d\\xea<\\xe7\\xbb=\\xbf%\\xf8\\xe5\\x1e\\x18hs\\xfb\\xaf6\\xaf\\xc2\\xad\\xc2\\xeb,_\\xcd}\\xcas\\x7f\\xc5/FP\\xa2\\x91:k\\x04\\xeb\\xbf\\xc6\\x8c\\t\\x102\\x8d74id\\x95\\xc8\\xda~t0\\xd6\\x90\\x9e\\x9bWP\\xd9\\xcc(\\x81\\x08\\xf7\\xf8\\xfb\\xa8i@\\x07R~[\\xd0\\x92![|#z\\xc0\\x0c\\xc1\\xefy\\x8aT\\xc7\\xe55\\x94N\\xba\\x08\\xd2}\\xd5\\x93\"{\\xc7Z\\x19\\xee\\x89\\x98\\x00\\xcf\\xbfJ\\t\\xdc\\xfe\\xb7\\xdfD4\\'Y\\xee\\xc1:L\\xea:Q*T\\x13\\x04\\xcfZ9{\\r\\xa0m\\xe7D\\x14n\\x0f\\x87\\xca\\x8ab4\\x05K\\xde#\\xf1\\xebA\\x07\\xe4F\\xbf\\xcf\\xdbBR4:\\x10\\x0cA\\x9a\\x07S\\xa4\\x98\\xf7E\\x1e\\x84\\xaa`\\xc1\\x1d \\xeb\\xb05\\xa0dk\\xa7_\\x9dh\\x9d\\x803\\xd2+c@H:\\x9f\\x0f\\xe7JA\\xd1\\x84}\\xda\\xff\\x00\\xc2\\x88ti\\x04m\\xa6\\xfe\\x14y?\\xac5\\x8dt\\xa2\\xd6v\\xd4\\x9f\\t\\xa9`\\xa1\\xb6\\xfc\\xf66\\x97+\\xc8\\tK+VX\\xde\\x01\\xab\\xd7\\x8e\\xf2\\x08\\xf1G\\x01X\\xe0\\x18\\xdf\\x1bb+\\xc2\\xdf\\xb3\\xb4%\\xa1\\x84Z\\xf6\\x88\\tB\\x14\\x80\\x1c\\x10{\\xban\\'\\xce\\xa8\\xbe \\xd9]\\x85\\xca\\x7fY\\xa26\\xeaEzr\\xfd\\xe2\\x9bf\\xd1\\xb1\\xec\\xb7n\\xca#\\xdc\\xdaEc\\xe2e\\xb1\\xab\\x04-\\xb1\\x0e\\x07\\xcb\\xfcg\\x0b\\xc50\\x9b\\xd3\\xc6,\\xbe\\xcd\\x8b\\xcd\\xb8\\xb6~\\x80m\\xa5<\\x84\\x8c\\xa5\\x19\\xd2\\xec&GP\\x9d*O\\xf5\\xc4\\x83\\xbdq\\xcc\\xe2R\\x91\\x94\\xd2\\xc6o\\xb3\\x1d\\xe4\\xd65#O!\\xd4&\\xe8H)\\xdcj4\\xa8\\x87\\x8e\\xb91{\\xc5\\x96\\xfcAem\\xc4\\xd68~\\x11\\x8b\\xa5i\\x16\\xce`\\xebu\\xcbp\\xbfh\\x05\\x87\\x92\\x15\\xde$\\x89N\\x9aT\\x8e\\xd5\\xc1T@4\\xa1J%0M+\\x95\\x8c\\xa0\\x88{\\x86y\\x13\\xc4<+\\xc2\\x98^\\x05\\x82\\xf16\\x08\\xf20\\xeb`\\xcd\\xbd\\xcb\\xb8;\\xe8\\\\\\x82HYJ_\\x8c\\xd2gH\\xa9\\xee\\xdc?\\xea\\xec\\xfa\\xe2\\x9a]\\xcff\\x9e\\xd9M\\xa4\\x84\\x15\\xc7x\\xa4\\x1d@\\x99\\x89\\xa4\\x96D\\xa8\\x04\\xa7S\\xe0*\\x1f\\xe3\\x0fK~SpF=q\\x82b\\xbcF\\xe5\\xe5\\xf5\\xae\\x97\\x07\\r\\xb5]\\xd3M\\xaf\\xaa\\x0b\\x88\\x059\\x87P\\t\\x83\\xa1\\xd6E4U\\xec/)\\xe4zVRN\\xba\\x9d\\xfc\\xc8\\xa3P\\xe6^\\xa7\\xc3\\xe1\\xe14\\x99*\\x99\\x07C\\x14h:I\\x04\\x18\\xd7\\xce\\xb4nV\\xb4&\\xbeF\\xfaE\\xf1\\x07&/\\xfdIIs\\x19\\xe0\\xfb\\x95\\xe6\\xbc\\xc2\\x1cr;5\\x1d\\xdd\\xb7Y\\xfc\\xdb\\x9e?\\xa2\\xb1\\xa2\\x84\\xc2\\x87\\xa2\\xfc\\x13\\xc6\\\\?\\xcc~\\x1b\\xb6\\xe2.\\x0b\\xc4\\x91\\x88\\xe1o\\x92\\x85\\x102\\xb9n\\xe8\\x12\\xa6^F\\xed\\xb8$ht \\x82\\x92\\xa4\\x90k\\xc80}\\x99\\x12\\t\\x92H\\xf1\\xf0\\xae\\xc7\\x96\\x9c\\xd0\\xe2nS\\xf1\\x1aq\\xce\\x0b\\xbfK\\x0e\\x90\\x13sj\\xe8\\xcfox\\xd83\\xd9\\xbc\\xd8\\xf6\\x93\\xbc\\x11\\nL\\xcaH5\\x9f.%=V\\xe6\\xacy\\x9c4{\\x1e\\xb5\\xf6\\n\\xe9\\x06\\xb9\\xde<\\xe1\\xf7\\xf8\\x9f\\x828\\x8f\\x01\\xb6q\\xab{\\x8cS\\x0ev\\xd5\\x97_\\n-\\xa1j\\x02\\n\\xb2\\x82bGA\\\\\\xf7%\\xf9\\xe9\\xc3\\x1c\\xed\\xc2\\x1c{\\x02W\\xd1\\xb8\\xf5\\xaba\\xccC\\x04}\\xd0\\xa7\\x98\\x1a\\x02\\xb6\\xce\\x9d\\xabRc8\\x12$\\x05\\x00H\\x99;0\\x02\\xb0S\\x84\\x8d\\xb6\\xa6\\xa8\\xf3\\xcb\\x17\\xe5\\xef\\x14`\\xd7\\x8f\\xdb\\xb9\\xc3\\xd8\\x95\\xe8iE>\\xb1gf\\xe2\\xda\\\\uI \\x12>\\x14\\xcc\\xee\\t\\x8c\\xb2Oo\\xc3\\xd8\\xdbg\\xf6\\xb0\\xd7?\\x85zI\\xda\\xaf\\xa2\\xd4>5\\x9d\\xb3\\x9f\\xae~u\\xb5q\\xb9:\\xa3\\x1b\\xe0\\xe1\\xd1\\x9eh\\xb9kt\\xd1\\xfa\\xec7\\x11n\\x06\\xb9\\xec\\x9c\\x1f\\xec\\xd2u:\\x1b\\x9c\\xed\\xbe\\x927\\n\\xb7p~\\x15\\xe9\\xb1qGs>\\xf14Z\\x92\\x85{M6\\xa9\\xf1l\\x1ae\\xc7K\\xf0\\x8a\\xf88\\xf7<\\xc97\\xf6\\xe9\\';\\xb9\\x08\\xdf2\\x08?h\\xa0}!hH\\xfc\\xa9\\xa9?\\xb7\\xaf\\xf35\\xe9\\xa2\\xec\\xac\\xdc\\xfc\\xe5\\x9d\\xa2\\xff\\x00z\\xdd\\x07\\xf0\\xa4\\xcep\\xfe\\x0c\\xef\\xe7\\xb0|1\\xcf\\xde\\xb2l\\xfe\\x14\\xfey\\xfe\\x1f\\xa8\\x9eMw<\\xd27v\\xa5\\'\\xf2\\x86N\\xc3E\\r(>\\xb2\\xc1=\\xdb\\x86\\x94G\\xed\\x8a\\xf4\\x8d\\xde\\x0b\\xe1\\xa7\\xbf;\\xc3x:\\xfd\\xf6\\r\\xff\\x00\\nF\\xef.85\\xd9\\xedxK\\x03_\\xff\\x00\\x80\\xdf\\xf0\\xa2\\xb8\\xef\\xed\\x07\\x93}\\xcf:;F\\x94 :\\xde\\xbe\\x0b\\x14\\x05\\x11\\x9b\\xdaN\\xa27\\x06\\xbd\\x0ew\\x94\\xbc\\x02\\xec\\xf6\\x9c\\x19\\x81\\x99\\xdf\\xf24\\x8aF\\xef$\\xb9p\\xe7\\xb5\\xc1x8?\\xb2\\xc9\\x1fq\\xa3\\xe7\\x97`y\\'\\xdc\\xf3\\xec\\xeb\\x1dc\\xac\\xd0&\\x0e\\xdeQW\\xe1\\xdeA\\xf2\\xcd\\xc1\\xaf\\x06\\xe1\\xc3]\\xd2V>\\xe5R7=\\x1d\\xf9d\\xad\\xb8R\\xdd?\\xba\\xfb\\xa3\\xfd\\xaa\\x9ev=\\x99<\\x9c\\xfb\\x94MJ\\xd3\\xc6>4\\x15(\\xe5\\x91;\\xf4M^G=\\x1c\\xb9h\\xa1\\x1f\\xd1\\xc5 G\\xe8\\xde:?\\xda\\xa4\\x8ez3\\xf2\\xd5q\\xfe\\x05\\xbaL~\\xae \\xef\\xf1\\xa3\\xe7a\\xd9\\x83\\xcaO\\xba(\\xfb\\xa08\\xdaRJ{\\xce!\\x12LL\\xa8\\n\\xf4\\x8f\\x10I\\xf5\\x95\\x0e\\x89 |\\x80\\x1f\\x85q8/\\xa3\\xaf\\x00\\xe0\\xf8\\x8d\\xb5\\xed\\x9e\\x18\\xf2\\x9da\\xc0\\xb4\\xa6\\xe2\\xe4\\xbc\\x82G\\x8aT\\x085/+\\x0ba\\xb5(\\xa0\\x02I\\xddZ\\x9a\\xa7&h\\xe5\\xaa[\\x16c\\xc3,{\\x8cV\\x96\\xcf\\x10;\\x86:\\x13O\\x16\\xcc)\\x1a\\xab\\xc3QJCp\\x00\\xea(m\\xa1J\\x9c\\xb0\\x02AR\\x890\\x12\\x06\\xe4\\x9e\\x83\\xce\\xa8\\xb2\\xea\\xa0\\xe6\\x89\\x02\\x05s\\xbc\\xc0\\xe6O\\x0b\\xf2\\xb3\\x03\\xfag\\x8f1f\\xf0\\xbbUH\\xb7d\\x0c\\xf7\\x17J\\xfdV\\x9a\\x1d\\xe5\\x9dF\\xbb\\t\\x92@\\xaa\\xf7\\xce\\xafM,\\x03\\x82Us\\x82\\xf2\\xb4Z\\xf1F>\\x80P\\xee$\\xb3\\x9a\\xc2\\xd5_\\xb1\\x1f\\x9fP\\xf2\\x84\\t\\xddZ\\x8a\\xa1\\xbcW\\xc6X\\xe7\\x1dc\\xb7\\x18\\xe7\\x18b\\xd7x\\xce,\\xf9\\x87.nW\\'/D\\xa4\\r\\x10\\x91\\xac% \\x01\\xb0\\x15tq\\xb7\\xab\\x12RKB|\\xe7O\\xa5\\xff\\x00\\x15sA/\\xe0\\xdc-\\xda\\xf0\\x8f\\x08\\xb9(U\\xbb\\x0e\\xfeWx\\x8d\\xbe\\xbd\\xd4\\xc4$\\x8d\\xdbD\\rHQV\\x95_\\x9b\\xb9m\\xb6\\xd2\\x90\\x10\\x04h\\x00\\x02)\\xa4\\xbb\\xa4\\x93\\xa4\\xc9\\xac+3\\x104\\xd3\\xa5[\\xca\\x9e\\xe5.V\\x12\\t\\x9e\\xf1\\xe9\\xf6Q\\xad\\xaah\\x99\\xd4\\x81\\xac\\xf5\\xad\\xa4\\x905\")\\xacAr\\x13\\x98\\xc0\\x8f\\x9e\\xbbkZQ\\xccs\\x13\\xf7iE\\xa5]\\xd0\\tQ\\x00\\xd1\\x80\\xea\\x01\\x8c\\xc6v\\xf0\\xa2\\x11\\xcb\\x05\\xc6\\xb1>\\x1c\\xc5\\xac\\xf1|\\x02\\xf9\\xfc/\\x15\\xb1{\\xb4\\xb6\\xba\\xb7p\\xa1\\xc6\\x95\\x1b\\x82:\\x10`\\x83\\xa1\\x06\\x0e\\x95\\xe8\\x0f \\xbd+0\\xeee\\x1b.\\x1a\\xe3\\xf5[`\\x9cf\\xb8i\\x8b\\x8d\\x1a\\xb4\\xc5\\x15\\xb2r\\xce\\x8d>\\xad\\xb2{*W\\xb0A!\\x15\\xe7\\x82U\\xa9 \\x85F\\x84~\\xb0\\xd4\\x835\\xb5%\\x0e\\'*\\x8ed\\xabC\\'\\xcf\\xfe\\x15\\\\\\xe0\\xa6\\xa9\\x96\\xc6n\\x0fC\\xd9\\xa5\\x15 \\x90\\xa0B\\x81\\x82\\x08\\x82\\r`_J\\xa3\\xdc\\x83\\xf4\\xba\\x7f\\x04E\\xb7\\x0cs~\\xe5\\xdb\\xec) 7e\\x8f\\xea\\xeb\\xf6\\x80i\\x92\\xe0\\tS\\xadx/U\\xa3\\xaea\\x19n\\xdb+j\\xe6\\xdd\\x8b\\x9b7\\xd9\\xbb\\xb5\\xb8i/[\\xdc[\\xb8\\x1ci\\xe6\\xd4%+B\\xd3\\xa2\\x92F\\xa0\\x8d\\xeb\\x04\\xa0\\xe3\\xb9\\xb63SZ\\n\\x02\\xc5fz(\\x05M\\r(=iG\\x07\\x9av\\xa1%%j\\tN\\xa4\\x98\\x02\\xb4\\x13\\x14\\xd5\\xc5\\\\@\\x8e\\x13\\xe1lo\\x1ev#\\r\\xb2q\\xf4\\x03\\xfaND!?\\x15\\x14\\x8a\\x84\"\\xec_\\xd2[\\x86pl{\\x13\\xc2n0Lj\\xe8X]\\xb9jn\\xad\\\\aHx\\xa0\\xc1RR\\xa5\\x03\\x12\\x08\\xf8P\\xd8\\xf4\\x9b\\xe0Gc\\xb7\\xb7\\xe2+I\\xfd|5.\\x01\\xfd\\xc7\\rW^\\x14\\xb0K\\xb8]\\xc3\\xf8\\x83-\\xde;r\\xf8\\x04\\xba\\x80\\xa2T5Q\\x04\\xecJ\\x94O\\x9d;\\xaf\\x02\\xc3\\x1eS\\xa7\\xe8\\xdb$\\x85\\xa9]\\x9a\\x80\\xca\\x0e\\x824\\x04u\\x8d?\\x03\\xa6\\x87\\x08-\\x00\\xad\\xecXV}!\\xf9l\\xf8\\x95\\xe3\\xd7V\\xbeW\\x18E\\xc2c\\xe4\\x93N\\x0cs\\xb7\\x96\\xf7$\\x06\\xf8\\xd7\\nA\\xff\\x00\\xbe\\x0e\\xb5\\xff\\x00\\xb9\\x02\\xab\\x12\\xf8k\\n9\\x11\\xea@\\x1e\\xd7\\xda\\x0f\\xb8\\x89\\x11\\xb1\\x04\\xe9\\xb1\\xf7Eq\\xd8\\xfb\\x0ca\\xf7.z\\x9a\\x14\\xd3HmK\\x00\\xb8\\xb5\\xe6\\x1a\\xc2\\x81WB<\\t\\x1a\\x1d\\xaa,P\\x96\\xd6F\\xda/\\xee\\x19\\x8aX\\xe3x}\\xbe#\\x82\\xde\\xdb\\xe28}\\xca3\\xb1sl\\xe6v\\xdc\\x13\\x12\\x0f\\xbc\\x11\\xf0\\xa5Ygj\\xe6\\xf9k\\x84\\xfd\\x0b\\xcb\\x9e\\x12\\xb0)\\x855\\x850W\\xa7\\xe9)9\\xcf\\xda\\xaa\\xea@\\xac\\xd4\\x16\\x10[\\xac\\xec\\xc7M(\\xea\\xd7\\xba\\x8a\\x14\\x02Q\\xad/Q\\xd0R%\\xa9\\xb6-\\xde\\xb9\\xbau\\xabkV\\x10\\\\y\\xf7\\x9c\\x08m\\xa4\\r\\xd4\\xa5\\x1d\\x00\\x1e&\\xaaw:\\xbd7p\\xcc\\x0c\\\\\\xe0|\\x99Kx\\xb6$%\\xb71\\xeb\\x86\\xe6\\xdd\\x93\\xb1,6\\x7f:F\\xb0\\xb5wz\\x80\\xa0f\\xae\\x84[\\xd8\\xaeM-Ya\\xf9\\x99\\xcd~\\x12\\xe5\\x0e\\x101\\x1e:\\xc4\\xc5\\xb2\\xddIU\\xa6\\x1e\\xc8\\x0e]\\xdd\\xc7F\\xdb\\x91\\xa4\\xe9\\x9dP\\x91\\xd4\\xd7\\x9e\\xdc\\xee\\xf4\\xa8\\xe2\\xden\\xfa\\xc6\\x17h\\xa3\\xc3\\\\#\\x9a\\x13\\x85Z<s\\\\\\'\\xc6\\xe1\\xd1\\x05\\xcf\\xdd\\xd1#\\xc0\\x915\\r\\xe3\\xf8\\xfe+\\xc58\\xbd\\xd6/\\xc4\\x98\\x8d\\xd6-\\x8a\\xdd+;\\xd77N\\x97\\x16\\xb3\\xef=:@\\xd0\\r\\x056\\x93\\x104\\x81\\xf6V\\x98\\xc1#,\\xf2>\\x86\\xe4\\xa4\\x81\\xa7\\xbbJ\\xd4\\xc5\\x04\\x99\\x90:\\xed\\xadf\\xaa\\xdf\\xadXT\\x08\\x9c\\xbaG\\xdb\\x15\\x99\\x86\\xb3\\x07Z\\x08 \\x0f\\x1e\\xbaV\\x924\\xd6E@0E:\\xea\\x06\\x9b\\xd6\\xf7\\x1b\\xe9\\xa4\\x027\\xad(\\xc11\\xd2~\\xfa\\xdaTa:\\xee\\xb3\\xf7T\\x08 \\xa3;u\\xa3\\x12\\xb0cQ\\x1dv\\xa2F\\xb9f\\x0c\\x9dt\\xacR\\x88\\x00\\x8d\\xe2\\xa2d\\x15\\x95\\x01\\xde&\\x0fU\\x11B\\x0bN\\xb3\\xa0\\'A\\xd0Q*0\\xa4\\x81\\xb4\\x11\\xf6P\\x92\\xa3#^\\xbf\\xc6\\x99\\x13\\xe4+\\x99H\"@3$\\x88\\xf8\\xd4\\xd7\\xc8\\xafH\\xecw\\x93wM\\xe1\\xb7-\\xb9\\x8epk\\xce\\x15\\\\\\xe1*r\\x15lT{\\xce\\xdb(\\xfems\\xa9A\\xee/P@$(B)=\\xd4\\xff\\x00k\\xec\\xda\\x8dOxk\\xe0O\\xd8M,\\x92kQ\\xa2\\xdcuG\\xaf\\\\\\x19\\xc6X\\x070xv\\xdf\\x8887\\x12k\\x14\\xc2\\xdeQAZFW\\x19t{M:\\x83\\xabn\\t\\x1d\\xd3\\xb8 \\x89\\x04\\x1a\\xe8\\x06\\xd5\\xe5\\xc7\\xa3\\xa7\\x18c\\x9c)\\xce\\x1e\\x14g\\x87\\xb1\\'\\xacm\\xf1\\xacV\\xda\\xc3\\x12e\\x10[\\xbaaNAB\\xd0AI\\x80L\\x18\\x94\\xce\\x84W\\xa8\\xeb\\x19T\\xa06\\x04\\xd6\\x0c\\x90\\xe4~\\xa7\\xa1\\x8e\\\\\\xf1\\xb3d\\xf8T\\x17\\xe9E\\xc4\\xe8\\xc3\\xb8C\\t\\xe1\\xf4:\\x94=\\x8c^\\xf6\\xce\\xa4\\xa8\\x02Xc\\xbd\\xb7\\x81YH\\xf8T\\xe1&\\x92\\xdd\\xf0\\xf6\\x0f\\x8f)\\x03\\x1d\\xc20\\xfcS\\xb3L \\xdd\\xda6\\xf1H\\'P\\n\\x81\\x8f\\x85,];\\x19\\x946\\xc7\\x8a_\\xb1\\xb2j\\xd9\\x9bf\\x8bm\\x99\\x04(\\x82O\\x8fQ>>4\\xb5|h\\\\K\\x81\\xcb\\x12\\x87\\x16\\x80\\x03\\x88x+*\\x87X\"\\x08\\xf2>z\\xd5\\xdbw\\x91\\x9c\\xb8\\xbfAU\\xc7\\x06`\\xe1Gr\\xd5\\xb8k\\xff\\x00lW\\x1f\\xc4\\xbc\\x80\\xe5\\xcd\\xb3JU\\xb7\\r\\xa1\\x85\\t\\x8e\\xce\\xf2\\xe11\\xf2r\\xady\\xa0\\xb7Bs;\\xa2\\xa2\\xb3\\xc5\\xb8\\xa3(\\xcb\\x9a\\xd5i\\x8c\\xb9Wl\"<\\xa0\\xc8\\xa6\\xbb\\xc5/\\x1a\\xbc)\\xec\\x9am\\xfb\\xe7\\x1bh\\xa5\\x96\\xf2\\x02\\xa5\\x14\\xa2c\\xc4\\xcc\\x9a\\x93\\xf8\\xcb\\x81\\xb0\\x1c\\x1dk\\x18u\\x9a\\xd9\\x00\\x91\\xad\\xd3\\xaa\\xfb\\xd4k\\x90\\xe1+&\\x17\\xc7\\\\6\\xca\\xd1\\x99\\xaf\\xa5\\xad{\\xa4\\x98\\xfc\\xe8\\xfe\\x15dr\\xc1\\xea\\x90u{\\x97\\xdc[\\xa2\\xd5\\r\\xdb6;\\xac6\\x96\\x92<\\x92\\x90?\\n\\xd4\\n1\\xf3\\xf5\\xce~\\xf9\\xfb\\xe8\\xb1\\xbdd\\x19\\x98S\\xe0*6\\xe6\\xd7<\\xf8/\\x92\\xf6\\x93\\xc5w\\xa6\\xe7\\x19Z3[`\\xb6D.\\xe9\\xd9\\xd8\\xa8l\\xda\\x7fiQ\\xb1\\x80N\\x94\\x8b\\xd2?\\x8c\\xb1\\xce\\x04\\xe5\\x1e9\\x8c\\xf0\\x95\\xfa\\xb0\\xccQ\\xa4\\xa1-\\xdc!\\xb4)H\\nX\\x063\\x03\\x06\\t\\xd4j+\\xca\\xbb\\xeb\\xfb\\xbcR\\xe9\\xeb\\xecN\\xe5\\xeb\\xdb\\xdb\\xa5\\x17\\x1f\\xb8}\\xc2\\xe3\\x8e\\xa8\\x89%J2I\\xf7\\xd5\\xf8\\xf1\\xf3j\\xcarO\\x91/\\x99*s\\x9b\\xd23\\x8cy\\xcfrX\\xc5\\x9fN\\x11\\xc3\\x88^k|\\x16\\xcdD2 \\xc8.\\x1d\\xdd^\\xda\\xabO\\x00*##X\\x91\\xee\\x1f\\xc2\\xb4\\xadJ\\x01\\xea\\x92O\\xca\\xb1J9\\xe2z\\xd6\\xb4\\x92\\xd1\\x18\\x9c\\x9c\\xb5f\\xc9\\x11\\xac\\x01A=#\\xe5[O\\xb6\\xa1\\xd0\\x1a\\xd2\\xb7>TlS\\x0cF\\x87\\xe7Z&gZ\\nTe^T0\\x06u\\x0e\\x92*\\x13s\\x06\\xe4\\x9d=\\xe2\\x86\\x01\\xd7,G\\xed\\rh)3?\\xbd\\x14\\xa0\\xa4gX\\x8d\\x95Q\\x10\\xff\\xd9'"
      ]
     },
     "execution_count": 46,
     "metadata": {},
     "output_type": "execute_result"
    }
   ],
   "source": [
    "# The raw content (its a binary file, meaning we will need to use binary read/write methods for saving it)\n",
    "image_link.content"
   ]
  },
  {
   "cell_type": "markdown",
   "metadata": {},
   "source": [
    "**Let's write this to a file:=, not the 'wb' call to denote a binary writing of the file.**"
   ]
  },
  {
   "cell_type": "code",
   "execution_count": 47,
   "metadata": {
    "collapsed": true
   },
   "outputs": [],
   "source": [
    "f = open('my_new_file_name.jpg','wb')"
   ]
  },
  {
   "cell_type": "code",
   "execution_count": 48,
   "metadata": {},
   "outputs": [
    {
     "data": {
      "text/plain": [
       "18448"
      ]
     },
     "execution_count": 48,
     "metadata": {},
     "output_type": "execute_result"
    }
   ],
   "source": [
    "f.write(image_link.content)"
   ]
  },
  {
   "cell_type": "code",
   "execution_count": 49,
   "metadata": {
    "collapsed": true
   },
   "outputs": [],
   "source": [
    "f.close()"
   ]
  },
  {
   "cell_type": "markdown",
   "metadata": {},
   "source": [
    "Now we can display this file right here in the notebook as markdown using:\n",
    "\n",
    "    <img src=\"'my_new_file_name.jpg'>\n",
    "    \n",
    "Just write the above line in a new markdown cell and it will display the image we just downloaded!"
   ]
  },
  {
   "cell_type": "markdown",
   "metadata": {},
   "source": [
    "<img src='my_new_file_name.jpg'>"
   ]
  },
  {
   "cell_type": "markdown",
   "metadata": {},
   "source": [
    "### Example Project - Working with Multiple Pages and Items\n",
    "\n",
    "Let's show a more realistic example of scraping a full site. The website: http://books.toscrape.com/index.html is specifically designed for people to scrape it. Let's try to get the title of every book that has a 2 star rating and at the end just have a Python list with all their titles.\n",
    "\n",
    "We will do the following:\n",
    "\n",
    "1. Figure out the URL structure to go through every page\n",
    "2. Scrap every page in the catalogue\n",
    "3. Figure out what tag/class represents the Star rating\n",
    "4. Filter by that star rating using an if statement\n",
    "5. Store the results to a list"
   ]
  },
  {
   "cell_type": "markdown",
   "metadata": {
    "collapsed": true
   },
   "source": [
    "We can see that the URL structure is the following:\n",
    "\n",
    "    http://books.toscrape.com/catalogue/page-1.html"
   ]
  },
  {
   "cell_type": "code",
   "execution_count": 50,
   "metadata": {
    "collapsed": true
   },
   "outputs": [],
   "source": [
    "base_url = 'http://books.toscrape.com/catalogue/page-{}.html'"
   ]
  },
  {
   "cell_type": "markdown",
   "metadata": {},
   "source": [
    "We can then fill in the page number with .format()"
   ]
  },
  {
   "cell_type": "code",
   "execution_count": 51,
   "metadata": {
    "collapsed": true
   },
   "outputs": [],
   "source": [
    "res = requests.get(base_url.format('1'))"
   ]
  },
  {
   "cell_type": "markdown",
   "metadata": {},
   "source": [
    "Now let's grab the products (books) from the get request result:"
   ]
  },
  {
   "cell_type": "code",
   "execution_count": 52,
   "metadata": {
    "collapsed": true
   },
   "outputs": [],
   "source": [
    "soup = bs4.BeautifulSoup(res.text,\"lxml\")"
   ]
  },
  {
   "cell_type": "code",
   "execution_count": 53,
   "metadata": {},
   "outputs": [
    {
     "data": {
      "text/plain": [
       "[<article class=\"product_pod\">\n",
       " <div class=\"image_container\">\n",
       " <a href=\"a-light-in-the-attic_1000/index.html\"><img alt=\"A Light in the Attic\" class=\"thumbnail\" src=\"../media/cache/2c/da/2cdad67c44b002e7ead0cc35693c0e8b.jpg\"/></a>\n",
       " </div>\n",
       " <p class=\"star-rating Three\">\n",
       " <i class=\"icon-star\"></i>\n",
       " <i class=\"icon-star\"></i>\n",
       " <i class=\"icon-star\"></i>\n",
       " <i class=\"icon-star\"></i>\n",
       " <i class=\"icon-star\"></i>\n",
       " </p>\n",
       " <h3><a href=\"a-light-in-the-attic_1000/index.html\" title=\"A Light in the Attic\">A Light in the ...</a></h3>\n",
       " <div class=\"product_price\">\n",
       " <p class=\"price_color\">Â£51.77</p>\n",
       " <p class=\"instock availability\">\n",
       " <i class=\"icon-ok\"></i>\n",
       "     \n",
       "         In stock\n",
       "     \n",
       " </p>\n",
       " <form>\n",
       " <button class=\"btn btn-primary btn-block\" data-loading-text=\"Adding...\" type=\"submit\">Add to basket</button>\n",
       " </form>\n",
       " </div>\n",
       " </article>,\n",
       " <article class=\"product_pod\">\n",
       " <div class=\"image_container\">\n",
       " <a href=\"tipping-the-velvet_999/index.html\"><img alt=\"Tipping the Velvet\" class=\"thumbnail\" src=\"../media/cache/26/0c/260c6ae16bce31c8f8c95daddd9f4a1c.jpg\"/></a>\n",
       " </div>\n",
       " <p class=\"star-rating One\">\n",
       " <i class=\"icon-star\"></i>\n",
       " <i class=\"icon-star\"></i>\n",
       " <i class=\"icon-star\"></i>\n",
       " <i class=\"icon-star\"></i>\n",
       " <i class=\"icon-star\"></i>\n",
       " </p>\n",
       " <h3><a href=\"tipping-the-velvet_999/index.html\" title=\"Tipping the Velvet\">Tipping the Velvet</a></h3>\n",
       " <div class=\"product_price\">\n",
       " <p class=\"price_color\">Â£53.74</p>\n",
       " <p class=\"instock availability\">\n",
       " <i class=\"icon-ok\"></i>\n",
       "     \n",
       "         In stock\n",
       "     \n",
       " </p>\n",
       " <form>\n",
       " <button class=\"btn btn-primary btn-block\" data-loading-text=\"Adding...\" type=\"submit\">Add to basket</button>\n",
       " </form>\n",
       " </div>\n",
       " </article>,\n",
       " <article class=\"product_pod\">\n",
       " <div class=\"image_container\">\n",
       " <a href=\"soumission_998/index.html\"><img alt=\"Soumission\" class=\"thumbnail\" src=\"../media/cache/3e/ef/3eef99c9d9adef34639f510662022830.jpg\"/></a>\n",
       " </div>\n",
       " <p class=\"star-rating One\">\n",
       " <i class=\"icon-star\"></i>\n",
       " <i class=\"icon-star\"></i>\n",
       " <i class=\"icon-star\"></i>\n",
       " <i class=\"icon-star\"></i>\n",
       " <i class=\"icon-star\"></i>\n",
       " </p>\n",
       " <h3><a href=\"soumission_998/index.html\" title=\"Soumission\">Soumission</a></h3>\n",
       " <div class=\"product_price\">\n",
       " <p class=\"price_color\">Â£50.10</p>\n",
       " <p class=\"instock availability\">\n",
       " <i class=\"icon-ok\"></i>\n",
       "     \n",
       "         In stock\n",
       "     \n",
       " </p>\n",
       " <form>\n",
       " <button class=\"btn btn-primary btn-block\" data-loading-text=\"Adding...\" type=\"submit\">Add to basket</button>\n",
       " </form>\n",
       " </div>\n",
       " </article>,\n",
       " <article class=\"product_pod\">\n",
       " <div class=\"image_container\">\n",
       " <a href=\"sharp-objects_997/index.html\"><img alt=\"Sharp Objects\" class=\"thumbnail\" src=\"../media/cache/32/51/3251cf3a3412f53f339e42cac2134093.jpg\"/></a>\n",
       " </div>\n",
       " <p class=\"star-rating Four\">\n",
       " <i class=\"icon-star\"></i>\n",
       " <i class=\"icon-star\"></i>\n",
       " <i class=\"icon-star\"></i>\n",
       " <i class=\"icon-star\"></i>\n",
       " <i class=\"icon-star\"></i>\n",
       " </p>\n",
       " <h3><a href=\"sharp-objects_997/index.html\" title=\"Sharp Objects\">Sharp Objects</a></h3>\n",
       " <div class=\"product_price\">\n",
       " <p class=\"price_color\">Â£47.82</p>\n",
       " <p class=\"instock availability\">\n",
       " <i class=\"icon-ok\"></i>\n",
       "     \n",
       "         In stock\n",
       "     \n",
       " </p>\n",
       " <form>\n",
       " <button class=\"btn btn-primary btn-block\" data-loading-text=\"Adding...\" type=\"submit\">Add to basket</button>\n",
       " </form>\n",
       " </div>\n",
       " </article>,\n",
       " <article class=\"product_pod\">\n",
       " <div class=\"image_container\">\n",
       " <a href=\"sapiens-a-brief-history-of-humankind_996/index.html\"><img alt=\"Sapiens: A Brief History of Humankind\" class=\"thumbnail\" src=\"../media/cache/be/a5/bea5697f2534a2f86a3ef27b5a8c12a6.jpg\"/></a>\n",
       " </div>\n",
       " <p class=\"star-rating Five\">\n",
       " <i class=\"icon-star\"></i>\n",
       " <i class=\"icon-star\"></i>\n",
       " <i class=\"icon-star\"></i>\n",
       " <i class=\"icon-star\"></i>\n",
       " <i class=\"icon-star\"></i>\n",
       " </p>\n",
       " <h3><a href=\"sapiens-a-brief-history-of-humankind_996/index.html\" title=\"Sapiens: A Brief History of Humankind\">Sapiens: A Brief History ...</a></h3>\n",
       " <div class=\"product_price\">\n",
       " <p class=\"price_color\">Â£54.23</p>\n",
       " <p class=\"instock availability\">\n",
       " <i class=\"icon-ok\"></i>\n",
       "     \n",
       "         In stock\n",
       "     \n",
       " </p>\n",
       " <form>\n",
       " <button class=\"btn btn-primary btn-block\" data-loading-text=\"Adding...\" type=\"submit\">Add to basket</button>\n",
       " </form>\n",
       " </div>\n",
       " </article>,\n",
       " <article class=\"product_pod\">\n",
       " <div class=\"image_container\">\n",
       " <a href=\"the-requiem-red_995/index.html\"><img alt=\"The Requiem Red\" class=\"thumbnail\" src=\"../media/cache/68/33/68339b4c9bc034267e1da611ab3b34f8.jpg\"/></a>\n",
       " </div>\n",
       " <p class=\"star-rating One\">\n",
       " <i class=\"icon-star\"></i>\n",
       " <i class=\"icon-star\"></i>\n",
       " <i class=\"icon-star\"></i>\n",
       " <i class=\"icon-star\"></i>\n",
       " <i class=\"icon-star\"></i>\n",
       " </p>\n",
       " <h3><a href=\"the-requiem-red_995/index.html\" title=\"The Requiem Red\">The Requiem Red</a></h3>\n",
       " <div class=\"product_price\">\n",
       " <p class=\"price_color\">Â£22.65</p>\n",
       " <p class=\"instock availability\">\n",
       " <i class=\"icon-ok\"></i>\n",
       "     \n",
       "         In stock\n",
       "     \n",
       " </p>\n",
       " <form>\n",
       " <button class=\"btn btn-primary btn-block\" data-loading-text=\"Adding...\" type=\"submit\">Add to basket</button>\n",
       " </form>\n",
       " </div>\n",
       " </article>,\n",
       " <article class=\"product_pod\">\n",
       " <div class=\"image_container\">\n",
       " <a href=\"the-dirty-little-secrets-of-getting-your-dream-job_994/index.html\"><img alt=\"The Dirty Little Secrets of Getting Your Dream Job\" class=\"thumbnail\" src=\"../media/cache/92/27/92274a95b7c251fea59a2b8a78275ab4.jpg\"/></a>\n",
       " </div>\n",
       " <p class=\"star-rating Four\">\n",
       " <i class=\"icon-star\"></i>\n",
       " <i class=\"icon-star\"></i>\n",
       " <i class=\"icon-star\"></i>\n",
       " <i class=\"icon-star\"></i>\n",
       " <i class=\"icon-star\"></i>\n",
       " </p>\n",
       " <h3><a href=\"the-dirty-little-secrets-of-getting-your-dream-job_994/index.html\" title=\"The Dirty Little Secrets of Getting Your Dream Job\">The Dirty Little Secrets ...</a></h3>\n",
       " <div class=\"product_price\">\n",
       " <p class=\"price_color\">Â£33.34</p>\n",
       " <p class=\"instock availability\">\n",
       " <i class=\"icon-ok\"></i>\n",
       "     \n",
       "         In stock\n",
       "     \n",
       " </p>\n",
       " <form>\n",
       " <button class=\"btn btn-primary btn-block\" data-loading-text=\"Adding...\" type=\"submit\">Add to basket</button>\n",
       " </form>\n",
       " </div>\n",
       " </article>,\n",
       " <article class=\"product_pod\">\n",
       " <div class=\"image_container\">\n",
       " <a href=\"the-coming-woman-a-novel-based-on-the-life-of-the-infamous-feminist-victoria-woodhull_993/index.html\"><img alt=\"The Coming Woman: A Novel Based on the Life of the Infamous Feminist, Victoria Woodhull\" class=\"thumbnail\" src=\"../media/cache/3d/54/3d54940e57e662c4dd1f3ff00c78cc64.jpg\"/></a>\n",
       " </div>\n",
       " <p class=\"star-rating Three\">\n",
       " <i class=\"icon-star\"></i>\n",
       " <i class=\"icon-star\"></i>\n",
       " <i class=\"icon-star\"></i>\n",
       " <i class=\"icon-star\"></i>\n",
       " <i class=\"icon-star\"></i>\n",
       " </p>\n",
       " <h3><a href=\"the-coming-woman-a-novel-based-on-the-life-of-the-infamous-feminist-victoria-woodhull_993/index.html\" title=\"The Coming Woman: A Novel Based on the Life of the Infamous Feminist, Victoria Woodhull\">The Coming Woman: A ...</a></h3>\n",
       " <div class=\"product_price\">\n",
       " <p class=\"price_color\">Â£17.93</p>\n",
       " <p class=\"instock availability\">\n",
       " <i class=\"icon-ok\"></i>\n",
       "     \n",
       "         In stock\n",
       "     \n",
       " </p>\n",
       " <form>\n",
       " <button class=\"btn btn-primary btn-block\" data-loading-text=\"Adding...\" type=\"submit\">Add to basket</button>\n",
       " </form>\n",
       " </div>\n",
       " </article>,\n",
       " <article class=\"product_pod\">\n",
       " <div class=\"image_container\">\n",
       " <a href=\"the-boys-in-the-boat-nine-americans-and-their-epic-quest-for-gold-at-the-1936-berlin-olympics_992/index.html\"><img alt=\"The Boys in the Boat: Nine Americans and Their Epic Quest for Gold at the 1936 Berlin Olympics\" class=\"thumbnail\" src=\"../media/cache/66/88/66883b91f6804b2323c8369331cb7dd1.jpg\"/></a>\n",
       " </div>\n",
       " <p class=\"star-rating Four\">\n",
       " <i class=\"icon-star\"></i>\n",
       " <i class=\"icon-star\"></i>\n",
       " <i class=\"icon-star\"></i>\n",
       " <i class=\"icon-star\"></i>\n",
       " <i class=\"icon-star\"></i>\n",
       " </p>\n",
       " <h3><a href=\"the-boys-in-the-boat-nine-americans-and-their-epic-quest-for-gold-at-the-1936-berlin-olympics_992/index.html\" title=\"The Boys in the Boat: Nine Americans and Their Epic Quest for Gold at the 1936 Berlin Olympics\">The Boys in the ...</a></h3>\n",
       " <div class=\"product_price\">\n",
       " <p class=\"price_color\">Â£22.60</p>\n",
       " <p class=\"instock availability\">\n",
       " <i class=\"icon-ok\"></i>\n",
       "     \n",
       "         In stock\n",
       "     \n",
       " </p>\n",
       " <form>\n",
       " <button class=\"btn btn-primary btn-block\" data-loading-text=\"Adding...\" type=\"submit\">Add to basket</button>\n",
       " </form>\n",
       " </div>\n",
       " </article>,\n",
       " <article class=\"product_pod\">\n",
       " <div class=\"image_container\">\n",
       " <a href=\"the-black-maria_991/index.html\"><img alt=\"The Black Maria\" class=\"thumbnail\" src=\"../media/cache/58/46/5846057e28022268153beff6d352b06c.jpg\"/></a>\n",
       " </div>\n",
       " <p class=\"star-rating One\">\n",
       " <i class=\"icon-star\"></i>\n",
       " <i class=\"icon-star\"></i>\n",
       " <i class=\"icon-star\"></i>\n",
       " <i class=\"icon-star\"></i>\n",
       " <i class=\"icon-star\"></i>\n",
       " </p>\n",
       " <h3><a href=\"the-black-maria_991/index.html\" title=\"The Black Maria\">The Black Maria</a></h3>\n",
       " <div class=\"product_price\">\n",
       " <p class=\"price_color\">Â£52.15</p>\n",
       " <p class=\"instock availability\">\n",
       " <i class=\"icon-ok\"></i>\n",
       "     \n",
       "         In stock\n",
       "     \n",
       " </p>\n",
       " <form>\n",
       " <button class=\"btn btn-primary btn-block\" data-loading-text=\"Adding...\" type=\"submit\">Add to basket</button>\n",
       " </form>\n",
       " </div>\n",
       " </article>,\n",
       " <article class=\"product_pod\">\n",
       " <div class=\"image_container\">\n",
       " <a href=\"starving-hearts-triangular-trade-trilogy-1_990/index.html\"><img alt=\"Starving Hearts (Triangular Trade Trilogy, #1)\" class=\"thumbnail\" src=\"../media/cache/be/f4/bef44da28c98f905a3ebec0b87be8530.jpg\"/></a>\n",
       " </div>\n",
       " <p class=\"star-rating Two\">\n",
       " <i class=\"icon-star\"></i>\n",
       " <i class=\"icon-star\"></i>\n",
       " <i class=\"icon-star\"></i>\n",
       " <i class=\"icon-star\"></i>\n",
       " <i class=\"icon-star\"></i>\n",
       " </p>\n",
       " <h3><a href=\"starving-hearts-triangular-trade-trilogy-1_990/index.html\" title=\"Starving Hearts (Triangular Trade Trilogy, #1)\">Starving Hearts (Triangular Trade ...</a></h3>\n",
       " <div class=\"product_price\">\n",
       " <p class=\"price_color\">Â£13.99</p>\n",
       " <p class=\"instock availability\">\n",
       " <i class=\"icon-ok\"></i>\n",
       "     \n",
       "         In stock\n",
       "     \n",
       " </p>\n",
       " <form>\n",
       " <button class=\"btn btn-primary btn-block\" data-loading-text=\"Adding...\" type=\"submit\">Add to basket</button>\n",
       " </form>\n",
       " </div>\n",
       " </article>,\n",
       " <article class=\"product_pod\">\n",
       " <div class=\"image_container\">\n",
       " <a href=\"shakespeares-sonnets_989/index.html\"><img alt=\"Shakespeare's Sonnets\" class=\"thumbnail\" src=\"../media/cache/10/48/1048f63d3b5061cd2f424d20b3f9b666.jpg\"/></a>\n",
       " </div>\n",
       " <p class=\"star-rating Four\">\n",
       " <i class=\"icon-star\"></i>\n",
       " <i class=\"icon-star\"></i>\n",
       " <i class=\"icon-star\"></i>\n",
       " <i class=\"icon-star\"></i>\n",
       " <i class=\"icon-star\"></i>\n",
       " </p>\n",
       " <h3><a href=\"shakespeares-sonnets_989/index.html\" title=\"Shakespeare's Sonnets\">Shakespeare's Sonnets</a></h3>\n",
       " <div class=\"product_price\">\n",
       " <p class=\"price_color\">Â£20.66</p>\n",
       " <p class=\"instock availability\">\n",
       " <i class=\"icon-ok\"></i>\n",
       "     \n",
       "         In stock\n",
       "     \n",
       " </p>\n",
       " <form>\n",
       " <button class=\"btn btn-primary btn-block\" data-loading-text=\"Adding...\" type=\"submit\">Add to basket</button>\n",
       " </form>\n",
       " </div>\n",
       " </article>,\n",
       " <article class=\"product_pod\">\n",
       " <div class=\"image_container\">\n",
       " <a href=\"set-me-free_988/index.html\"><img alt=\"Set Me Free\" class=\"thumbnail\" src=\"../media/cache/5b/88/5b88c52633f53cacf162c15f4f823153.jpg\"/></a>\n",
       " </div>\n",
       " <p class=\"star-rating Five\">\n",
       " <i class=\"icon-star\"></i>\n",
       " <i class=\"icon-star\"></i>\n",
       " <i class=\"icon-star\"></i>\n",
       " <i class=\"icon-star\"></i>\n",
       " <i class=\"icon-star\"></i>\n",
       " </p>\n",
       " <h3><a href=\"set-me-free_988/index.html\" title=\"Set Me Free\">Set Me Free</a></h3>\n",
       " <div class=\"product_price\">\n",
       " <p class=\"price_color\">Â£17.46</p>\n",
       " <p class=\"instock availability\">\n",
       " <i class=\"icon-ok\"></i>\n",
       "     \n",
       "         In stock\n",
       "     \n",
       " </p>\n",
       " <form>\n",
       " <button class=\"btn btn-primary btn-block\" data-loading-text=\"Adding...\" type=\"submit\">Add to basket</button>\n",
       " </form>\n",
       " </div>\n",
       " </article>,\n",
       " <article class=\"product_pod\">\n",
       " <div class=\"image_container\">\n",
       " <a href=\"scott-pilgrims-precious-little-life-scott-pilgrim-1_987/index.html\"><img alt=\"Scott Pilgrim's Precious Little Life (Scott Pilgrim #1)\" class=\"thumbnail\" src=\"../media/cache/94/b1/94b1b8b244bce9677c2f29ccc890d4d2.jpg\"/></a>\n",
       " </div>\n",
       " <p class=\"star-rating Five\">\n",
       " <i class=\"icon-star\"></i>\n",
       " <i class=\"icon-star\"></i>\n",
       " <i class=\"icon-star\"></i>\n",
       " <i class=\"icon-star\"></i>\n",
       " <i class=\"icon-star\"></i>\n",
       " </p>\n",
       " <h3><a href=\"scott-pilgrims-precious-little-life-scott-pilgrim-1_987/index.html\" title=\"Scott Pilgrim's Precious Little Life (Scott Pilgrim #1)\">Scott Pilgrim's Precious Little ...</a></h3>\n",
       " <div class=\"product_price\">\n",
       " <p class=\"price_color\">Â£52.29</p>\n",
       " <p class=\"instock availability\">\n",
       " <i class=\"icon-ok\"></i>\n",
       "     \n",
       "         In stock\n",
       "     \n",
       " </p>\n",
       " <form>\n",
       " <button class=\"btn btn-primary btn-block\" data-loading-text=\"Adding...\" type=\"submit\">Add to basket</button>\n",
       " </form>\n",
       " </div>\n",
       " </article>,\n",
       " <article class=\"product_pod\">\n",
       " <div class=\"image_container\">\n",
       " <a href=\"rip-it-up-and-start-again_986/index.html\"><img alt=\"Rip it Up and Start Again\" class=\"thumbnail\" src=\"../media/cache/81/c4/81c4a973364e17d01f217e1188253d5e.jpg\"/></a>\n",
       " </div>\n",
       " <p class=\"star-rating Five\">\n",
       " <i class=\"icon-star\"></i>\n",
       " <i class=\"icon-star\"></i>\n",
       " <i class=\"icon-star\"></i>\n",
       " <i class=\"icon-star\"></i>\n",
       " <i class=\"icon-star\"></i>\n",
       " </p>\n",
       " <h3><a href=\"rip-it-up-and-start-again_986/index.html\" title=\"Rip it Up and Start Again\">Rip it Up and ...</a></h3>\n",
       " <div class=\"product_price\">\n",
       " <p class=\"price_color\">Â£35.02</p>\n",
       " <p class=\"instock availability\">\n",
       " <i class=\"icon-ok\"></i>\n",
       "     \n",
       "         In stock\n",
       "     \n",
       " </p>\n",
       " <form>\n",
       " <button class=\"btn btn-primary btn-block\" data-loading-text=\"Adding...\" type=\"submit\">Add to basket</button>\n",
       " </form>\n",
       " </div>\n",
       " </article>,\n",
       " <article class=\"product_pod\">\n",
       " <div class=\"image_container\">\n",
       " <a href=\"our-band-could-be-your-life-scenes-from-the-american-indie-underground-1981-1991_985/index.html\"><img alt=\"Our Band Could Be Your Life: Scenes from the American Indie Underground, 1981-1991\" class=\"thumbnail\" src=\"../media/cache/54/60/54607fe8945897cdcced0044103b10b6.jpg\"/></a>\n",
       " </div>\n",
       " <p class=\"star-rating Three\">\n",
       " <i class=\"icon-star\"></i>\n",
       " <i class=\"icon-star\"></i>\n",
       " <i class=\"icon-star\"></i>\n",
       " <i class=\"icon-star\"></i>\n",
       " <i class=\"icon-star\"></i>\n",
       " </p>\n",
       " <h3><a href=\"our-band-could-be-your-life-scenes-from-the-american-indie-underground-1981-1991_985/index.html\" title=\"Our Band Could Be Your Life: Scenes from the American Indie Underground, 1981-1991\">Our Band Could Be ...</a></h3>\n",
       " <div class=\"product_price\">\n",
       " <p class=\"price_color\">Â£57.25</p>\n",
       " <p class=\"instock availability\">\n",
       " <i class=\"icon-ok\"></i>\n",
       "     \n",
       "         In stock\n",
       "     \n",
       " </p>\n",
       " <form>\n",
       " <button class=\"btn btn-primary btn-block\" data-loading-text=\"Adding...\" type=\"submit\">Add to basket</button>\n",
       " </form>\n",
       " </div>\n",
       " </article>,\n",
       " <article class=\"product_pod\">\n",
       " <div class=\"image_container\">\n",
       " <a href=\"olio_984/index.html\"><img alt=\"Olio\" class=\"thumbnail\" src=\"../media/cache/55/33/553310a7162dfbc2c6d19a84da0df9e1.jpg\"/></a>\n",
       " </div>\n",
       " <p class=\"star-rating One\">\n",
       " <i class=\"icon-star\"></i>\n",
       " <i class=\"icon-star\"></i>\n",
       " <i class=\"icon-star\"></i>\n",
       " <i class=\"icon-star\"></i>\n",
       " <i class=\"icon-star\"></i>\n",
       " </p>\n",
       " <h3><a href=\"olio_984/index.html\" title=\"Olio\">Olio</a></h3>\n",
       " <div class=\"product_price\">\n",
       " <p class=\"price_color\">Â£23.88</p>\n",
       " <p class=\"instock availability\">\n",
       " <i class=\"icon-ok\"></i>\n",
       "     \n",
       "         In stock\n",
       "     \n",
       " </p>\n",
       " <form>\n",
       " <button class=\"btn btn-primary btn-block\" data-loading-text=\"Adding...\" type=\"submit\">Add to basket</button>\n",
       " </form>\n",
       " </div>\n",
       " </article>,\n",
       " <article class=\"product_pod\">\n",
       " <div class=\"image_container\">\n",
       " <a href=\"mesaerion-the-best-science-fiction-stories-1800-1849_983/index.html\"><img alt=\"Mesaerion: The Best Science Fiction Stories 1800-1849\" class=\"thumbnail\" src=\"../media/cache/09/a3/09a3aef48557576e1a85ba7efea8ecb7.jpg\"/></a>\n",
       " </div>\n",
       " <p class=\"star-rating One\">\n",
       " <i class=\"icon-star\"></i>\n",
       " <i class=\"icon-star\"></i>\n",
       " <i class=\"icon-star\"></i>\n",
       " <i class=\"icon-star\"></i>\n",
       " <i class=\"icon-star\"></i>\n",
       " </p>\n",
       " <h3><a href=\"mesaerion-the-best-science-fiction-stories-1800-1849_983/index.html\" title=\"Mesaerion: The Best Science Fiction Stories 1800-1849\">Mesaerion: The Best Science ...</a></h3>\n",
       " <div class=\"product_price\">\n",
       " <p class=\"price_color\">Â£37.59</p>\n",
       " <p class=\"instock availability\">\n",
       " <i class=\"icon-ok\"></i>\n",
       "     \n",
       "         In stock\n",
       "     \n",
       " </p>\n",
       " <form>\n",
       " <button class=\"btn btn-primary btn-block\" data-loading-text=\"Adding...\" type=\"submit\">Add to basket</button>\n",
       " </form>\n",
       " </div>\n",
       " </article>,\n",
       " <article class=\"product_pod\">\n",
       " <div class=\"image_container\">\n",
       " <a href=\"libertarianism-for-beginners_982/index.html\"><img alt=\"Libertarianism for Beginners\" class=\"thumbnail\" src=\"../media/cache/0b/bc/0bbcd0a6f4bcd81ccb1049a52736406e.jpg\"/></a>\n",
       " </div>\n",
       " <p class=\"star-rating Two\">\n",
       " <i class=\"icon-star\"></i>\n",
       " <i class=\"icon-star\"></i>\n",
       " <i class=\"icon-star\"></i>\n",
       " <i class=\"icon-star\"></i>\n",
       " <i class=\"icon-star\"></i>\n",
       " </p>\n",
       " <h3><a href=\"libertarianism-for-beginners_982/index.html\" title=\"Libertarianism for Beginners\">Libertarianism for Beginners</a></h3>\n",
       " <div class=\"product_price\">\n",
       " <p class=\"price_color\">Â£51.33</p>\n",
       " <p class=\"instock availability\">\n",
       " <i class=\"icon-ok\"></i>\n",
       "     \n",
       "         In stock\n",
       "     \n",
       " </p>\n",
       " <form>\n",
       " <button class=\"btn btn-primary btn-block\" data-loading-text=\"Adding...\" type=\"submit\">Add to basket</button>\n",
       " </form>\n",
       " </div>\n",
       " </article>,\n",
       " <article class=\"product_pod\">\n",
       " <div class=\"image_container\">\n",
       " <a href=\"its-only-the-himalayas_981/index.html\"><img alt=\"It's Only the Himalayas\" class=\"thumbnail\" src=\"../media/cache/27/a5/27a53d0bb95bdd88288eaf66c9230d7e.jpg\"/></a>\n",
       " </div>\n",
       " <p class=\"star-rating Two\">\n",
       " <i class=\"icon-star\"></i>\n",
       " <i class=\"icon-star\"></i>\n",
       " <i class=\"icon-star\"></i>\n",
       " <i class=\"icon-star\"></i>\n",
       " <i class=\"icon-star\"></i>\n",
       " </p>\n",
       " <h3><a href=\"its-only-the-himalayas_981/index.html\" title=\"It's Only the Himalayas\">It's Only the Himalayas</a></h3>\n",
       " <div class=\"product_price\">\n",
       " <p class=\"price_color\">Â£45.17</p>\n",
       " <p class=\"instock availability\">\n",
       " <i class=\"icon-ok\"></i>\n",
       "     \n",
       "         In stock\n",
       "     \n",
       " </p>\n",
       " <form>\n",
       " <button class=\"btn btn-primary btn-block\" data-loading-text=\"Adding...\" type=\"submit\">Add to basket</button>\n",
       " </form>\n",
       " </div>\n",
       " </article>]"
      ]
     },
     "execution_count": 53,
     "metadata": {},
     "output_type": "execute_result"
    }
   ],
   "source": [
    "soup.select(\".product_pod\")"
   ]
  },
  {
   "cell_type": "markdown",
   "metadata": {},
   "source": [
    "Now we can see that each book has the product_pod class. We can select any tag with this class, and then further reduce it by its rating."
   ]
  },
  {
   "cell_type": "code",
   "execution_count": 54,
   "metadata": {
    "collapsed": true
   },
   "outputs": [],
   "source": [
    "products = soup.select(\".product_pod\")"
   ]
  },
  {
   "cell_type": "code",
   "execution_count": 55,
   "metadata": {
    "collapsed": true
   },
   "outputs": [],
   "source": [
    "example = products[0]"
   ]
  },
  {
   "cell_type": "code",
   "execution_count": 56,
   "metadata": {},
   "outputs": [
    {
     "data": {
      "text/plain": [
       "bs4.element.Tag"
      ]
     },
     "execution_count": 56,
     "metadata": {},
     "output_type": "execute_result"
    }
   ],
   "source": [
    "type(example)"
   ]
  },
  {
   "cell_type": "code",
   "execution_count": 57,
   "metadata": {},
   "outputs": [
    {
     "data": {
      "text/plain": [
       "{'class': ['product_pod']}"
      ]
     },
     "execution_count": 57,
     "metadata": {},
     "output_type": "execute_result"
    }
   ],
   "source": [
    "example.attrs"
   ]
  },
  {
   "cell_type": "markdown",
   "metadata": {},
   "source": [
    "Now by inspecting the site we can see that the class we want is class='star-rating Two' , if you click on this in your browser, you'll notice it displays the space as a . , so that means we want to search for \".star-rating.Two\""
   ]
  },
  {
   "cell_type": "code",
   "execution_count": 58,
   "metadata": {},
   "outputs": [
    {
     "data": {
      "text/plain": [
       "['\\n',\n",
       " <div class=\"image_container\">\n",
       " <a href=\"a-light-in-the-attic_1000/index.html\"><img alt=\"A Light in the Attic\" class=\"thumbnail\" src=\"../media/cache/2c/da/2cdad67c44b002e7ead0cc35693c0e8b.jpg\"/></a>\n",
       " </div>,\n",
       " '\\n',\n",
       " <p class=\"star-rating Three\">\n",
       " <i class=\"icon-star\"></i>\n",
       " <i class=\"icon-star\"></i>\n",
       " <i class=\"icon-star\"></i>\n",
       " <i class=\"icon-star\"></i>\n",
       " <i class=\"icon-star\"></i>\n",
       " </p>,\n",
       " '\\n',\n",
       " <h3><a href=\"a-light-in-the-attic_1000/index.html\" title=\"A Light in the Attic\">A Light in the ...</a></h3>,\n",
       " '\\n',\n",
       " <div class=\"product_price\">\n",
       " <p class=\"price_color\">Â£51.77</p>\n",
       " <p class=\"instock availability\">\n",
       " <i class=\"icon-ok\"></i>\n",
       "     \n",
       "         In stock\n",
       "     \n",
       " </p>\n",
       " <form>\n",
       " <button class=\"btn btn-primary btn-block\" data-loading-text=\"Adding...\" type=\"submit\">Add to basket</button>\n",
       " </form>\n",
       " </div>,\n",
       " '\\n']"
      ]
     },
     "execution_count": 58,
     "metadata": {},
     "output_type": "execute_result"
    }
   ],
   "source": [
    "list(example.children)"
   ]
  },
  {
   "cell_type": "code",
   "execution_count": 59,
   "metadata": {},
   "outputs": [
    {
     "data": {
      "text/plain": [
       "[<p class=\"star-rating Three\">\n",
       " <i class=\"icon-star\"></i>\n",
       " <i class=\"icon-star\"></i>\n",
       " <i class=\"icon-star\"></i>\n",
       " <i class=\"icon-star\"></i>\n",
       " <i class=\"icon-star\"></i>\n",
       " </p>]"
      ]
     },
     "execution_count": 59,
     "metadata": {},
     "output_type": "execute_result"
    }
   ],
   "source": [
    "example.select('.star-rating.Three')"
   ]
  },
  {
   "cell_type": "markdown",
   "metadata": {},
   "source": [
    "But we are looking for 2 stars, so it looks like we can just check to see if something was returned"
   ]
  },
  {
   "cell_type": "code",
   "execution_count": 62,
   "metadata": {},
   "outputs": [
    {
     "data": {
      "text/plain": [
       "[]"
      ]
     },
     "execution_count": 62,
     "metadata": {},
     "output_type": "execute_result"
    }
   ],
   "source": [
    "example.select('.star-rating.One')"
   ]
  },
  {
   "cell_type": "markdown",
   "metadata": {},
   "source": [
    "Alternatively, we can just quickly check the text string to see if \"star-rating Two\" is in it. Either approach is fine (there are also many other alternative approaches!)\n",
    "\n",
    "Now let's see how we can get the title if we have a 2-star match:"
   ]
  },
  {
   "cell_type": "code",
   "execution_count": 63,
   "metadata": {},
   "outputs": [
    {
     "data": {
      "text/plain": [
       "[<a href=\"a-light-in-the-attic_1000/index.html\"><img alt=\"A Light in the Attic\" class=\"thumbnail\" src=\"../media/cache/2c/da/2cdad67c44b002e7ead0cc35693c0e8b.jpg\"/></a>,\n",
       " <a href=\"a-light-in-the-attic_1000/index.html\" title=\"A Light in the Attic\">A Light in the ...</a>]"
      ]
     },
     "execution_count": 63,
     "metadata": {},
     "output_type": "execute_result"
    }
   ],
   "source": [
    "example.select('a')"
   ]
  },
  {
   "cell_type": "code",
   "execution_count": 64,
   "metadata": {},
   "outputs": [
    {
     "data": {
      "text/plain": [
       "<a href=\"a-light-in-the-attic_1000/index.html\" title=\"A Light in the Attic\">A Light in the ...</a>"
      ]
     },
     "execution_count": 64,
     "metadata": {},
     "output_type": "execute_result"
    }
   ],
   "source": [
    "example.select('a')[1]"
   ]
  },
  {
   "cell_type": "code",
   "execution_count": 65,
   "metadata": {},
   "outputs": [
    {
     "data": {
      "text/plain": [
       "'A Light in the Attic'"
      ]
     },
     "execution_count": 65,
     "metadata": {},
     "output_type": "execute_result"
    }
   ],
   "source": [
    "example.select('a')[1]['title']"
   ]
  },
  {
   "cell_type": "markdown",
   "metadata": {},
   "source": [
    "Okay, let's give it a shot by combining all the ideas we've talked about! (this should take about 20-60 seconds to complete running. Be aware a firwall may prevent this script from running. Also if you are getting a no response error, maybe try adding a sleep step with time.sleep(1)."
   ]
  },
  {
   "cell_type": "code",
   "execution_count": 66,
   "metadata": {
    "collapsed": true
   },
   "outputs": [],
   "source": [
    "two_star_titles = []\n",
    "\n",
    "for n in range(1,51):\n",
    "\n",
    "    scrape_url = base_url.format(n)\n",
    "    res = requests.get(scrape_url)\n",
    "    \n",
    "    soup = bs4.BeautifulSoup(res.text,\"lxml\")\n",
    "    books = soup.select(\".product_pod\")\n",
    "    \n",
    "    for book in books:\n",
    "        if len(book.select('.star-rating.Two')) != 0:\n",
    "            two_star_titles.append(book.select('a')[1]['title'])"
   ]
  },
  {
   "cell_type": "code",
   "execution_count": 67,
   "metadata": {},
   "outputs": [
    {
     "data": {
      "text/plain": [
       "['Starving Hearts (Triangular Trade Trilogy, #1)',\n",
       " 'Libertarianism for Beginners',\n",
       " \"It's Only the Himalayas\",\n",
       " 'How Music Works',\n",
       " 'Maude (1883-1993):She Grew Up with the country',\n",
       " \"You can't bury them all: Poems\",\n",
       " 'Reasons to Stay Alive',\n",
       " 'Without Borders (Wanderlove #1)',\n",
       " 'Soul Reader',\n",
       " 'Security',\n",
       " 'Saga, Volume 5 (Saga (Collected Editions) #5)',\n",
       " 'Reskilling America: Learning to Labor in the Twenty-First Century',\n",
       " 'Political Suicide: Missteps, Peccadilloes, Bad Calls, Backroom Hijinx, Sordid Pasts, Rotten Breaks, and Just Plain Dumb Mistakes in the Annals of American Politics',\n",
       " 'Obsidian (Lux #1)',\n",
       " 'My Paris Kitchen: Recipes and Stories',\n",
       " 'Masks and Shadows',\n",
       " 'Lumberjanes, Vol. 2: Friendship to the Max (Lumberjanes #5-8)',\n",
       " 'Lumberjanes Vol. 3: A Terrible Plan (Lumberjanes #9-12)',\n",
       " 'Judo: Seven Steps to Black Belt (an Introductory Guide for Beginners)',\n",
       " 'I Hate Fairyland, Vol. 1: Madly Ever After (I Hate Fairyland (Compilations) #1-5)',\n",
       " 'Giant Days, Vol. 2 (Giant Days #5-8)',\n",
       " 'Everydata: The Misinformation Hidden in the Little Data You Consume Every Day',\n",
       " \"Don't Be a Jerk: And Other Practical Advice from Dogen, Japan's Greatest Zen Master\",\n",
       " 'Bossypants',\n",
       " 'Bitch Planet, Vol. 1: Extraordinary Machine (Bitch Planet (Collected Editions))',\n",
       " 'Avatar: The Last Airbender: Smoke and Shadow, Part 3 (Smoke and Shadow #3)',\n",
       " 'Tuesday Nights in 1980',\n",
       " 'The Psychopath Test: A Journey Through the Madness Industry',\n",
       " 'The Power of Now: A Guide to Spiritual Enlightenment',\n",
       " \"The Omnivore's Dilemma: A Natural History of Four Meals\",\n",
       " 'The Love and Lemons Cookbook: An Apple-to-Zucchini Celebration of Impromptu Cooking',\n",
       " 'The Girl on the Train',\n",
       " 'The Emerald Mystery',\n",
       " 'The Argonauts',\n",
       " 'Suddenly in Love (Lake Haven #1)',\n",
       " 'Soft Apocalypse',\n",
       " \"So You've Been Publicly Shamed\",\n",
       " 'Shoe Dog: A Memoir by the Creator of NIKE',\n",
       " 'Louisa: The Extraordinary Life of Mrs. Adams',\n",
       " 'Large Print Heart of the Pride',\n",
       " 'Grumbles',\n",
       " 'Chasing Heaven: What Dying Taught Me About Living',\n",
       " 'Becoming Wise: An Inquiry into the Mystery and Art of Living',\n",
       " 'Beauty Restored (Riley Family Legacy Novellas #3)',\n",
       " 'Batman: The Long Halloween (Batman)',\n",
       " \"Ayumi's Violin\",\n",
       " 'Wild Swans',\n",
       " \"What's It Like in Space?: Stories from Astronauts Who've Been There\",\n",
       " 'Until Friday Night (The Field Party #1)',\n",
       " 'Unbroken: A World War II Story of Survival, Resilience, and Redemption',\n",
       " 'Twenty Yawns',\n",
       " 'Through the Woods',\n",
       " 'This Is Where It Ends',\n",
       " 'The Year of Magical Thinking',\n",
       " 'The Last Mile (Amos Decker #2)',\n",
       " 'The Immortal Life of Henrietta Lacks',\n",
       " 'The Hidden Oracle (The Trials of Apollo #1)',\n",
       " 'The Guilty (Will Robie #4)',\n",
       " 'Red Hood/Arsenal, Vol. 1: Open for Business (Red Hood/Arsenal #1)',\n",
       " 'Once Was a Time',\n",
       " 'No Dream Is Too High: Life Lessons From a Man Who Walked on the Moon',\n",
       " 'Naruto (3-in-1 Edition), Vol. 14: Includes Vols. 40, 41 & 42 (Naruto: Omnibus #14)',\n",
       " 'More Than Music (Chasing the Dream #1)',\n",
       " 'Lowriders to the Center of the Earth (Lowriders in Space #2)',\n",
       " 'Eat Fat, Get Thin',\n",
       " 'Doctor Sleep (The Shining #2)',\n",
       " 'Crazy Love: Overwhelmed by a Relentless God',\n",
       " 'Carrie',\n",
       " 'Batman: Europa',\n",
       " 'Angels Walking (Angels Walking #1)',\n",
       " 'Adulthood Is a Myth: A \"Sarah\\'s Scribbles\" Collection',\n",
       " 'A Study in Scarlet (Sherlock Holmes #1)',\n",
       " 'A Series of Catastrophes and Miracles: A True Story of Love, Science, and Cancer',\n",
       " \"A People's History of the United States\",\n",
       " 'My Kitchen Year: 136 Recipes That Saved My Life',\n",
       " 'The Lonely City: Adventures in the Art of Being Alone',\n",
       " 'The Dinner Party',\n",
       " 'Stars Above (The Lunar Chronicles #4.5)',\n",
       " 'Love, Lies and Spies',\n",
       " 'Troublemaker: Surviving Hollywood and Scientology',\n",
       " 'The Widow',\n",
       " 'Setting the World on Fire: The Brief, Astonishing Life of St. Catherine of Siena',\n",
       " 'Mothering Sunday',\n",
       " 'Lilac Girls',\n",
       " '10% Happier: How I Tamed the Voice in My Head, Reduced Stress Without Losing My Edge, and Found Self-Help That Actually Works',\n",
       " 'Underlying Notes',\n",
       " 'The Flowers Lied',\n",
       " 'Modern Day Fables',\n",
       " \"Chernobyl 01:23:40: The Incredible True Story of the World's Worst Nuclear Disaster\",\n",
       " '23 Degrees South: A Tropical Tale of Changing Whether...',\n",
       " 'When Breath Becomes Air',\n",
       " 'Vagabonding: An Uncommon Guide to the Art of Long-Term World Travel',\n",
       " 'The Martian (The Martian #1)',\n",
       " \"Miller's Valley\",\n",
       " \"Love That Boy: What Two Presidents, Eight Road Trips, and My Son Taught Me About a Parent's Expectations\",\n",
       " 'Left Behind (Left Behind #1)',\n",
       " 'Howl and Other Poems',\n",
       " \"Heaven is for Real: A Little Boy's Astounding Story of His Trip to Heaven and Back\",\n",
       " \"Brazen: The Courage to Find the You That's Been Hiding\",\n",
       " '32 Yolks',\n",
       " 'Wildlife of New York: A Five-Borough Coloring Book',\n",
       " 'Unreasonable Hope: Finding Faith in the God Who Brings Purpose to Your Pain',\n",
       " 'The Art Book',\n",
       " 'Steal Like an Artist: 10 Things Nobody Told You About Being Creative',\n",
       " 'Raymie Nightingale',\n",
       " 'Like Never Before (Walker Family #2)',\n",
       " 'How to Be a Domestic Goddess: Baking and the Art of Comfort Cooking',\n",
       " 'Finding God in the Ruins: How God Redeems Pain',\n",
       " 'Chronicles, Vol. 1',\n",
       " 'A Summer In Europe',\n",
       " 'The Rise and Fall of the Third Reich: A History of Nazi Germany',\n",
       " 'The Makings of a Fatherless Child',\n",
       " 'The Fellowship of the Ring (The Lord of the Rings #1)',\n",
       " \"Tell the Wolves I'm Home\",\n",
       " 'In the Woods (Dublin Murder Squad #1)',\n",
       " 'Give It Back',\n",
       " 'Why Save the Bankers?: And Other Essays on Our Economic and Political Crisis',\n",
       " 'The Raven King (The Raven Cycle #4)',\n",
       " 'The Expatriates',\n",
       " 'The 5th Wave (The 5th Wave #1)',\n",
       " 'Peak: Secrets from the New Science of Expertise',\n",
       " 'Logan Kade (Fallen Crest High #5.5)',\n",
       " \"I Know Why the Caged Bird Sings (Maya Angelou's Autobiography #1)\",\n",
       " 'Drama',\n",
       " \"America's War for the Greater Middle East: A Military History\",\n",
       " 'A Game of Thrones (A Song of Ice and Fire #1)',\n",
       " \"The Pilgrim's Progress\",\n",
       " 'The Hound of the Baskervilles (Sherlock Holmes #5)',\n",
       " \"The Geography of Bliss: One Grump's Search for the Happiest Places in the World\",\n",
       " 'The Demonists (Demonist #1)',\n",
       " 'The Demon Prince of Momochi House, Vol. 4 (The Demon Prince of Momochi House #4)',\n",
       " 'Misery',\n",
       " 'Far From True (Promise Falls Trilogy #2)',\n",
       " 'Confessions of a Shopaholic (Shopaholic #1)',\n",
       " 'Vegan Vegetarian Omnivore: Dinner for Everyone at the Table',\n",
       " 'Two Boys Kissing',\n",
       " 'Twilight (Twilight #1)',\n",
       " 'Twenties Girl',\n",
       " 'The Tipping Point: How Little Things Can Make a Big Difference',\n",
       " 'The Stand',\n",
       " 'The Picture of Dorian Gray',\n",
       " 'The Name of God is Mercy',\n",
       " \"The Lover's Dictionary\",\n",
       " 'The Last Painting of Sara de Vos',\n",
       " 'The Guns of August',\n",
       " 'The Girl Who Played with Fire (Millennium Trilogy #2)',\n",
       " 'The Da Vinci Code (Robert Langdon #2)',\n",
       " 'The Cat in the Hat (Beginner Books B-1)',\n",
       " 'The Book Thief',\n",
       " 'The Autobiography of Malcolm X',\n",
       " \"Surely You're Joking, Mr. Feynman!: Adventures of a Curious Character\",\n",
       " 'Soldier (Talon #3)',\n",
       " 'Shopaholic & Baby (Shopaholic #5)',\n",
       " 'Seven Days in the Art World',\n",
       " 'Rework',\n",
       " 'Packing for Mars: The Curious Science of Life in the Void',\n",
       " 'Orange Is the New Black',\n",
       " 'One for the Money (Stephanie Plum #1)',\n",
       " 'Midnight Riot (Peter Grant/ Rivers of London - books #1)',\n",
       " 'Me Talk Pretty One Day',\n",
       " 'Manuscript Found in Accra',\n",
       " 'Lust & Wonder',\n",
       " \"Life, the Universe and Everything (Hitchhiker's Guide to the Galaxy #3)\",\n",
       " 'Life After Life',\n",
       " 'I Am Malala: The Girl Who Stood Up for Education and Was Shot by the Taliban',\n",
       " 'House of Lost Worlds: Dinosaurs, Dynasties, and the Story of Life on Earth',\n",
       " 'Horrible Bear!',\n",
       " 'Holidays on Ice',\n",
       " 'Girl in the Blue Coat',\n",
       " 'Fruits Basket, Vol. 3 (Fruits Basket #3)',\n",
       " 'Cosmos',\n",
       " 'Civilization and Its Discontents',\n",
       " \"Catastrophic Happiness: Finding Joy in Childhood's Messy Years\",\n",
       " 'Career of Evil (Cormoran Strike #3)',\n",
       " 'Born to Run: A Hidden Tribe, Superathletes, and the Greatest Race the World Has Never Seen',\n",
       " \"Best of My Love (Fool's Gold #20)\",\n",
       " 'Beowulf',\n",
       " 'Awkward',\n",
       " 'And Then There Were None',\n",
       " 'A Storm of Swords (A Song of Ice and Fire #3)',\n",
       " 'The Suffragettes (Little Black Classics, #96)',\n",
       " 'Vampire Girl (Vampire Girl #1)',\n",
       " 'Three Wishes (River of Time: California #1)',\n",
       " 'The Wicked + The Divine, Vol. 1: The Faust Act (The Wicked + The Divine)',\n",
       " 'The Little Prince',\n",
       " 'The Last Girl (The Dominion Trilogy #1)',\n",
       " 'Taking Shots (Assassins #1)',\n",
       " 'Settling the Score (The Summer Games #1)',\n",
       " 'Rhythm, Chord & Malykhin',\n",
       " 'One Second (Seven #7)',\n",
       " \"Old Records Never Die: One Man's Quest for His Vinyl and His Past\",\n",
       " 'Of Mice and Men',\n",
       " 'My Perfect Mistake (Over the Top #1)',\n",
       " 'Meditations',\n",
       " 'Frankenstein',\n",
       " 'Emma']"
      ]
     },
     "execution_count": 67,
     "metadata": {},
     "output_type": "execute_result"
    }
   ],
   "source": [
    "two_star_titles"
   ]
  },
  {
   "cell_type": "markdown",
   "metadata": {},
   "source": [
    "** Excellent! You should now have the tools necessary to scrape any websites that interest you! Keep in mind, the more complex the website, the harder it will be to scrape. Always ask for permission! **"
   ]
  }
 ],
 "metadata": {
  "anaconda-cloud": {},
  "kernelspec": {
   "display_name": "Python 3",
   "language": "python",
   "name": "python3"
  },
  "language_info": {
   "codemirror_mode": {
    "name": "ipython",
    "version": 3
   },
   "file_extension": ".py",
   "mimetype": "text/x-python",
   "name": "python",
   "nbconvert_exporter": "python",
   "pygments_lexer": "ipython3",
   "version": "3.12.2"
  }
 },
 "nbformat": 4,
 "nbformat_minor": 2
}
