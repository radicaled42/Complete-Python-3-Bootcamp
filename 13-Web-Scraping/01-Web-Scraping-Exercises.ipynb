{
 "cells": [
  {
   "cell_type": "markdown",
   "metadata": {},
   "source": [
    "___\n",
    "\n",
    "<a href='https://www.udemy.com/user/joseportilla/'><img src='../Pierian_Data_Logo.png'/></a>\n",
    "___\n",
    "<center><em>Content Copyright by Pierian Data</em></center>"
   ]
  },
  {
   "cell_type": "markdown",
   "metadata": {},
   "source": [
    "# Web Scraping Exercises \n",
    "\n",
    "## Complete the Tasks Below"
   ]
  },
  {
   "cell_type": "markdown",
   "metadata": {},
   "source": [
    "**TASK: Import any libraries you think you'll need to scrape a website.**"
   ]
  },
  {
   "cell_type": "code",
   "execution_count": 1,
   "metadata": {
    "collapsed": true
   },
   "outputs": [],
   "source": [
    "# CODE HERE\n",
    "import requests\n",
    "import bs4"
   ]
  },
  {
   "cell_type": "code",
   "execution_count": null,
   "metadata": {
    "collapsed": true
   },
   "outputs": [],
   "source": []
  },
  {
   "cell_type": "markdown",
   "metadata": {},
   "source": [
    "**TASK: Use requests library and BeautifulSoup to connect to http://quotes.toscrape.com/ and get the HMTL text from the homepage.**"
   ]
  },
  {
   "cell_type": "code",
   "execution_count": 27,
   "metadata": {
    "collapsed": true
   },
   "outputs": [],
   "source": [
    "base = \"https://quotes.toscrape.com/page/11\""
   ]
  },
  {
   "cell_type": "code",
   "execution_count": 28,
   "metadata": {
    "collapsed": true
   },
   "outputs": [],
   "source": [
    "res = requests.get(base)\n",
    "soup = bs4.BeautifulSoup(res.text,\"lxml\")"
   ]
  },
  {
   "cell_type": "code",
   "execution_count": 33,
   "metadata": {},
   "outputs": [
    {
     "data": {
      "text/plain": [
       "True"
      ]
     },
     "execution_count": 33,
     "metadata": {},
     "output_type": "execute_result"
    }
   ],
   "source": [
    "\"No quotes found\" in soup.select(\".col-md-8\")[1].get_text()"
   ]
  },
  {
   "cell_type": "markdown",
   "metadata": {},
   "source": [
    "**TASK: Get the names of all the authors on the first page.**"
   ]
  },
  {
   "cell_type": "code",
   "execution_count": 9,
   "metadata": {
    "collapsed": true
   },
   "outputs": [],
   "source": [
    "base_url = \"https://quotes.toscrape.com/page/1\"\n",
    "res = requests.get(base_url)\n",
    "soup = bs4.BeautifulSoup(res.text,\"lxml\")\n"
   ]
  },
  {
   "cell_type": "code",
   "execution_count": 12,
   "metadata": {},
   "outputs": [
    {
     "data": {
      "text/plain": [
       "['Albert Einstein',\n",
       " 'J.K. Rowling',\n",
       " 'Albert Einstein',\n",
       " 'Jane Austen',\n",
       " 'Marilyn Monroe',\n",
       " 'Albert Einstein',\n",
       " 'André Gide',\n",
       " 'Thomas A. Edison',\n",
       " 'Eleanor Roosevelt',\n",
       " 'Steve Martin']"
      ]
     },
     "execution_count": 12,
     "metadata": {},
     "output_type": "execute_result"
    }
   ],
   "source": [
    "authors = []\n",
    "for author in soup.select(\".author\"):\n",
    "    authors.append(author.get_text())\n",
    "authors"
   ]
  },
  {
   "cell_type": "markdown",
   "metadata": {},
   "source": [
    "**TASK: Create a list of all the quotes on the first page.**"
   ]
  },
  {
   "cell_type": "code",
   "execution_count": 14,
   "metadata": {
    "collapsed": true
   },
   "outputs": [],
   "source": [
    "base_url = \"https://quotes.toscrape.com/page/1\"\n",
    "res = requests.get(base_url)\n",
    "soup = bs4.BeautifulSoup(res.text,\"lxml\")"
   ]
  },
  {
   "cell_type": "code",
   "execution_count": 20,
   "metadata": {},
   "outputs": [
    {
     "data": {
      "text/plain": [
       "['“The world as we have created it is a process of our thinking. It cannot be changed without changing our thinking.”',\n",
       " '“It is our choices, Harry, that show what we truly are, far more than our abilities.”',\n",
       " '“There are only two ways to live your life. One is as though nothing is a miracle. The other is as though everything is a miracle.”',\n",
       " '“The person, be it gentleman or lady, who has not pleasure in a good novel, must be intolerably stupid.”',\n",
       " \"“Imperfection is beauty, madness is genius and it's better to be absolutely ridiculous than absolutely boring.”\",\n",
       " '“Try not to become a man of success. Rather become a man of value.”',\n",
       " '“It is better to be hated for what you are than to be loved for what you are not.”',\n",
       " \"“I have not failed. I've just found 10,000 ways that won't work.”\",\n",
       " \"“A woman is like a tea bag; you never know how strong it is until it's in hot water.”\",\n",
       " '“A day without sunshine is like, you know, night.”']"
      ]
     },
     "execution_count": 20,
     "metadata": {},
     "output_type": "execute_result"
    }
   ],
   "source": [
    "quotes = []\n",
    "for quote in soup.select(\".text\"):\n",
    "    quotes.append(quote.get_text())\n",
    "quotes\n"
   ]
  },
  {
   "cell_type": "markdown",
   "metadata": {},
   "source": [
    "**TASK: Inspect the site and use Beautiful Soup to extract the top ten tags from the requests text shown on the top right from the home page (e.g Love,Inspirational,Life, etc...). HINT: Keep in mind there are also tags underneath each quote, try to find a class only present in the top right tags, perhaps check the span.**"
   ]
  },
  {
   "cell_type": "code",
   "execution_count": 22,
   "metadata": {
    "collapsed": true
   },
   "outputs": [],
   "source": [
    "base_url = \"https://quotes.toscrape.com/page/1\"\n",
    "res = requests.get(base_url)\n",
    "soup = bs4.BeautifulSoup(res.text,\"lxml\")"
   ]
  },
  {
   "cell_type": "code",
   "execution_count": 26,
   "metadata": {},
   "outputs": [
    {
     "data": {
      "text/plain": [
       "['\\nlove\\n',\n",
       " '\\ninspirational\\n',\n",
       " '\\nlife\\n',\n",
       " '\\nhumor\\n',\n",
       " '\\nbooks\\n',\n",
       " '\\nreading\\n',\n",
       " '\\nfriendship\\n',\n",
       " '\\nfriends\\n',\n",
       " '\\ntruth\\n',\n",
       " '\\nsimile\\n']"
      ]
     },
     "execution_count": 26,
     "metadata": {},
     "output_type": "execute_result"
    }
   ],
   "source": [
    "top_ten = []\n",
    "for tag in soup.select(\".tag-item\"):\n",
    "    top_ten.append(tag.get_text())\n",
    "top_ten"
   ]
  },
  {
   "cell_type": "markdown",
   "metadata": {},
   "source": [
    "**TASK: Notice how there is more than one page, and subsequent pages look like this http://quotes.toscrape.com/page/2/. Use what you know about for loops and string concatenation to loop through all the pages and get all the unique authors on the website. Keep in mind there are many ways to achieve this, also note that you will need to somehow figure out how to check that your loop is on the last page with quotes. For debugging purposes, I will let you know that there are only 10 pages, so the last page is http://quotes.toscrape.com/page/10/, but try to create a loop that is robust enough that it wouldn't matter to know the amount of pages beforehand, perhaps use try/except for this, its up to you!**"
   ]
  },
  {
   "cell_type": "code",
   "execution_count": 36,
   "metadata": {
    "collapsed": true
   },
   "outputs": [
    {
     "name": "stdout",
     "output_type": "stream",
     "text": [
      "Scraping page: 1\n",
      "Scraping page: 2\n",
      "Scraping page: 3\n",
      "Scraping page: 4\n",
      "Scraping page: 5\n",
      "Scraping page: 6\n",
      "Scraping page: 7\n",
      "Scraping page: 8\n",
      "Scraping page: 9\n",
      "Scraping page: 10\n",
      "Scraping page: 11\n",
      "100\n",
      "50\n"
     ]
    },
    {
     "data": {
      "text/plain": [
       "['Jorge Luis Borges',\n",
       " 'Ernest Hemingway',\n",
       " 'William Nicholson',\n",
       " 'George Carlin',\n",
       " 'Jimi Hendrix',\n",
       " 'Harper Lee',\n",
       " 'Garrison Keillor',\n",
       " 'J.K. Rowling',\n",
       " 'Marilyn Monroe',\n",
       " 'Mother Teresa',\n",
       " 'Mark Twain',\n",
       " 'George Eliot',\n",
       " 'Martin Luther King Jr.',\n",
       " 'Suzanne Collins',\n",
       " 'Jim Henson',\n",
       " 'Stephenie Meyer',\n",
       " 'Helen Keller',\n",
       " 'C.S. Lewis',\n",
       " 'Charles Bukowski',\n",
       " 'Pablo Neruda',\n",
       " 'Friedrich Nietzsche',\n",
       " 'Terry Pratchett',\n",
       " 'Ayn Rand',\n",
       " 'Douglas Adams',\n",
       " 'George R.R. Martin',\n",
       " 'Charles M. Schulz',\n",
       " 'Thomas A. Edison',\n",
       " 'Alexandre Dumas fils',\n",
       " 'W.C. Fields',\n",
       " 'Alfred Tennyson',\n",
       " 'Ralph Waldo Emerson',\n",
       " 'Elie Wiesel',\n",
       " 'Haruki Murakami',\n",
       " 'George Bernard Shaw',\n",
       " 'Steve Martin',\n",
       " 'John Lennon',\n",
       " 'Allen Saunders',\n",
       " 'André Gide',\n",
       " 'J.R.R. Tolkien',\n",
       " \"Madeleine L'Engle\",\n",
       " 'James Baldwin',\n",
       " 'Khaled Hosseini',\n",
       " 'Bob Marley',\n",
       " 'Jane Austen',\n",
       " 'J.D. Salinger',\n",
       " 'Eleanor Roosevelt',\n",
       " 'E.E. Cummings',\n",
       " 'Dr. Seuss',\n",
       " 'Albert Einstein',\n",
       " 'J.M. Barrie']"
      ]
     },
     "execution_count": 36,
     "metadata": {},
     "output_type": "execute_result"
    }
   ],
   "source": [
    "authors = []\n",
    "base_url = \"https://quotes.toscrape.com/page/{}\"\n",
    "\n",
    "enough_pages = True\n",
    "index_page = 1\n",
    "\n",
    "while enough_pages:\n",
    "    res = requests.get(base_url.format(index_page))\n",
    "    soup = bs4.BeautifulSoup(res.text,\"lxml\")\n",
    "\n",
    "    for author in soup.select(\".author\"):\n",
    "        authors.append(author.get_text())\n",
    "    \n",
    "    print(f\"Scraping page: {index_page}\")\n",
    "    index_page += 1\n",
    "    # check if the page in the index n contains \"No quotes found!\" and then turn enough_pages=false\n",
    "    if \"No quotes found\" in soup.select(\".col-md-8\")[1].get_text():\n",
    "        enough_pages = False\n",
    "        break\n",
    "\n",
    "print(len(authors))\n",
    "unique_authors = list(set(authors))\n",
    "print(len(unique_authors))\n",
    "unique_authors"
   ]
  },
  {
   "cell_type": "markdown",
   "metadata": {},
   "source": [
    "There are lots of other potential solutions that are even more robust and flexible, the main idea is the same though, use a while loop to cycle through potential pages and have a break condition based on the invalid page."
   ]
  }
 ],
 "metadata": {
  "kernelspec": {
   "display_name": "Python 3",
   "language": "python",
   "name": "python3"
  },
  "language_info": {
   "codemirror_mode": {
    "name": "ipython",
    "version": 3
   },
   "file_extension": ".py",
   "mimetype": "text/x-python",
   "name": "python",
   "nbconvert_exporter": "python",
   "pygments_lexer": "ipython3",
   "version": "3.12.2"
  }
 },
 "nbformat": 4,
 "nbformat_minor": 2
}
