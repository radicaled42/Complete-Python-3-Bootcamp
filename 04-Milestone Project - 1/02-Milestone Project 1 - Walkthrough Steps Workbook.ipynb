{
 "cells": [
  {
   "cell_type": "markdown",
   "metadata": {},
   "source": [
    "___\n",
    "\n",
    "<a href='https://www.udemy.com/user/joseportilla/'><img src='../Pierian_Data_Logo.png'/></a>\n",
    "___\n",
    "<center><em>Content Copyright by Pierian Data</em></center>"
   ]
  },
  {
   "cell_type": "markdown",
   "metadata": {},
   "source": [
    "# Milestone Project 1: Walkthrough Steps Workbook\n",
    "\n",
    "Below is a set of steps for you to follow to try to create the Tic Tac Toe Milestone Project game!"
   ]
  },
  {
   "cell_type": "markdown",
   "metadata": {},
   "source": [
    "#### Some suggested tools before you get started:\n",
    "To take input from a user:\n",
    "\n",
    "    player1 = input(\"Please pick a marker 'X' or 'O'\")\n",
    "    \n",
    "Note that input() takes in a string. If you need an integer value, use\n",
    "\n",
    "    position = int(input('Please enter a number'))\n",
    "    \n",
    "<br>To clear the screen between moves:\n",
    "\n",
    "    from IPython.display import clear_output\n",
    "    clear_output()\n",
    "    \n",
    "Note that clear_output() will only work in jupyter. To clear the screen in other IDEs, consider:\n",
    "\n",
    "    print('\\n'*100)\n",
    "    \n",
    "This scrolls the previous board up out of view. Now on to the program!"
   ]
  },
  {
   "cell_type": "markdown",
   "metadata": {},
   "source": [
    "**Step 1: Write a function that can print out a board. Set up your board as a list, where each index 1-9 corresponds with a number on a number pad, so you get a 3 by 3 board representation.**"
   ]
  },
  {
   "cell_type": "code",
   "execution_count": 3,
   "metadata": {
    "collapsed": true
   },
   "outputs": [],
   "source": [
    "from IPython.display import clear_output\n",
    "\n",
    "def display_board(board):\n",
    "    print(f\" {board[6]}  |  {board[7]}  |  {board[8]}\")\n",
    "    print(f\"--- | --- | ---\")\n",
    "    print(f\" {board[3]}  |  {board[4]}  |  {board[5]}\")\n",
    "    print(f\"--- | --- | ---\")\n",
    "    print(f\" {board[0]}  |  {board[1]}  |  {board[2]}\")\n"
   ]
  },
  {
   "cell_type": "markdown",
   "metadata": {},
   "source": [
    "**TEST Step 1:** run your function on a test version of the board list, and make adjustments as necessary"
   ]
  },
  {
   "cell_type": "code",
   "execution_count": 4,
   "metadata": {
    "collapsed": true
   },
   "outputs": [
    {
     "name": "stdout",
     "output_type": "stream",
     "text": [
      " O  |  X  |  O\n",
      "--- | --- | ---\n",
      " X  |  O  |  X\n",
      "--- | --- | ---\n",
      " X  |  X  |  O\n"
     ]
    }
   ],
   "source": [
    "test_board = ['X','X','O','X','O','X','O','X','O','X']\n",
    "display_board(test_board)"
   ]
  },
  {
   "cell_type": "markdown",
   "metadata": {},
   "source": [
    "**Step 2: Write a function that can take in a player input and assign their marker as 'X' or 'O'. Think about using *while* loops to continually ask until you get a correct answer.**"
   ]
  },
  {
   "cell_type": "code",
   "execution_count": 5,
   "metadata": {
    "collapsed": true
   },
   "outputs": [],
   "source": [
    "def player_input():\n",
    "    choice = 'wrong'\n",
    "    \n",
    "    while choice not in ['X', 'O']:\n",
    "        \n",
    "        choice = input(\"Choose X or O: \")\n",
    "\n",
    "        if choice not in ['X', 'O']:\n",
    "            print(\"You selected incorrectly, please select X or O\")\n",
    "    \n",
    "    if choice == 'X':\n",
    "        return ('X', 'O')\n",
    "    else:\n",
    "        return ('O', 'X')"
   ]
  },
  {
   "cell_type": "markdown",
   "metadata": {},
   "source": [
    "**TEST Step 2:** run the function to make sure it returns the desired output"
   ]
  },
  {
   "cell_type": "code",
   "execution_count": 6,
   "metadata": {
    "collapsed": true
   },
   "outputs": [
    {
     "data": {
      "text/plain": [
       "('X', 'O')"
      ]
     },
     "execution_count": 6,
     "metadata": {},
     "output_type": "execute_result"
    }
   ],
   "source": [
    "player_input()"
   ]
  },
  {
   "cell_type": "markdown",
   "metadata": {},
   "source": [
    "**Step 3: Write a function that takes in the board list object, a marker ('X' or 'O'), and a desired position (number 1-9) and assigns it to the board.**"
   ]
  },
  {
   "cell_type": "code",
   "execution_count": 7,
   "metadata": {
    "collapsed": true
   },
   "outputs": [],
   "source": [
    "def place_marker(board, marker, position):\n",
    "    board[position - 1] = marker\n",
    "    return board"
   ]
  },
  {
   "cell_type": "markdown",
   "metadata": {},
   "source": [
    "**TEST Step 3:** run the place marker function using test parameters and display the modified board"
   ]
  },
  {
   "cell_type": "code",
   "execution_count": 8,
   "metadata": {
    "collapsed": true
   },
   "outputs": [
    {
     "name": "stdout",
     "output_type": "stream",
     "text": [
      " O  |  $  |  O\n",
      "--- | --- | ---\n",
      " X  |  O  |  X\n",
      "--- | --- | ---\n",
      " X  |  X  |  O\n"
     ]
    }
   ],
   "source": [
    "place_marker(test_board,'$',8)\n",
    "display_board(test_board)"
   ]
  },
  {
   "cell_type": "markdown",
   "metadata": {},
   "source": [
    "**Step 4: Write a function that takes in a board and a mark (X or O) and then checks to see if that mark has won. **"
   ]
  },
  {
   "cell_type": "code",
   "execution_count": 9,
   "metadata": {
    "collapsed": true
   },
   "outputs": [],
   "source": [
    "def win_check(board, mark):\n",
    "    possible_win = [['1','2','3'], ['4', '5', '6'],['7', '8', '9'],['1', '4', '7'],['2', '5', '8'],['3', '6', '9'],['7', '5', '3'],['9', '5', '1']]\n",
    "    for index, item in enumerate(board):\n",
    "        possition = str(index + 1)\n",
    "        if item == mark:\n",
    "            for win in possible_win:\n",
    "                if possition in win:\n",
    "                    win.remove(possition)\n",
    "    for win in possible_win:\n",
    "        if not win:\n",
    "            return True\n",
    "        \n",
    "    return False\n"
   ]
  },
  {
   "cell_type": "markdown",
   "metadata": {},
   "source": [
    "**TEST Step 4:** run the win_check function against our test_board - it should return True"
   ]
  },
  {
   "cell_type": "code",
   "execution_count": 10,
   "metadata": {
    "collapsed": true
   },
   "outputs": [
    {
     "data": {
      "text/plain": [
       "True"
      ]
     },
     "execution_count": 10,
     "metadata": {},
     "output_type": "execute_result"
    }
   ],
   "source": [
    "win_check(test_board,'O')"
   ]
  },
  {
   "cell_type": "markdown",
   "metadata": {},
   "source": [
    "**Step 5: Write a function that uses the random module to randomly decide which player goes first. You may want to lookup random.randint() Return a string of which player went first.**"
   ]
  },
  {
   "cell_type": "code",
   "execution_count": 11,
   "metadata": {
    "collapsed": true
   },
   "outputs": [],
   "source": [
    "import random\n",
    "\n",
    "def choose_first():\n",
    "    if random.randint(0,1) == 0:\n",
    "        return 'Player 1'\n",
    "    else:\n",
    "        return 'Player 2'"
   ]
  },
  {
   "cell_type": "markdown",
   "metadata": {},
   "source": [
    "**Step 6: Write a function that returns a boolean indicating whether a space on the board is freely available.**"
   ]
  },
  {
   "cell_type": "code",
   "execution_count": 12,
   "metadata": {
    "collapsed": true
   },
   "outputs": [],
   "source": [
    "def space_check(board, position):\n",
    "    return board[position - 1] == ' '"
   ]
  },
  {
   "cell_type": "markdown",
   "metadata": {},
   "source": [
    "**Step 7: Write a function that checks if the board is full and returns a boolean value. True if full, False otherwise.**"
   ]
  },
  {
   "cell_type": "code",
   "execution_count": 13,
   "metadata": {
    "collapsed": true
   },
   "outputs": [],
   "source": [
    "def full_board_check(board):\n",
    "    if ' ' in board:\n",
    "        return False \n",
    "    else:\n",
    "        return True"
   ]
  },
  {
   "cell_type": "markdown",
   "metadata": {},
   "source": [
    "**Step 8: Write a function that asks for a player's next position (as a number 1-9) and then uses the function from step 6 to check if it's a free position. If it is, then return the position for later use.**"
   ]
  },
  {
   "cell_type": "code",
   "execution_count": 14,
   "metadata": {
    "collapsed": true
   },
   "outputs": [],
   "source": [
    "def player_choice(board):\n",
    "    choice = 'wrong'\n",
    "    \n",
    "    while choice not in [1,2,3,4,5,6,7,8,9]:\n",
    "        print ('HERE')\n",
    "        \n",
    "        choice = int(input(\"Please select a position from 1~9 \"))\n",
    "\n",
    "        if choice not in [1,2,3,4,5,6,7,8,9]:\n",
    "            print(\"You selected incorrectly, please select from 1~9\")\n",
    "        else:\n",
    "            if space_check(board, choice):\n",
    "                return choice"
   ]
  },
  {
   "cell_type": "markdown",
   "metadata": {},
   "source": [
    "**Step 9: Write a function that asks the player if they want to play again and returns a boolean True if they do want to play again.**"
   ]
  },
  {
   "cell_type": "code",
   "execution_count": 15,
   "metadata": {
    "collapsed": true
   },
   "outputs": [],
   "source": [
    "def replay():\n",
    "    choice = 'wrong'\n",
    "    \n",
    "    while choice not in ['Yes', 'No']:\n",
    "        \n",
    "        choice = input(\"Do you want to play again? (Yes or No)\")\n",
    "\n",
    "        if choice not in ['Yes', 'No']:\n",
    "            print(\"You selected incorrectly, please select from 1~9\")\n",
    "\n",
    "    if choice == 'Yes':\n",
    "        return True\n",
    "    else:\n",
    "        return False"
   ]
  },
  {
   "cell_type": "markdown",
   "metadata": {
    "collapsed": true
   },
   "source": [
    "**Step 10: Here comes the hard part! Use while loops and the functions you've made to run the game!**"
   ]
  },
  {
   "cell_type": "code",
   "execution_count": 16,
   "metadata": {
    "collapsed": true
   },
   "outputs": [
    {
     "name": "stdout",
     "output_type": "stream",
     "text": [
      "Welcome to Tic Tac Toe!\n",
      "Player 2 will go first.\n",
      "    |     |   \n",
      "--- | --- | ---\n",
      "    |     |   \n",
      "--- | --- | ---\n",
      "    |     |   \n",
      "HERE\n",
      "    |     |   \n",
      "--- | --- | ---\n",
      "    |     |   \n",
      "--- | --- | ---\n",
      "    |  O  |   \n",
      "HERE\n",
      "    |     |   \n",
      "--- | --- | ---\n",
      " X  |     |   \n",
      "--- | --- | ---\n",
      "    |  O  |   \n",
      "HERE\n",
      "    |     |   \n",
      "--- | --- | ---\n",
      " X  |  O  |   \n",
      "--- | --- | ---\n",
      "    |  O  |   \n",
      "HERE\n",
      "    |  X  |   \n",
      "--- | --- | ---\n",
      " X  |  O  |   \n",
      "--- | --- | ---\n",
      "    |  O  |   \n",
      "HERE\n",
      "    |  X  |  O\n",
      "--- | --- | ---\n",
      " X  |  O  |   \n",
      "--- | --- | ---\n",
      "    |  O  |   \n",
      "HERE\n",
      "    |  X  |  O\n",
      "--- | --- | ---\n",
      " X  |  O  |   \n",
      "--- | --- | ---\n",
      " X  |  O  |   \n",
      "HERE\n",
      "    |  X  |  O\n",
      "--- | --- | ---\n",
      " X  |  O  |   \n",
      "--- | --- | ---\n",
      " X  |  O  |  O\n",
      "HERE\n",
      " X  |  X  |  O\n",
      "--- | --- | ---\n",
      " X  |  O  |   \n",
      "--- | --- | ---\n",
      " X  |  O  |  O\n",
      "Player 1 Winner\n"
     ]
    }
   ],
   "source": [
    "print('Welcome to Tic Tac Toe!')\n",
    "\n",
    "while True:\n",
    "    game_board = [' '] * 10\n",
    "    player1_marker, player2_marker = player_input()\n",
    "    turn = choose_first()\n",
    "    print(turn + ' will go first.')\n",
    "    \n",
    "    play_game = input('Are you ready to play? Enter Yes or No.')\n",
    "    \n",
    "    if play_game.lower()[0] == 'y':\n",
    "        game_on = True\n",
    "    else:\n",
    "        game_on = False\n",
    "\n",
    "    while game_on:\n",
    "        if turn == 'Player 1':\n",
    "            display_board(game_board)\n",
    "            position = player_choice(game_board)\n",
    "            place_marker(game_board, player1_marker, position)\n",
    "\n",
    "            if win_check(game_board, player1_marker):\n",
    "                display_board(game_board)\n",
    "                print(\"Player 1 Winner\")\n",
    "                game_on = False\n",
    "            else:\n",
    "                if full_board_check(game_board):\n",
    "                    display_board(game_board)\n",
    "                    print(\"Its a tie\")\n",
    "                    break\n",
    "                else:\n",
    "                    turn = 'Player 2'\n",
    "        else:\n",
    "            display_board(game_board)\n",
    "            position = player_choice(game_board)\n",
    "            place_marker(game_board, player2_marker, position)\n",
    "\n",
    "            if win_check(game_board, player2_marker):\n",
    "                display_board(game_board)\n",
    "                print(\"Player 2 Winner\")\n",
    "                game_on = False\n",
    "            else:\n",
    "                if full_board_check(game_board):\n",
    "                    display_board(game_board)\n",
    "                    print(\"Its a tie\")\n",
    "                    break\n",
    "                else:\n",
    "                    turn = 'Player 1'\n",
    "\n",
    "    if not replay():\n",
    "        break"
   ]
  },
  {
   "cell_type": "markdown",
   "metadata": {
    "collapsed": true
   },
   "source": [
    "## Good Job!"
   ]
  }
 ],
 "metadata": {
  "kernelspec": {
   "display_name": "Python 3",
   "language": "python",
   "name": "python3"
  },
  "language_info": {
   "codemirror_mode": {
    "name": "ipython",
    "version": 3
   },
   "file_extension": ".py",
   "mimetype": "text/x-python",
   "name": "python",
   "nbconvert_exporter": "python",
   "pygments_lexer": "ipython3",
   "version": "3.12.2"
  }
 },
 "nbformat": 4,
 "nbformat_minor": 1
}
