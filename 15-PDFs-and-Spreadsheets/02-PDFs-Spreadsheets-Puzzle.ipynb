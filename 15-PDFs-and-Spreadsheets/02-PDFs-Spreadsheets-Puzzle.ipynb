{
 "cells": [
  {
   "cell_type": "markdown",
   "metadata": {},
   "source": [
    "___\n",
    "\n",
    "<a href='https://www.udemy.com/user/joseportilla/'><img src='../Pierian_Data_Logo.png'/></a>\n",
    "___\n",
    "<center><em>Content Copyright by Pierian Data</em></center>"
   ]
  },
  {
   "cell_type": "markdown",
   "metadata": {},
   "source": [
    "# PDFs and Spreadsheets Puzzle Exercise\n",
    "\n",
    "Let's test your skills, the files needed for this puzzle exercise\n",
    "\n",
    "You will need to work with two files for this exercise and solve the following tasks:\n",
    "\n",
    "* Task One: Use Python to extract the Google Drive link from the .csv file. (Hint: Its along the diagonal from top left to bottom right).\n",
    "* Task Two: Download the PDF from the Google Drive link (we already downloaded it for you just in case you can't download from Google Drive) and find the phone number that is in the document. Note: There are different ways of formatting a phone number!"
   ]
  },
  {
   "cell_type": "markdown",
   "metadata": {},
   "source": [
    "## Task One: Grab the Google Drive Link from .csv File"
   ]
  },
  {
   "cell_type": "code",
   "execution_count": 3,
   "metadata": {
    "collapsed": true
   },
   "outputs": [
    {
     "data": {
      "text/plain": [
       "66"
      ]
     },
     "execution_count": 3,
     "metadata": {},
     "output_type": "execute_result"
    }
   ],
   "source": [
    "import csv\n",
    "data = open('./Exercise_Files/find_the_link.csv')\n",
    "csv_data = csv.reader(data)\n",
    "data_lines = list(csv_data)\n"
   ]
  },
  {
   "cell_type": "code",
   "execution_count": 8,
   "metadata": {},
   "outputs": [
    {
     "name": "stdout",
     "output_type": "stream",
     "text": [
      "['h', 't', 't', 'p', 's', ':', '/', '/', 'd', 'r', 'i', 'v', 'e', '.', 'g', 'o', 'o', 'g', 'l', 'e', '.', 'c', 'o', 'm', '/', 'o', 'p', 'e', 'n', '?', 'i', 'd', '=', '1', 'G', '6', 'S', 'E', 'g', 'g', '0', '1', '8', 'U', 'B', '4', '_', '4', 'x', 's', 'A', 'J', 'J', '5', 'T', 'd', 'z', 'r', 'h', 'm', 'X', 'i', 'p', 'r', '4', 'Q']\n",
      "https://drive.google.com/open?id=1G6SEgg018UB4_4xsAJJ5TdzrhmXipr4Q\n"
     ]
    }
   ],
   "source": [
    "len(data_lines)\n",
    "url_list = []\n",
    "for index, line in enumerate(data_lines):\n",
    "    #print (f\"Index: {index}\\nLine: {line}\")\n",
    "    url_list.append(line[index])\n",
    "    #print(f\"Letter: {line[index]}\")\n",
    "print(url_list)\n",
    "url = ''.join(url_list)\n",
    "print(url)"
   ]
  },
  {
   "cell_type": "markdown",
   "metadata": {},
   "source": [
    "## Task Two: Download the PDF from the Google Drive link and find the phone number that is in the document. "
   ]
  },
  {
   "cell_type": "code",
   "execution_count": 18,
   "metadata": {
    "collapsed": true
   },
   "outputs": [
    {
     "name": "stdout",
     "output_type": "stream",
     "text": [
      "505.503.4455\n"
     ]
    }
   ],
   "source": [
    "import PyPDF2\n",
    "import re\n",
    "f = open('./Exercise_Files/Find_the_Phone_Number.pdf','rb')\n",
    "\n",
    "# List of every page's text.\n",
    "# The index will correspond to the page number.\n",
    "pdf_text = []\n",
    "\n",
    "pdf_reader = PyPDF2.PdfReader(f)\n",
    "\n",
    "#page = pdf_reader.pages[13].extract_text()\n",
    "#print ((re.search(r'\\d{3}.\\d{3}.\\d{4}',page)).group())\n",
    "\n",
    "for index in range(len(pdf_reader.pages)):\n",
    "    \n",
    "    page = pdf_reader.pages[index].extract_text()\n",
    "    get_num = re.search(r'\\d{3}.\\d{3}.\\d{4}',page)\n",
    "    if get_num:\n",
    "        print(get_num.group())\n",
    "    #print ((re.search(r'\\d{3}.\\d{3}.\\d{4}',).group())\n",
    "\n"
   ]
  }
 ],
 "metadata": {
  "anaconda-cloud": {},
  "kernelspec": {
   "display_name": "Python 3",
   "language": "python",
   "name": "python3"
  },
  "language_info": {
   "codemirror_mode": {
    "name": "ipython",
    "version": 3
   },
   "file_extension": ".py",
   "mimetype": "text/x-python",
   "name": "python",
   "nbconvert_exporter": "python",
   "pygments_lexer": "ipython3",
   "version": "3.12.2"
  }
 },
 "nbformat": 4,
 "nbformat_minor": 2
}
